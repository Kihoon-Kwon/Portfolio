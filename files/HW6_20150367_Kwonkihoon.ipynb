{
  "nbformat": 4,
  "nbformat_minor": 0,
  "metadata": {
    "colab": {
      "name": "HW6_20150367_Kwonkihoon.ipynb",
      "provenance": [],
      "collapsed_sections": []
    },
    "kernelspec": {
      "name": "python3",
      "display_name": "Python 3"
    }
  },
  "cells": [
    {
      "cell_type": "code",
      "metadata": {
        "colab": {
          "base_uri": "https://localhost:8080/"
        },
        "id": "7D7qtRCcOP5d",
        "outputId": "03b31ef2-3cf8-40c8-b8c8-3ba4d68c7202"
      },
      "source": [
        "#6.7\n",
        "\n",
        "rec=(100,121,120,130,140,120,122,123,190,125)\n",
        "\n",
        "count=0\n",
        "for i in range(9):\n",
        "  if(rec[i]>rec[i+1]):\n",
        "    count+=1\n",
        "\n",
        "print('일일 매출 기록:',rec)\n",
        "print('지난 10일 동안 전일대비 매출이 감소한 날은',count,'일입니다.')\n"
      ],
      "execution_count": null,
      "outputs": [
        {
          "output_type": "stream",
          "text": [
            "일일 매출 기록: (100, 121, 120, 130, 140, 120, 122, 123, 190, 125)\n",
            "지난 10일 동안 전일대비 매출이 감소한 날은 3 일입니다.\n"
          ],
          "name": "stdout"
        }
      ]
    },
    {
      "cell_type": "code",
      "metadata": {
        "colab": {
          "base_uri": "https://localhost:8080/"
        },
        "id": "Da7r6uYvQxQP",
        "outputId": "d2245f71-de6d-4a0b-f6d6-736016fe07d6"
      },
      "source": [
        "#6.8\n",
        "tup=(1,2,5,4,3,2,9,1,4,7,8,9,9)\n",
        "newlist=list(tup) #그냥 그대로 나옴\n",
        "newset=set(tup) # 중복 원소 지워서 나옴\n",
        "newlist2=list(newset) # 중복 원소 지운 거 리스트로 바꿔서 나옴\n",
        "for i in range(8):\n",
        "  newlist.remove(newlist2[i]) # 한번만 등장하는 리스트 요소들 전부 remove\n",
        "\n",
        "dup=set(newlist)\n",
        "print(dup)"
      ],
      "execution_count": 19,
      "outputs": [
        {
          "output_type": "stream",
          "text": [
            "{1, 2, 4, 9}\n"
          ],
          "name": "stdout"
        }
      ]
    },
    {
      "cell_type": "code",
      "metadata": {
        "id": "CXyE0JwjVbob",
        "colab": {
          "base_uri": "https://localhost:8080/"
        },
        "outputId": "5d155076-3fc5-4e4e-dbc1-fb1ce2fed98f"
      },
      "source": [
        "#6.9\n",
        "\n",
        "tup=(1,2,5,4,3,2,1,4,7,8,9,9,3,7,3)\n",
        "dup=set(tup)\n",
        "new_tup=tuple(set(tup))\n",
        "\n",
        "print('주어진 튜플:',tup)\n",
        "print('중복 제거 튜플:',new_tup)"
      ],
      "execution_count": null,
      "outputs": [
        {
          "output_type": "stream",
          "text": [
            "주어진 튜플: (1, 2, 5, 4, 3, 2, 1, 4, 7, 8, 9, 9, 3, 7, 3)\n",
            "중복 제거 튜플: (1, 2, 3, 4, 5, 7, 8, 9)\n"
          ],
          "name": "stdout"
        }
      ]
    },
    {
      "cell_type": "code",
      "metadata": {
        "colab": {
          "base_uri": "https://localhost:8080/"
        },
        "id": "TOGz_eQqenRj",
        "outputId": "b59c425b-9632-4cc2-ab6d-ff9c6f383e4e"
      },
      "source": [
        "#6.10\n",
        "\n",
        "a=(1,2,5,4,3,2,9,4,7,8,9,9,3,7,3)\n",
        "a_list=list(a)\n",
        "b=[]\n",
        "for i in range(15):\n",
        "  b.append(a.count(a_list[i]))\n",
        "b_max=max(b)\n",
        "c=[]\n",
        "for i in range(15):\n",
        "  if(b[i]==b_max) and (a_list[i] not in c):\n",
        "    if(max(a_list)==a_list[i]):\n",
        "      print('가장 많이 나타나는 요소는:',a_list[i])\n",
        "      c.append(a_list[i])\n"
      ],
      "execution_count": null,
      "outputs": [
        {
          "output_type": "stream",
          "text": [
            "가장 많이 나타나는 요소는: 9\n"
          ],
          "name": "stdout"
        }
      ]
    },
    {
      "cell_type": "code",
      "metadata": {
        "colab": {
          "base_uri": "https://localhost:8080/"
        },
        "id": "x0cP6gRBkr4j",
        "outputId": "88428903-6acd-4785-cc1d-f87741a8cc41"
      },
      "source": [
        "#6.11\n",
        "\n",
        "list=[(),1,(),(1,),('a',),('a','b'),((),),('a','b'),'']\n",
        "for i in list:\n",
        "  if(i==() or i==''):\n",
        "    list.remove(i)\n",
        "\n",
        "print(list)"
      ],
      "execution_count": null,
      "outputs": [
        {
          "output_type": "stream",
          "text": [
            "[1, (1,), ('a',), ('a', 'b'), ((),), ('a', 'b')]\n"
          ],
          "name": "stdout"
        }
      ]
    },
    {
      "cell_type": "code",
      "metadata": {
        "colab": {
          "base_uri": "https://localhost:8080/"
        },
        "id": "GYGhJHGso18f",
        "outputId": "73e0cd21-1b21-40cf-df12-bdfaa7430a77"
      },
      "source": [
        "#6.12\n",
        "\n",
        "list=[5,6,3,9,2,12,3,8,7]\n",
        "print('주어진 리스트는=',list)\n",
        "for i in range(9):\n",
        "  if(list[i]==max(list)):\n",
        "    list[0],list[i]=list[i],list[0]\n",
        "\n",
        "print('정렬된 결과는=',list)\n"
      ],
      "execution_count": null,
      "outputs": [
        {
          "output_type": "stream",
          "text": [
            "주어진 리스트는= [5, 6, 3, 9, 2, 12, 3, 8, 7]\n",
            "정렬된 결과는= [12, 6, 3, 9, 2, 5, 3, 8, 7]\n"
          ],
          "name": "stdout"
        }
      ]
    },
    {
      "cell_type": "code",
      "metadata": {
        "id": "Wtork0x2yCH2",
        "colab": {
          "base_uri": "https://localhost:8080/"
        },
        "outputId": "2efaba09-35b1-4ba2-dbe6-de6a6dce9d61"
      },
      "source": [
        "#6.13\n",
        "\n",
        "list=[5,6,3,9,2,12,3,8,7]\n",
        "\n",
        "print('주어진 리스트는=',list)\n",
        "for j in range(len(list)):\n",
        "  k=len(list)-j\n",
        "  for i in range(1,k):\n",
        "    if list[i-1]>=list[i]:\n",
        "      temp=list[i-1]\n",
        "      list[i-1]=list[i]\n",
        "      list[i]=temp\n",
        "\n",
        "print('정렬된 결과는=',list)\n",
        "\n"
      ],
      "execution_count": null,
      "outputs": [
        {
          "output_type": "stream",
          "text": [
            "주어진 리스트는= [5, 6, 3, 9, 2, 12, 3, 8, 7]\n",
            "정렬된 결과는= [2, 3, 3, 5, 6, 7, 8, 9, 12]\n"
          ],
          "name": "stdout"
        }
      ]
    },
    {
      "cell_type": "code",
      "metadata": {
        "id": "XgxFrlxBYCKf",
        "colab": {
          "base_uri": "https://localhost:8080/"
        },
        "outputId": "7e2f4e35-ff74-407e-a60d-4ccb4c53f4ac"
      },
      "source": [
        "#6.14\n",
        "\n",
        "list=[5,6,31,9,2,12,13,8,7]\n",
        "print('정렬 전 리스트:',list)\n",
        "for i in range(len(list)):\n",
        "  for j in range(len(list)-1,i,-1):\n",
        "    if list[j-1]>list[j]:\n",
        "      list[j-1],list[j]=list[j],list[j-1]\n",
        "  print(i+1,'단계:',list)\n"
      ],
      "execution_count": null,
      "outputs": [
        {
          "output_type": "stream",
          "text": [
            "정렬 전 리스트: [5, 6, 31, 9, 2, 12, 13, 8, 7]\n",
            "1 단계: [2, 5, 6, 31, 9, 7, 12, 13, 8]\n",
            "2 단계: [2, 5, 6, 7, 31, 9, 8, 12, 13]\n",
            "3 단계: [2, 5, 6, 7, 8, 31, 9, 12, 13]\n",
            "4 단계: [2, 5, 6, 7, 8, 9, 31, 12, 13]\n",
            "5 단계: [2, 5, 6, 7, 8, 9, 12, 31, 13]\n",
            "6 단계: [2, 5, 6, 7, 8, 9, 12, 13, 31]\n",
            "7 단계: [2, 5, 6, 7, 8, 9, 12, 13, 31]\n",
            "8 단계: [2, 5, 6, 7, 8, 9, 12, 13, 31]\n",
            "9 단계: [2, 5, 6, 7, 8, 9, 12, 13, 31]\n"
          ],
          "name": "stdout"
        }
      ]
    },
    {
      "cell_type": "code",
      "metadata": {
        "colab": {
          "base_uri": "https://localhost:8080/"
        },
        "id": "f2hDL9vB0kUs",
        "outputId": "89bdc6bf-198f-4cb5-989d-24255cb738cd"
      },
      "source": [
        "#6.15\n",
        "\n",
        "tup=(4,5,2,3,8,1,9,0)\n",
        "\n",
        "for i in range(len(tup),0,-1):\n",
        "  print(tup[:i:])"
      ],
      "execution_count": null,
      "outputs": [
        {
          "output_type": "stream",
          "text": [
            "(4, 5, 2, 3, 8, 1, 9, 0)\n",
            "(4, 5, 2, 3, 8, 1, 9)\n",
            "(4, 5, 2, 3, 8, 1)\n",
            "(4, 5, 2, 3, 8)\n",
            "(4, 5, 2, 3)\n",
            "(4, 5, 2)\n",
            "(4, 5)\n",
            "(4,)\n"
          ],
          "name": "stdout"
        }
      ]
    },
    {
      "cell_type": "code",
      "metadata": {
        "colab": {
          "base_uri": "https://localhost:8080/"
        },
        "id": "osHI3sj4-jcZ",
        "outputId": "5a7a3dbd-17e8-45e1-ef23-f7cf05644bf5"
      },
      "source": [
        "#6.16\n",
        "\n",
        "student_tuple=(('191101','홍길동','010-123-45xx'),('191102','임꺽정','010-233-45xx'),('191103','장길산','010-323-45xx'))\n",
        "a=student_tuple[0]\n",
        "b=student_tuple[1]\n",
        "c=student_tuple[2]\n",
        "\n",
        "x=a[:2:]\n",
        "y=b[:2:]\n",
        "z=c[:2:]\n",
        "\n",
        "student_dict=dict((x,y,z))\n",
        "print('학생 정보:',student_dict)\n",
        "for i in student_dict:\n",
        "  num1=input('학번을 입력하세요:')\n",
        "  if(int(num1)<=0):\n",
        "    print('프로그램을 종료합니다.')\n",
        "  elif(num1 not in student_dict):\n",
        "    print('해당 학번의 학생이 없습니다.')\n",
        "  else:\n",
        "    print(num1,'번 학생은',student_dict[num1],'입니다.')"
      ],
      "execution_count": null,
      "outputs": [
        {
          "output_type": "stream",
          "text": [
            "학생 정보: {'191101': '홍길동', '191102': '임꺽정', '191103': '장길산'}\n",
            "학번을 입력하세요:191102\n",
            "191102 번 학생은 임꺽정 입니다.\n",
            "학번을 입력하세요:191106\n",
            "해당 학번의 학생이 없습니다.\n",
            "학번을 입력하세요:-1\n",
            "프로그램을 종료합니다.\n"
          ],
          "name": "stdout"
        }
      ]
    },
    {
      "cell_type": "code",
      "metadata": {
        "colab": {
          "base_uri": "https://localhost:8080/"
        },
        "id": "48o_kP-ZARX5",
        "outputId": "e337ab56-b3c9-47c7-b48e-0d722c374b7e"
      },
      "source": [
        "#6.17-(1)\n",
        "\n",
        "population_A=(100,150,230,120,180,100,140,95,81,21,4)\n",
        "population_B=(300,420,530,420,400,300,40,5,1,1,1)\n",
        "\n",
        "a=population_A[2::]\n",
        "b=population_B[2::]\n",
        "\n",
        "print('마을 A와 B에 보낼 투표용지의 개수는 각각',sum(a),'장과',sum(b),'장입니다.')"
      ],
      "execution_count": null,
      "outputs": [
        {
          "output_type": "stream",
          "text": [
            "마을 A와 B에 보낼 투표용지의 개수는 각각 971 장과 1698 장입니다.\n"
          ],
          "name": "stdout"
        }
      ]
    },
    {
      "cell_type": "code",
      "metadata": {
        "colab": {
          "base_uri": "https://localhost:8080/"
        },
        "id": "LVCKqYDxIbx1",
        "outputId": "a5aad441-0147-4ca5-b9b5-90da4259f726"
      },
      "source": [
        "#6.17-(2)\n",
        "\n",
        "x=sum(population_A)\n",
        "y=sum(population_B)\n",
        "\n",
        "elderA=population_A[7::]\n",
        "elderB=population_B[7::]\n",
        "\n",
        "A=sum(elderA)\n",
        "B=sum(elderB)\n",
        "\n",
        "print('마을 A와 B의 고령화 정도는 각각',round(A/x,3),'와',round(B/y,3),'입니다.')"
      ],
      "execution_count": null,
      "outputs": [
        {
          "output_type": "stream",
          "text": [
            "마을 A와 B의 고령화 정도는 각각 0.165 와 0.003 입니다.\n"
          ],
          "name": "stdout"
        }
      ]
    },
    {
      "cell_type": "code",
      "metadata": {
        "colab": {
          "base_uri": "https://localhost:8080/"
        },
        "id": "5L2Pkn6eNr0C",
        "outputId": "ebe7289b-b664-409b-9f5f-1d19864b93af"
      },
      "source": [
        "#6.20-(1)\n",
        "\n",
        "scores=(('박동규',88,95,90),('강영민',85,90,95),('박동민',70,90,80),('홍승주',90,90,95))\n",
        "a=scores[0]\n",
        "b=scores[1]\n",
        "c=scores[2]\n",
        "d=scores[3]\n",
        "\n",
        "val=zip(a,b,c,d)\n",
        "x=list(val)\n",
        "math=x[2]\n",
        "print('학생들의 수학 성적의 평균은',sum(math)/4,'입니다.')"
      ],
      "execution_count": null,
      "outputs": [
        {
          "output_type": "stream",
          "text": [
            "학생들의 수학 성적의 평균은 91.25 입니다.\n"
          ],
          "name": "stdout"
        }
      ]
    },
    {
      "cell_type": "code",
      "metadata": {
        "colab": {
          "base_uri": "https://localhost:8080/"
        },
        "id": "uUXjunLIRPu-",
        "outputId": "03726fad-da36-4455-b155-dc4cf71d9325"
      },
      "source": [
        "#6.20-(2)\n",
        "\n",
        "science=x[3]\n",
        "print('학생들의 수학과 과학 성적의 평균은',(sum(science)+sum(math))/8,'입니다.')"
      ],
      "execution_count": null,
      "outputs": [
        {
          "output_type": "stream",
          "text": [
            "학생들의 수학과 과학 성적의 평균은 90.625 입니다.\n"
          ],
          "name": "stdout"
        }
      ]
    },
    {
      "cell_type": "code",
      "metadata": {
        "colab": {
          "base_uri": "https://localhost:8080/"
        },
        "id": "snlRSs_UUcRe",
        "outputId": "f032ff48-a319-43a4-d688-5afca72645c7"
      },
      "source": [
        "#6.20-(3)\n",
        "\n",
        "a_scores=a[1::]\n",
        "b_scores=b[1::]\n",
        "c_scores=c[1::]\n",
        "d_scores=d[1::]\n",
        "\n",
        "a_average=round(sum(a_scores)/3,2)\n",
        "b_average=round(sum(b_scores)/3,2)\n",
        "c_average=round(sum(c_scores)/3,2)\n",
        "d_average=round(sum(d_scores)/3,2)\n",
        "\n",
        "student_dic={scores[0][0]:a_average,scores[1][0]:b_average,scores[2][0]:c_average,scores[3][0]:d_average}\n",
        "\n",
        "print('이름 \\t 평균성적')\n",
        "print('------------------')\n",
        "print(scores[0][0],'\\t',student_dic.get(scores[0][0]))\n",
        "print(scores[1][0],'\\t',student_dic.get(scores[1][0]))\n",
        "print(scores[2][0],'\\t',student_dic.get(scores[2][0]))\n",
        "print(scores[3][0],'\\t',student_dic.get(scores[3][0]))"
      ],
      "execution_count": null,
      "outputs": [
        {
          "output_type": "stream",
          "text": [
            "이름 \t 평균성적\n",
            "------------------\n",
            "박동규 \t 91.0\n",
            "강영민 \t 90.0\n",
            "박동민 \t 80.0\n",
            "홍승주 \t 91.67\n"
          ],
          "name": "stdout"
        }
      ]
    },
    {
      "cell_type": "code",
      "metadata": {
        "colab": {
          "base_uri": "https://localhost:8080/"
        },
        "id": "ahoDkE3xYsDN",
        "outputId": "e283b8ac-0782-430f-e4d6-b713a2a4de86"
      },
      "source": [
        "#6.21\n",
        "\n",
        "sentence=input('문자열을 입력하시오 : ')\n",
        "word2=sentence.replace(' ','')\n",
        "word=word2.lower()\n",
        "\n",
        "is_palindrome=True\n",
        "for i in range(len(word)//2):\n",
        "  if word[i]!=word[-1-i]:\n",
        "    is_palindrome=False\n",
        "\n",
        "if(is_palindrome==True):\n",
        "  print('회문입니다.')\n",
        "else:\n",
        "  print('회문이 아닙니다.')"
      ],
      "execution_count": null,
      "outputs": [
        {
          "output_type": "stream",
          "text": [
            "문자열을 입력하시오 : A nut for a jar of tuna\n",
            "회문입니다.\n"
          ],
          "name": "stdout"
        }
      ]
    },
    {
      "cell_type": "code",
      "metadata": {
        "colab": {
          "base_uri": "https://localhost:8080/"
        },
        "id": "d_rQhboteOe-",
        "outputId": "962b8c8f-3fe6-48c8-8c37-d05b347ecc00"
      },
      "source": [
        "#6.22\n",
        "\n",
        "name=input('이름을 입력하세요:')\n",
        "slice_name=name[-3::]\n",
        "\n",
        "if(slice_name=='vic'):\n",
        "  print('안녕하세요? {}님. 발칸 반도에서 오셨나요?'.format(name))\n",
        "else:\n",
        "  print('안녕하세요? {}님.'.format(name))"
      ],
      "execution_count": null,
      "outputs": [
        {
          "output_type": "stream",
          "text": [
            "이름을 입력하세요:Tom Cruise\n",
            "안녕하세요? Tom Cruise님\n"
          ],
          "name": "stdout"
        }
      ]
    },
    {
      "cell_type": "code",
      "metadata": {
        "colab": {
          "base_uri": "https://localhost:8080/"
        },
        "id": "wvmHhpcngSYw",
        "outputId": "1edc664d-5067-4744-e79e-624768e60bc7"
      },
      "source": [
        "name=input('이름을 입력하세요:')\n",
        "slice_name=name[-3::]\n",
        "\n",
        "if(slice_name=='vic'):\n",
        "  print('안녕하세요? {}님. 발칸 반도에서 오셨나요?'.format(name))\n",
        "else:\n",
        "  print('안녕하세요? {}님.'.format(name))"
      ],
      "execution_count": null,
      "outputs": [
        {
          "output_type": "stream",
          "text": [
            "이름을 입력하세요:Sinisa Mihajlovic\n",
            "안녕하세요? Sinisa Mihajlovic님. 발칸 반도에서 오셨나요?\n"
          ],
          "name": "stdout"
        }
      ]
    },
    {
      "cell_type": "code",
      "metadata": {
        "colab": {
          "base_uri": "https://localhost:8080/"
        },
        "id": "Afv6t66yq-BX",
        "outputId": "6ffb4512-acb2-4a88-c338-30495131b61d"
      },
      "source": [
        "#6.23\n",
        "\n",
        "import string\n",
        "word=string.ascii_uppercase\n",
        "print(word)\n",
        "for _ in range(9):\n",
        "  word=word[1::]+word[0]\n",
        "  print(word)\n"
      ],
      "execution_count": null,
      "outputs": [
        {
          "output_type": "stream",
          "text": [
            "ABCDEFGHIJKLMNOPQRSTUVWXYZ\n",
            "BCDEFGHIJKLMNOPQRSTUVWXYZA\n",
            "CDEFGHIJKLMNOPQRSTUVWXYZAB\n",
            "DEFGHIJKLMNOPQRSTUVWXYZABC\n",
            "EFGHIJKLMNOPQRSTUVWXYZABCD\n",
            "FGHIJKLMNOPQRSTUVWXYZABCDE\n",
            "GHIJKLMNOPQRSTUVWXYZABCDEF\n",
            "HIJKLMNOPQRSTUVWXYZABCDEFG\n",
            "IJKLMNOPQRSTUVWXYZABCDEFGH\n",
            "JKLMNOPQRSTUVWXYZABCDEFGHI\n"
          ],
          "name": "stdout"
        }
      ]
    },
    {
      "cell_type": "code",
      "metadata": {
        "colab": {
          "base_uri": "https://localhost:8080/"
        },
        "id": "lXi0jD9PrLlq",
        "outputId": "98bc4eaa-0d3b-4892-f5fc-806488357394"
      },
      "source": [
        "#6.24-(1)\n",
        "\n",
        "import string\n",
        "src_str=string.ascii_uppercase\n",
        "dst_str=src_str[3::]+src_str[0:3]\n",
        "\n",
        "print('src_str =',src_str)\n",
        "print('dst_str =',dst_str)"
      ],
      "execution_count": null,
      "outputs": [
        {
          "output_type": "stream",
          "text": [
            "src_str = ABCDEFGHIJKLMNOPQRSTUVWXYZ\n",
            "dst_str = DEFGHIJKLMNOPQRSTUVWXYZABC\n"
          ],
          "name": "stdout"
        }
      ]
    },
    {
      "cell_type": "code",
      "metadata": {
        "colab": {
          "base_uri": "https://localhost:8080/"
        },
        "id": "VkeCeZ20yaAN",
        "outputId": "8feb273a-4613-400d-e732-619108bc7bc0"
      },
      "source": [
        "#6.24-(2)\n",
        "  \n",
        "def ciper(x):\n",
        "  x=list(x)\n",
        "  for i in range(len(x)):\n",
        "    if x[i].isupper():\n",
        "      x[i]=chr((ord(x[i])-ord('A')+3)%26+ord('A'))\n",
        "    elif x[i].islower():\n",
        "      x[i]=chr((ord(x[i])-ord('a')+3)%26+ord('a'))\n",
        "\n",
        "  return \"\".join(x)\n",
        "\n",
        "print('src_str의 A 인덱스 :',src_str.index('A'))\n",
        "print('dst_str의 0번째 알파벳 :',dst_str[src_str.index('A')])\n",
        "print('src_str의 B 인덱스 :',src_str.index('B'))\n",
        "print('dst_str의 1번째 알파벳 :',dst_str[src_str.index('B')])"
      ],
      "execution_count": null,
      "outputs": [
        {
          "output_type": "stream",
          "text": [
            "src_str의 A 인덱스 : 0\n",
            "dst_str의 0번째 알파벳 : D\n",
            "src_str의 B 인덱스 : 1\n",
            "dst_str의 1번째 알파벳 : E\n"
          ],
          "name": "stdout"
        }
      ]
    },
    {
      "cell_type": "code",
      "metadata": {
        "colab": {
          "base_uri": "https://localhost:8080/"
        },
        "id": "TiDIoa1jlDWG",
        "outputId": "eeb43e20-6ffd-401b-8843-c852beba51bf"
      },
      "source": [
        "#6.24-(3)\n",
        "\n",
        "sentence=input('문장을 입력하시오:')\n",
        "print('암호화된 문장:',ciper(sentence))"
      ],
      "execution_count": null,
      "outputs": [
        {
          "output_type": "stream",
          "text": [
            "문장을 입력하시오:ATTACK TONIGHT\n",
            "암호화된 문장: DWWDFN WRQLJKW\n"
          ],
          "name": "stdout"
        }
      ]
    },
    {
      "cell_type": "code",
      "metadata": {
        "colab": {
          "base_uri": "https://localhost:8080/"
        },
        "id": "K6LIbGM73hsP",
        "outputId": "01976d16-a845-49c0-8e5c-6be83c2b7e9d"
      },
      "source": [
        "#6.24-(4)\n",
        "\n",
        "def ciper2(x):\n",
        "  x=list(x)\n",
        "  for i in range(len(x)):\n",
        "    if x[i].isupper():\n",
        "      x[i]=chr((ord(x[i])-ord('A')-3)%26+ord('A'))\n",
        "    elif x[i].islower():\n",
        "      x[i]=chr((ord(x[i])-ord('a')-3)%26+ord('a'))\n",
        "\n",
        "  return \"\".join(x)\n",
        "\n",
        "sentence2=input('암호화된 문장을 입력하시오:')\n",
        "print('해독된 문장:',ciper2(sentence2))"
      ],
      "execution_count": null,
      "outputs": [
        {
          "output_type": "stream",
          "text": [
            "암호화된 문장을 입력하시오:DWWDFN WRQLJKW\n",
            "해독된 문장: ATTACK TONIGHT\n"
          ],
          "name": "stdout"
        }
      ]
    },
    {
      "cell_type": "code",
      "metadata": {
        "colab": {
          "base_uri": "https://localhost:8080/"
        },
        "id": "zCclrVWA4pMC",
        "outputId": "03a34226-147e-4aa2-bc9a-51b6c92deb49"
      },
      "source": [
        "#6.24-(5)\n",
        "\n",
        "import string\n",
        "src_str=string.ascii_uppercase+string.ascii_lowercase\n",
        "print(src_str)\n",
        "print(ciper(src_str))"
      ],
      "execution_count": null,
      "outputs": [
        {
          "output_type": "stream",
          "text": [
            "ABCDEFGHIJKLMNOPQRSTUVWXYZabcdefghijklmnopqrstuvwxyz\n",
            "DEFGHIJKLMNOPQRSTUVWXYZABCdefghijklmnopqrstuvwxyzabc\n"
          ],
          "name": "stdout"
        }
      ]
    },
    {
      "cell_type": "code",
      "metadata": {
        "colab": {
          "base_uri": "https://localhost:8080/"
        },
        "id": "7HKUp0zz5jIT",
        "outputId": "c21ef372-29d0-4333-aab5-7205a307951a"
      },
      "source": [
        "#6.26\n",
        "\n",
        "myList=[(1,2),(4,5),(4,2),(3,1),(9,4)]\n",
        "\n",
        "x,y=input('두 정수를 입력하시오: ').split()\n",
        "x,y=int(x),int(y)\n",
        "for i in range(len(myList)):\n",
        "  if((x,y) in myList):\n",
        "    print(myList.index((x,y)),'번째에',(x,y),'요소가 있습니다.')\n",
        "    break\n",
        "  elif((y,x) in myList):\n",
        "    print((x,y),'요소는 없으나',myList.index((y,x)),'번째에',(y,x),'요소가 있습니다.')\n",
        "    break\n",
        "  else:\n",
        "    print('이 요소는 없습니다.')\n",
        "    break"
      ],
      "execution_count": null,
      "outputs": [
        {
          "output_type": "stream",
          "text": [
            "두 정수를 입력하시오: 4 9\n",
            "(4, 9) 요소는 없으나 4 번째에 (9, 4) 요소가 있습니다.\n"
          ],
          "name": "stdout"
        }
      ]
    },
    {
      "cell_type": "code",
      "metadata": {
        "id": "qxVBk4pD4FQL"
      },
      "source": [
        ""
      ],
      "execution_count": null,
      "outputs": []
    }
  ]
}
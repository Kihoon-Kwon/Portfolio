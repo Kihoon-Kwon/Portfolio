{
  "nbformat": 4,
  "nbformat_minor": 0,
  "metadata": {
    "colab": {
      "name": "HW7_20150367_Kwonkihoon.ipynb",
      "provenance": [],
      "collapsed_sections": []
    },
    "kernelspec": {
      "name": "python3",
      "display_name": "Python 3"
    }
  },
  "cells": [
    {
      "cell_type": "code",
      "metadata": {
        "colab": {
          "base_uri": "https://localhost:8080/"
        },
        "id": "-Oj65pAOR6LG",
        "outputId": "731eb9bd-129f-43fd-a839-3d50728753f8"
      },
      "source": [
        "#7.1-(1)\n",
        "\n",
        "import datetime as dt\n",
        "\n",
        "today=dt.datetime.today()\n",
        "valentine=dt.datetime(2019,2,24)\n",
        "gap=today-valentine\n",
        "print('춘향이와 몽룡이의 연애 시작일:{}년 {}월 {}일'.format(valentine.year,valentine.month,valentine.day))\n",
        "print('연애 시작일로부터 경과한 날짜:{}일'.format(gap.days))\n"
      ],
      "execution_count": null,
      "outputs": [
        {
          "output_type": "stream",
          "text": [
            "춘향이와 몽룡이의 연애 시작일:2019년 2월 24일\n",
            "연애 시작일로부터 경과한 날짜:639일\n"
          ],
          "name": "stdout"
        }
      ]
    },
    {
      "cell_type": "code",
      "metadata": {
        "colab": {
          "base_uri": "https://localhost:8080/"
        },
        "id": "-Rvlc3orS-Zq",
        "outputId": "88d7a1aa-b37c-4f63-98e6-c2655dd43415"
      },
      "source": [
        "#7.1-(2)\n",
        "\n",
        "print('춘향이와 몽룡이의 연애 시작일:{}년 {}월 {}일'.format(valentine.year,valentine.month,valentine.day))\n",
        "hundred=dt.timedelta(days=100)\n",
        "hundred2=dt.timedelta(days=200)\n",
        "hundred5=dt.timedelta(days=500)\n",
        "thousand=dt.timedelta(days=1000)\n",
        "day100=valentine+hundred\n",
        "day200=valentine+hundred2\n",
        "day500=valentine+hundred5\n",
        "day1000=valentine+thousand\n",
        "print('100일 기념일:{}년 {}월 {}일'.format(day100.year,day100.month,day100.day))\n",
        "print('200일 기념일:{}년 {}월 {}일'.format(day200.year,day200.month,day200.day))\n",
        "print('500일 기념일:{}년 {}월 {}일'.format(day500.year,day500.month,day500.day))\n",
        "print('1000일 기념일:{}년 {}월 {}일'.format(day1000.year,day1000.month,day1000.day))"
      ],
      "execution_count": null,
      "outputs": [
        {
          "output_type": "stream",
          "text": [
            "춘향이와 몽룡이의 연애 시작일:2019년 2월 24일\n",
            "100일 기념일:2019년 6월 4일\n",
            "200일 기념일:2019년 9월 12일\n",
            "500일 기념일:2020년 7월 8일\n",
            "1000일 기념일:2021년 11월 20일\n"
          ],
          "name": "stdout"
        }
      ]
    },
    {
      "cell_type": "code",
      "metadata": {
        "colab": {
          "base_uri": "https://localhost:8080/"
        },
        "id": "wKWd7zQ2VY0q",
        "outputId": "118f2334-66b5-440e-f1a5-fa0fc0b7975a"
      },
      "source": [
        "#7.2-(1)\n",
        "import time\n",
        "start_time=time.time()\n",
        "def sum1to1000000():\n",
        "  sumrange=sum(range(1,1000001))\n",
        "  return sumrange\n",
        "end_time=time.time()\n",
        "gap=end_time-start_time\n",
        "\n",
        "print('1에서 1,000,000까지의 합을 구하는 시간:{:7.4f}초'.format(gap))"
      ],
      "execution_count": null,
      "outputs": [
        {
          "output_type": "stream",
          "text": [
            "1에서 1,000,000까지의 합을 구하는 시간: 0.0001초\n"
          ],
          "name": "stdout"
        }
      ]
    },
    {
      "cell_type": "code",
      "metadata": {
        "colab": {
          "base_uri": "https://localhost:8080/"
        },
        "id": "PXjFaPkHXK9A",
        "outputId": "3b748652-be19-43cb-8605-eaad73835991"
      },
      "source": [
        "#7.2-(2)\n",
        "\n",
        "start_100=time.time()\n",
        "for _ in range(100):\n",
        "  sum1to1000000()\n",
        "end_100=time.time()\n",
        "gap100=end_100-start_100\n",
        "\n",
        "print('1,000,000까지의 합을 100번 반복해서 구하는 시간:{:7.4f}초'.format(gap100))"
      ],
      "execution_count": null,
      "outputs": [
        {
          "output_type": "stream",
          "text": [
            "1,000,000까지의 합을 100번 반복해서 구하는 시간: 1.6700초\n"
          ],
          "name": "stdout"
        }
      ]
    },
    {
      "cell_type": "code",
      "metadata": {
        "colab": {
          "base_uri": "https://localhost:8080/"
        },
        "id": "IDDse-AGX_SF",
        "outputId": "694241c8-b96a-4b5a-9119-3f41e5b83f31"
      },
      "source": [
        "#7.3-(1)\n",
        "\n",
        "def printhello():\n",
        "  print('Hello python!')\n",
        "start_time=time.time()\n",
        "for _ in range(100):\n",
        "  printhello()\n",
        "end_time=time.time()\n",
        "gap=end_time-start_time\n",
        "\n",
        "print('Hello Python! 출력을 100번 반복하는 시간:{:7.4f}초'.format(gap))"
      ],
      "execution_count": null,
      "outputs": [
        {
          "output_type": "stream",
          "text": [
            "Hello python!\n",
            "Hello python!\n",
            "Hello python!\n",
            "Hello python!\n",
            "Hello python!\n",
            "Hello python!\n",
            "Hello python!\n",
            "Hello python!\n",
            "Hello python!\n",
            "Hello python!\n",
            "Hello python!\n",
            "Hello python!\n",
            "Hello python!\n",
            "Hello python!\n",
            "Hello python!\n",
            "Hello python!\n",
            "Hello python!\n",
            "Hello python!\n",
            "Hello python!\n",
            "Hello python!\n",
            "Hello python!\n",
            "Hello python!\n",
            "Hello python!\n",
            "Hello python!\n",
            "Hello python!\n",
            "Hello python!\n",
            "Hello python!\n",
            "Hello python!\n",
            "Hello python!\n",
            "Hello python!\n",
            "Hello python!\n",
            "Hello python!\n",
            "Hello python!\n",
            "Hello python!\n",
            "Hello python!\n",
            "Hello python!\n",
            "Hello python!\n",
            "Hello python!\n",
            "Hello python!\n",
            "Hello python!\n",
            "Hello python!\n",
            "Hello python!\n",
            "Hello python!\n",
            "Hello python!\n",
            "Hello python!\n",
            "Hello python!\n",
            "Hello python!\n",
            "Hello python!\n",
            "Hello python!\n",
            "Hello python!\n",
            "Hello python!\n",
            "Hello python!\n",
            "Hello python!\n",
            "Hello python!\n",
            "Hello python!\n",
            "Hello python!\n",
            "Hello python!\n",
            "Hello python!\n",
            "Hello python!\n",
            "Hello python!\n",
            "Hello python!\n",
            "Hello python!\n",
            "Hello python!\n",
            "Hello python!\n",
            "Hello python!\n",
            "Hello python!\n",
            "Hello python!\n",
            "Hello python!\n",
            "Hello python!\n",
            "Hello python!\n",
            "Hello python!\n",
            "Hello python!\n",
            "Hello python!\n",
            "Hello python!\n",
            "Hello python!\n",
            "Hello python!\n",
            "Hello python!\n",
            "Hello python!\n",
            "Hello python!\n",
            "Hello python!\n",
            "Hello python!\n",
            "Hello python!\n",
            "Hello python!\n",
            "Hello python!\n",
            "Hello python!\n",
            "Hello python!\n",
            "Hello python!\n",
            "Hello python!\n",
            "Hello python!\n",
            "Hello python!\n",
            "Hello python!\n",
            "Hello python!\n",
            "Hello python!\n",
            "Hello python!\n",
            "Hello python!\n",
            "Hello python!\n",
            "Hello python!\n",
            "Hello python!\n",
            "Hello python!\n",
            "Hello python!\n",
            "Hello Python! 출력을 100번 반복하는 시간: 0.0123초\n"
          ],
          "name": "stdout"
        }
      ]
    },
    {
      "cell_type": "code",
      "metadata": {
        "colab": {
          "base_uri": "https://localhost:8080/"
        },
        "id": "gZiwNyszc_Jq",
        "outputId": "da6e37a9-68b0-4608-df8d-8ceaa90196d4"
      },
      "source": [
        "#7.3-(2)\n",
        "\n",
        "def printfactorial():\n",
        "  result=1\n",
        "  for i in range(1,1001):\n",
        "    result*=i\n",
        "  return result\n",
        "start_time=time.time()\n",
        "for _ in range(100):\n",
        "  printfactorial()\n",
        "end_time=time.time()\n",
        "gap=end_time-start_time\n",
        "\n",
        "print('1000을 100번 반복해서 구하는 시간:{:7.4f}초'.format(gap))"
      ],
      "execution_count": null,
      "outputs": [
        {
          "output_type": "stream",
          "text": [
            "1000을 100번 반복해서 구하는 시간: 0.0283초\n"
          ],
          "name": "stdout"
        }
      ]
    },
    {
      "cell_type": "code",
      "metadata": {
        "colab": {
          "base_uri": "https://localhost:8080/"
        },
        "id": "SrqkJdYRdwdb",
        "outputId": "4ef63631-ffea-4dd6-eb0a-894376b50dbf"
      },
      "source": [
        "#7.3-(3)\n",
        "\n",
        "def multiple():\n",
        "  result=0\n",
        "  for i in range(1,1001):\n",
        "    if(i%2==1):\n",
        "      result+=(i**3)\n",
        "  return result\n",
        "start_time=time.time()\n",
        "for _ in range(100):\n",
        "  multiple()\n",
        "end_time=time.time()\n",
        "gap=end_time-start_time\n",
        "\n",
        "print('1에서 1000까지의 홀수의 세제곱 더하기를 100번 반복하는 시간:{:7.4f}초'.format(gap))\n",
        "      "
      ],
      "execution_count": null,
      "outputs": [
        {
          "output_type": "stream",
          "text": [
            "1에서 1000까지의 홀수의 세제곱 더하기를 100번 반복하는 시간: 0.0228초\n"
          ],
          "name": "stdout"
        }
      ]
    },
    {
      "cell_type": "code",
      "metadata": {
        "colab": {
          "base_uri": "https://localhost:8080/"
        },
        "id": "q0NzkPZyfLuJ",
        "outputId": "50ef4b11-4cae-4a97-a627-e1635aad3d81"
      },
      "source": [
        "#7.3-(4)\n",
        "import math as m\n",
        "\n",
        "def sine():\n",
        "  result=0\n",
        "  for i in range(1,361):\n",
        "    result+=m.sin(i*m.pi/180)\n",
        "  return result\n",
        "start_time=time.time()\n",
        "for _ in range(100):\n",
        "  sine()\n",
        "end_time=time.time()\n",
        "gap=end_time-start_time\n",
        "\n",
        "print('1에서 360도까지 sin 값의 합을 100번 반복하는 시간:{:7.4f}초'.format(gap))"
      ],
      "execution_count": null,
      "outputs": [
        {
          "output_type": "stream",
          "text": [
            "1에서 360도까지 sin 값의 합을 100번 반복하는 시간: 0.0154초\n"
          ],
          "name": "stdout"
        }
      ]
    },
    {
      "cell_type": "code",
      "metadata": {
        "colab": {
          "base_uri": "https://localhost:8080/"
        },
        "id": "no7qaMGVgc3D",
        "outputId": "34a4a4e7-a57d-4ebe-a426-30b9ce85d559"
      },
      "source": [
        "#7.4-(1)\n",
        "\n",
        "def my_rand(x):\n",
        "  new_x=(100329*x+12345)%(2**13)\n",
        "  return new_x\n",
        "\n",
        "x=123457\n",
        "for _ in range(10):\n",
        "  x=my_rand(x)\n",
        "  print(x)"
      ],
      "execution_count": null,
      "outputs": [
        {
          "output_type": "stream",
          "text": [
            "1122\n",
            "7019\n",
            "4508\n",
            "6965\n",
            "1654\n",
            "2975\n",
            "7408\n",
            "5801\n",
            "3850\n",
            "1619\n"
          ],
          "name": "stdout"
        }
      ]
    },
    {
      "cell_type": "code",
      "metadata": {
        "colab": {
          "base_uri": "https://localhost:8080/"
        },
        "id": "IDr1l95riQr7",
        "outputId": "91f99529-3a2a-4628-ddf6-64aecb1c2d9a"
      },
      "source": [
        "#7.4-(2)\n",
        "\n",
        "def my_rand(x):\n",
        "  new_x=(100329*x+12345)%(2**13)\n",
        "  return new_x\n",
        "\n",
        "x=int(time.time())\n",
        "for _ in range(5):\n",
        "  x=my_rand(x)\n",
        "  print(x)"
      ],
      "execution_count": null,
      "outputs": [
        {
          "output_type": "stream",
          "text": [
            "530\n",
            "4251\n",
            "2636\n",
            "869\n",
            "2598\n"
          ],
          "name": "stdout"
        }
      ]
    },
    {
      "cell_type": "code",
      "metadata": {
        "colab": {
          "base_uri": "https://localhost:8080/"
        },
        "id": "UzCCr3y4i73k",
        "outputId": "07854a35-ae56-4fe7-9bd6-82fe34f45ef5"
      },
      "source": [
        "x=int(time.time())\n",
        "for _ in range(5):\n",
        "  x=my_rand(x)\n",
        "  print(x)"
      ],
      "execution_count": null,
      "outputs": [
        {
          "output_type": "stream",
          "text": [
            "6237\n",
            "2014\n",
            "2887\n",
            "1240\n",
            "209\n"
          ],
          "name": "stdout"
        }
      ]
    },
    {
      "cell_type": "code",
      "metadata": {
        "colab": {
          "base_uri": "https://localhost:8080/"
        },
        "id": "lJHM912rjCPc",
        "outputId": "247a31d5-3083-47c5-d413-eb31d5144abc"
      },
      "source": [
        "#7.5\n",
        "\n",
        "for i in range(19):\n",
        "  print('sin({})={}, cos({})={}, tan({})={}'.format(10*i,round(m.sin(m.pi*10*i/180),3),10*i,round(m.cos(m.pi*10*i/180),3),10*i,round(m.tan(m.pi*10*i/180),3)))"
      ],
      "execution_count": null,
      "outputs": [
        {
          "output_type": "stream",
          "text": [
            "sin(0)=0.0, cos(0)=1.0, tan(0)=0.0\n",
            "sin(10)=0.174, cos(10)=0.985, tan(10)=0.176\n",
            "sin(20)=0.342, cos(20)=0.94, tan(20)=0.364\n",
            "sin(30)=0.5, cos(30)=0.866, tan(30)=0.577\n",
            "sin(40)=0.643, cos(40)=0.766, tan(40)=0.839\n",
            "sin(50)=0.766, cos(50)=0.643, tan(50)=1.192\n",
            "sin(60)=0.866, cos(60)=0.5, tan(60)=1.732\n",
            "sin(70)=0.94, cos(70)=0.342, tan(70)=2.747\n",
            "sin(80)=0.985, cos(80)=0.174, tan(80)=5.671\n",
            "sin(90)=1.0, cos(90)=0.0, tan(90)=1.633123935319537e+16\n",
            "sin(100)=0.985, cos(100)=-0.174, tan(100)=-5.671\n",
            "sin(110)=0.94, cos(110)=-0.342, tan(110)=-2.747\n",
            "sin(120)=0.866, cos(120)=-0.5, tan(120)=-1.732\n",
            "sin(130)=0.766, cos(130)=-0.643, tan(130)=-1.192\n",
            "sin(140)=0.643, cos(140)=-0.766, tan(140)=-0.839\n",
            "sin(150)=0.5, cos(150)=-0.866, tan(150)=-0.577\n",
            "sin(160)=0.342, cos(160)=-0.94, tan(160)=-0.364\n",
            "sin(170)=0.174, cos(170)=-0.985, tan(170)=-0.176\n",
            "sin(180)=0.0, cos(180)=-1.0, tan(180)=-0.0\n"
          ],
          "name": "stdout"
        }
      ]
    },
    {
      "cell_type": "code",
      "metadata": {
        "colab": {
          "base_uri": "https://localhost:8080/"
        },
        "id": "Lb9LYC96j03w",
        "outputId": "f15e8004-af11-4c4e-e0f1-783d8dfd49a2"
      },
      "source": [
        "#7.6\n",
        "\n",
        "for i in range(11):\n",
        "  print('sqrt({})={}'.format(i,round(m.sqrt(i),3)))"
      ],
      "execution_count": null,
      "outputs": [
        {
          "output_type": "stream",
          "text": [
            "sqrt(0)=0.0\n",
            "sqrt(1)=1.0\n",
            "sqrt(2)=1.414\n",
            "sqrt(3)=1.732\n",
            "sqrt(4)=2.0\n",
            "sqrt(5)=2.236\n",
            "sqrt(6)=2.449\n",
            "sqrt(7)=2.646\n",
            "sqrt(8)=2.828\n",
            "sqrt(9)=3.0\n",
            "sqrt(10)=3.162\n"
          ],
          "name": "stdout"
        }
      ]
    },
    {
      "cell_type": "code",
      "metadata": {
        "colab": {
          "base_uri": "https://localhost:8080/"
        },
        "id": "Xm-QZpCeoFxq",
        "outputId": "be70a21a-dc45-42dd-c6d5-4533771ea0a5"
      },
      "source": [
        "#7.8\n",
        "\n",
        "import random as rd\n",
        "\n",
        "a=rd.randrange(1,7)\n",
        "b=rd.randrange(1,7)\n",
        "\n",
        "print('로미오의 주사위 숫자는 {}입니다.'.format(a))\n",
        "print('줄리엣의 주사위 숫자는 {}입니다.'.format(b))\n",
        "\n",
        "if(a>b):\n",
        "  print('로미오가 이겼습니다.')\n",
        "elif(a<b):\n",
        "  print('줄리엣이 이겼습니다.')\n",
        "else:\n",
        "  print('비겼습니다.')"
      ],
      "execution_count": 1,
      "outputs": [
        {
          "output_type": "stream",
          "text": [
            "로미오의 주사위 숫자는 6입니다.\n",
            "줄리엣의 주사위 숫자는 1입니다.\n",
            "로미오가 이겼습니다.\n"
          ],
          "name": "stdout"
        }
      ]
    },
    {
      "cell_type": "code",
      "metadata": {
        "colab": {
          "base_uri": "https://localhost:8080/"
        },
        "id": "AwhPPX7ipHXD",
        "outputId": "76092c31-0ec0-4fde-da4e-314ac8552224"
      },
      "source": [
        "#7.9\n",
        "\n",
        "x=rd.randrange(1,4) #1: 가위 #2: 바위 #3: 보\n",
        "y=rd.randrange(1,4) #1: 가위 #2: 바위 #3: 보\n",
        "\n",
        "if(x==1):\n",
        "  print('로미오의 승부: 가위')\n",
        "elif(x==2):\n",
        "  print('로미오의 승부: 바위')\n",
        "else:\n",
        "  print('로미오의 승부: 보')\n",
        "\n",
        "if(y==1):\n",
        "  print('줄리엣의 승부: 가위')\n",
        "elif(y==2):\n",
        "  print('줄리엣의 승부: 바위')\n",
        "else:\n",
        "  print('줄리엣의 승부: 보')\n",
        "\n",
        "if(x==y):\n",
        "  print('비겼습니다.')\n",
        "elif(x==1 and y==2):\n",
        "  print('줄리엣이 이겼습니다.')\n",
        "elif(x==1 and y==3):\n",
        "  print('로미오가 이겼습니다.')\n",
        "elif(x==2 and y==1):\n",
        "  print('로미오가 이겼습니다.')\n",
        "elif(x==2 and y==3):\n",
        "  print('줄리엣이 이겼습니다.')\n",
        "elif(x==3 and y==1):\n",
        "  print('줄리엣이 이겼습니다.')\n",
        "else:\n",
        "  print('로미오가 이겼습니다.')"
      ],
      "execution_count": 4,
      "outputs": [
        {
          "output_type": "stream",
          "text": [
            "로미오의 승부: 가위\n",
            "줄리엣의 승부: 바위\n",
            "줄리엣이 이겼습니다.\n"
          ],
          "name": "stdout"
        }
      ]
    },
    {
      "cell_type": "code",
      "metadata": {
        "id": "ES6zWD9IriSJ",
        "colab": {
          "base_uri": "https://localhost:8080/"
        },
        "outputId": "4a2f69d4-da40-4451-b3f8-1bbef01f401d"
      },
      "source": [
        "#7.10\n",
        "\n",
        "x=rd.randint(1,20)\n",
        "count=0\n",
        "\n",
        "for i in range(20):\n",
        "  y=int(input('1~20까지의 숫자를 입력하세요: '))\n",
        "  if(x==y):\n",
        "    count+=1\n",
        "    print('정답입니다!')\n",
        "    break\n",
        "  elif(x>y):\n",
        "    count+=1\n",
        "    print('{}보다 큽니다!'.format(y))\n",
        "  else:\n",
        "    count+=1\n",
        "    print('{}보다 작습니다!'.format(y))\n",
        "\n",
        "if(count<=3):\n",
        "  print('{}번 만에 맞춘 당신은 천재!'.format(count))\n",
        "elif(count>=3 and count<=6):\n",
        "  print('{}번 만에 맞추셨네요, 잘 했어요^^'.format(count))\n",
        "else:\n",
        "  print('{}번 만에 맞추다니 쩝쩝...'.format(count))\n"
      ],
      "execution_count": 8,
      "outputs": [
        {
          "output_type": "stream",
          "text": [
            "1~20까지의 숫자를 입력하세요: 5\n",
            "5보다 큽니다!\n",
            "1~20까지의 숫자를 입력하세요: 10\n",
            "10보다 큽니다!\n",
            "1~20까지의 숫자를 입력하세요: 15\n",
            "15보다 작습니다!\n",
            "1~20까지의 숫자를 입력하세요: 13\n",
            "13보다 큽니다!\n",
            "1~20까지의 숫자를 입력하세요: 14\n",
            "정답입니다!\n",
            "5번 만에 맞추셨네요, 잘 했어요^^\n"
          ],
          "name": "stdout"
        }
      ]
    },
    {
      "cell_type": "code",
      "metadata": {
        "id": "fQBX-wTOON9p"
      },
      "source": [
        ""
      ],
      "execution_count": null,
      "outputs": []
    }
  ]
}
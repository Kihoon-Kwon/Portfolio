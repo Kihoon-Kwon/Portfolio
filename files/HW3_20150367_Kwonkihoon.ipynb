{
  "nbformat": 4,
  "nbformat_minor": 0,
  "metadata": {
    "colab": {
      "name": "HW3_20150367_Kwonkihoon.ipynb",
      "provenance": [],
      "collapsed_sections": []
    },
    "kernelspec": {
      "display_name": "Python 3",
      "name": "python3"
    }
  },
  "cells": [
    {
      "cell_type": "markdown",
      "metadata": {
        "id": "3UrxjBD6Hs-6"
      },
      "source": [
        "Problem 3-2"
      ]
    },
    {
      "cell_type": "code",
      "metadata": {
        "id": "k59qM4xxHert",
        "outputId": "82ac0c83-da42-46dd-f2ef-03e4284eee94",
        "colab": {
          "base_uri": "https://localhost:8080/",
          "height": 73
        }
      },
      "source": [
        "name=input('이름을 입력하시오: ')\n",
        "height=int(input('키를 입력하시오(단위 cm): '))\n",
        "if(height>=140):\n",
        "  print(name,'님은 놀이기구를 탈 수 있습니다.')\n",
        "else:\n",
        "  print(name,'님은 놀이기구를 탈 수 없습니다.')"
      ],
      "execution_count": null,
      "outputs": [
        {
          "output_type": "stream",
          "text": [
            "이름을 입력하시오: 동윤\n",
            "키를 입력하시오(단위 cm): 170\n",
            "동윤 님은 놀이기구를 탈 수 있습니다.\n"
          ],
          "name": "stdout"
        }
      ]
    },
    {
      "cell_type": "code",
      "metadata": {
        "id": "KbQ1WywsIoBu",
        "outputId": "bdd57242-d5f1-4675-d9bc-7d29826f3a3f",
        "colab": {
          "base_uri": "https://localhost:8080/",
          "height": 73
        }
      },
      "source": [
        "name=input('이름을 입력하시오: ')\n",
        "height=int(input('키를 입력하시오(단위 cm): '))\n",
        "if(height>=140):\n",
        "  print(name,'님은 놀이기구를 탈 수 있습니다.')\n",
        "else:\n",
        "  print(name,'님은 놀이기구를 탈 수 없습니다.')"
      ],
      "execution_count": null,
      "outputs": [
        {
          "output_type": "stream",
          "text": [
            "이름을 입력하시오: 승주\n",
            "키를 입력하시오(단위 cm): 132\n",
            "승주 님은 놀이기구를 탈 수 없습니다.\n"
          ],
          "name": "stdout"
        }
      ]
    },
    {
      "cell_type": "markdown",
      "metadata": {
        "id": "obwLdK8mH2iU"
      },
      "source": [
        "Problem 3-3"
      ]
    },
    {
      "cell_type": "code",
      "metadata": {
        "id": "gh9TmrqtIkCC",
        "outputId": "ef262ae1-256e-412b-d045-79e8af3bf401",
        "colab": {
          "base_uri": "https://localhost:8080/",
          "height": 73
        }
      },
      "source": [
        "age=int(input('나이를 입력하시오: '))\n",
        "height=int(input('키를 입력하시오(단위 cm): '))\n",
        "if(age>=19 and height>=150):\n",
        "  print('입장할 수 있습니다.')\n",
        "else:\n",
        "  print('입장할 수 없습니다.')"
      ],
      "execution_count": null,
      "outputs": [
        {
          "output_type": "stream",
          "text": [
            "나이를 입력하시오: 23\n",
            "키를 입력하시오(단위 cm): 160\n",
            "입장할 수 있습니다.\n"
          ],
          "name": "stdout"
        }
      ]
    },
    {
      "cell_type": "code",
      "metadata": {
        "id": "RSQ3bkPSJZVR",
        "outputId": "93d63f34-ecfa-43e0-c985-bc25a7ebcdd2",
        "colab": {
          "base_uri": "https://localhost:8080/",
          "height": 73
        }
      },
      "source": [
        "age=int(input('나이를 입력하시오: '))\n",
        "height=int(input('키를 입력하시오(단위 cm): '))\n",
        "if(age>=19 and height>=150):\n",
        "  print('입장할 수 있습니다.')\n",
        "else:\n",
        "  print('입장할 수 없습니다.')"
      ],
      "execution_count": null,
      "outputs": [
        {
          "output_type": "stream",
          "text": [
            "나이를 입력하시오: 16\n",
            "키를 입력하시오(단위 cm): 162\n",
            "입장할 수 없습니다.\n"
          ],
          "name": "stdout"
        }
      ]
    },
    {
      "cell_type": "markdown",
      "metadata": {
        "id": "g9DNCrSnH4cJ"
      },
      "source": [
        "Problem 3-4"
      ]
    },
    {
      "cell_type": "code",
      "metadata": {
        "id": "pFJly7b-Jdsy",
        "outputId": "6566ae12-0eda-48ca-dd65-1b0e3d4204fe",
        "colab": {
          "base_uri": "https://localhost:8080/",
          "height": 55
        }
      },
      "source": [
        "age=int(input('나이를 입력하시오: '))\n",
        "if(age>=20):\n",
        "  print('Adult')\n",
        "elif(age>=10):\n",
        "  print('Youth')\n",
        "else:\n",
        "  print('Kid')"
      ],
      "execution_count": null,
      "outputs": [
        {
          "output_type": "stream",
          "text": [
            "나이를 입력하시오: 23\n",
            "Adult\n"
          ],
          "name": "stdout"
        }
      ]
    },
    {
      "cell_type": "code",
      "metadata": {
        "id": "b-FgF1m4Kris",
        "outputId": "e01a7503-4642-4232-9ee2-980701314f7c",
        "colab": {
          "base_uri": "https://localhost:8080/",
          "height": 55
        }
      },
      "source": [
        "age=int(input('나이를 입력하시오: '))\n",
        "if(age>=20):\n",
        "  print('Adult')\n",
        "elif(age>=10):\n",
        "  print('Youth')\n",
        "else:\n",
        "  print('Kid')"
      ],
      "execution_count": null,
      "outputs": [
        {
          "output_type": "stream",
          "text": [
            "나이를 입력하시오: 18\n",
            "Youth\n"
          ],
          "name": "stdout"
        }
      ]
    },
    {
      "cell_type": "code",
      "metadata": {
        "id": "EGmaIZ9LKr8B",
        "outputId": "f6d8ecb3-a6ca-4fee-e84c-04f4171ece48",
        "colab": {
          "base_uri": "https://localhost:8080/",
          "height": 55
        }
      },
      "source": [
        "age=int(input('나이를 입력하시오: '))\n",
        "if(age>=20):\n",
        "  print('Adult')\n",
        "elif(age>=10):\n",
        "  print('Youth')\n",
        "else:\n",
        "  print('Kid')"
      ],
      "execution_count": null,
      "outputs": [
        {
          "output_type": "stream",
          "text": [
            "나이를 입력하시오: 9\n",
            "Kid\n"
          ],
          "name": "stdout"
        }
      ]
    },
    {
      "cell_type": "markdown",
      "metadata": {
        "id": "HJ1XKPc0H528"
      },
      "source": [
        "Problem 3-5"
      ]
    },
    {
      "cell_type": "code",
      "metadata": {
        "id": "kbL1FiivKxYl",
        "outputId": "a73695c8-5db6-4f4d-ab61-a17714ee972e",
        "colab": {
          "base_uri": "https://localhost:8080/",
          "height": 55
        }
      },
      "source": [
        "a, b=input('두 정수를 입력하시오: ').split()\n",
        "a=int(a)\n",
        "b=int(b)\n",
        "if(a>=b):\n",
        "  print(b,a)\n",
        "else:\n",
        "  print(a,b)"
      ],
      "execution_count": null,
      "outputs": [
        {
          "output_type": "stream",
          "text": [
            "두 정수를 입력하시오: 99 12\n",
            "12 99\n"
          ],
          "name": "stdout"
        }
      ]
    },
    {
      "cell_type": "markdown",
      "metadata": {
        "id": "cvKfRry1H7i_"
      },
      "source": [
        "Problem 3-6"
      ]
    },
    {
      "cell_type": "code",
      "metadata": {
        "id": "75CIqDcMPpis",
        "outputId": "b999fa1e-997c-4f1e-aed9-b005b9004139",
        "colab": {
          "base_uri": "https://localhost:8080/",
          "height": 55
        }
      },
      "source": [
        "a,b,c=input('세 정수를 입력하시오: ').split()\n",
        "a=int(a)\n",
        "b=int(b)\n",
        "c=int(c)\n",
        "if(a>b and b>c):\n",
        "  print(c,b,a)\n",
        "elif(b>a):\n",
        "  print(c,a,b)\n",
        "elif(c>b and b>a):\n",
        "  print(a,b,c)\n",
        "elif(b>c):\n",
        "  print(a,c,b)\n",
        "elif(c>a and a>b):\n",
        "  print(b,a,c)\n",
        "else:\n",
        "  print(b,c,a)\n"
      ],
      "execution_count": null,
      "outputs": [
        {
          "output_type": "stream",
          "text": [
            "세 정수를 입력하시오: 9 12 4\n",
            "4 9 12\n"
          ],
          "name": "stdout"
        }
      ]
    },
    {
      "cell_type": "code",
      "metadata": {
        "id": "emgDENAYUNYW",
        "outputId": "a95e4a10-5ccb-4b44-c34a-3f413b4eb16f",
        "colab": {
          "base_uri": "https://localhost:8080/",
          "height": 55
        }
      },
      "source": [
        "a,b,c=input('세 정수를 입력하시오: ').split()\n",
        "a=int(a)\n",
        "b=int(b)\n",
        "c=int(c)\n",
        "if(a>b and b>c):\n",
        "  print(c,b,a)\n",
        "elif(b>a):\n",
        "  print(c,a,b)\n",
        "elif(c>b and b>a):\n",
        "  print(a,b,c)\n",
        "elif(b>c):\n",
        "  print(a,c,b)\n",
        "elif(c>a and a>b):\n",
        "  print(b,a,c)\n",
        "else:\n",
        "  print(b,c,a)"
      ],
      "execution_count": null,
      "outputs": [
        {
          "output_type": "stream",
          "text": [
            "세 정수를 입력하시오: 99 12 4\n",
            "4 12 99\n"
          ],
          "name": "stdout"
        }
      ]
    },
    {
      "cell_type": "markdown",
      "metadata": {
        "id": "C2N1j6TdH9jn"
      },
      "source": [
        "Problem 3-7"
      ]
    },
    {
      "cell_type": "code",
      "metadata": {
        "id": "opksOLd1USNu",
        "outputId": "3ffa99df-b304-4c91-fe68-100cd5706f10",
        "colab": {
          "base_uri": "https://localhost:8080/",
          "height": 55
        }
      },
      "source": [
        "game_score=int(input('게임점수를 입력하시오: '))\n",
        "if(game_score>=1000):\n",
        "  print('고수입니다.')\n",
        "else:\n",
        "  print('입문자입니다.')"
      ],
      "execution_count": null,
      "outputs": [
        {
          "output_type": "stream",
          "text": [
            "게임점수를 입력하시오: 990\n",
            "입문자입니다.\n"
          ],
          "name": "stdout"
        }
      ]
    },
    {
      "cell_type": "markdown",
      "metadata": {
        "id": "OImEXpnrH_aN"
      },
      "source": [
        "Problem 3-8"
      ]
    },
    {
      "cell_type": "code",
      "metadata": {
        "id": "-v1oYtEQVxnU",
        "outputId": "353109ad-6dbd-42ee-f217-121be7aac718",
        "colab": {
          "base_uri": "https://localhost:8080/",
          "height": 55
        }
      },
      "source": [
        "x,y=input('점의 좌표 x, y를 입력하시오: ').split()\n",
        "x=int(x)\n",
        "y=int(y)\n",
        "if(x>0 and y>0):\n",
        "  print('1사분면에 있음')\n",
        "elif(x<0 and y>0):\n",
        "  print('2사분면에 있음')\n",
        "elif(x<0 and y<0):\n",
        "  print('3사분면에 있음')\n",
        "else:\n",
        "  print('4사분면에 있음')"
      ],
      "execution_count": null,
      "outputs": [
        {
          "output_type": "stream",
          "text": [
            "점의 좌표 x, y를 입력하시오: 2 4\n",
            "1사분면에 있음\n"
          ],
          "name": "stdout"
        }
      ]
    },
    {
      "cell_type": "code",
      "metadata": {
        "id": "J6HM4lcVbAJ6",
        "outputId": "079d380f-034f-4e91-a9c1-cf8860f3a97d",
        "colab": {
          "base_uri": "https://localhost:8080/",
          "height": 55
        }
      },
      "source": [
        "x,y=input('점의 좌표 x, y를 입력하시오: ').split()\n",
        "x=int(x)\n",
        "y=int(y)\n",
        "if(x>0 and y>0):\n",
        "  print('1사분면에 있음')\n",
        "elif(x<0 and y>0):\n",
        "  print('2사분면에 있음')\n",
        "elif(x<0 and y<0):\n",
        "  print('3사분면에 있음')\n",
        "else:\n",
        "  print('4사분면에 있음')"
      ],
      "execution_count": null,
      "outputs": [
        {
          "output_type": "stream",
          "text": [
            "점의 좌표 x, y를 입력하시오: -2 -4\n",
            "3사분면에 있음\n"
          ],
          "name": "stdout"
        }
      ]
    },
    {
      "cell_type": "markdown",
      "metadata": {
        "id": "z5YCEDSLIBXb"
      },
      "source": [
        "Problem 3-9"
      ]
    },
    {
      "cell_type": "code",
      "metadata": {
        "id": "zlF6kI5LbWM2",
        "outputId": "263a8ac5-1c3a-42cd-e78b-038d13f6034f",
        "colab": {
          "base_uri": "https://localhost:8080/",
          "height": 92
        }
      },
      "source": [
        "n=int(input('정수를 입력하시오: '))\n",
        "if(n%2==0):\n",
        "  print(n,'은 2(으)로 나누어집니다.')\n",
        "else:\n",
        "  print(n,'은 2(으)로 나누어지지 않습니다.')\n",
        "\n",
        "if(n%3==0):\n",
        "  print(n,'은 3(으)로 나누어집니다.')\n",
        "else:\n",
        "  print(n,'은 3(으)로 나누어지지 않습니다.')\n",
        "\n",
        "if(n%2==0 and n%3==0):\n",
        "  print(n,'은 2와(과) 3 모두로 나누어집니다.')\n",
        "else:\n",
        "  print(n,'는(은) 2와(과) 3 모두로 나누어지지 않습니다.')"
      ],
      "execution_count": null,
      "outputs": [
        {
          "output_type": "stream",
          "text": [
            "정수를 입력하시오: 15\n",
            "15 은 2(으)로 나누어지지 않습니다.\n",
            "15 은 3(으)로 나누어집니다.\n",
            "15 는(은) 2와(과) 3 모두로 나누어지지 않습니다.\n"
          ],
          "name": "stdout"
        }
      ]
    },
    {
      "cell_type": "code",
      "metadata": {
        "id": "lR4m2HIUd01m",
        "outputId": "beb317e1-fe8d-4e57-ce8c-a3291bab08be",
        "colab": {
          "base_uri": "https://localhost:8080/",
          "height": 92
        }
      },
      "source": [
        "n=int(input('정수를 입력하시오: '))\n",
        "if(n%2==0):\n",
        "  print(n,'은 2(으)로 나누어집니다.')\n",
        "else:\n",
        "  print(n,'은 2(으)로 나누어지지 않습니다.')\n",
        "\n",
        "if(n%3==0):\n",
        "  print(n,'은 3(으)로 나누어집니다.')\n",
        "else:\n",
        "  print(n,'은 3(으)로 나누어지지 않습니다.')\n",
        "\n",
        "if(n%2==0 and n%3==0):\n",
        "  print(n,'은 2와(과) 3 모두로 나누어집니다.')\n",
        "else:\n",
        "  print(n,'는(은) 2와(과) 3 모두로 나누어지지 않습니다.')"
      ],
      "execution_count": null,
      "outputs": [
        {
          "output_type": "stream",
          "text": [
            "정수를 입력하시오: 12\n",
            "12 은 2(으)로 나누어집니다.\n",
            "12 은 3(으)로 나누어집니다.\n",
            "12 은 2와(과) 3 모두로 나누어집니다.\n"
          ],
          "name": "stdout"
        }
      ]
    },
    {
      "cell_type": "markdown",
      "metadata": {
        "id": "XDa2xl0vVMJ-"
      },
      "source": [
        "Problem 3-10"
      ]
    },
    {
      "cell_type": "code",
      "metadata": {
        "id": "8E9w4qlfd5Vk",
        "outputId": "dc5e117b-34fb-4459-db99-8364a85d3bb1",
        "colab": {
          "base_uri": "https://localhost:8080/",
          "height": 55
        }
      },
      "source": [
        "a,b=input('두 정수를 입력하시오: ').split()\n",
        "a=int(a)\n",
        "b=int(b)\n",
        "\n",
        "if(a%b==0):\n",
        "  print(a,'는(은)',b,'의 배수입니다.')\n",
        "else:\n",
        "  print(a,'는(은)',b,'의 배수가 아닙니다.')"
      ],
      "execution_count": null,
      "outputs": [
        {
          "output_type": "stream",
          "text": [
            "두 정수를 입력하시오: 15 5\n",
            "15 는(은) 5 의 배수입니다.\n"
          ],
          "name": "stdout"
        }
      ]
    },
    {
      "cell_type": "code",
      "metadata": {
        "id": "eXdlwOPGe5Fa",
        "outputId": "e6ff784b-358a-47de-c252-f27c08b43c11",
        "colab": {
          "base_uri": "https://localhost:8080/",
          "height": 55
        }
      },
      "source": [
        "a,b=input('두 정수를 입력하시오: ').split()\n",
        "a=int(a)\n",
        "b=int(b)\n",
        "\n",
        "if(a%b==0):\n",
        "  print(a,'는(은)',b,'의 배수입니다.')\n",
        "else:\n",
        "  print(a,'는(은)',b,'의 배수가 아닙니다.')"
      ],
      "execution_count": null,
      "outputs": [
        {
          "output_type": "stream",
          "text": [
            "두 정수를 입력하시오: 125 52\n",
            "125 는(은) 52 의 배수가 아닙니다.\n"
          ],
          "name": "stdout"
        }
      ]
    },
    {
      "cell_type": "markdown",
      "metadata": {
        "id": "3vedTNo6VSPs"
      },
      "source": [
        "Problem 3-11"
      ]
    },
    {
      "cell_type": "code",
      "metadata": {
        "id": "fNxpi7L5fP7d",
        "outputId": "6e446f00-10e2-40ed-fc42-ea0fcfaf85ab",
        "colab": {
          "base_uri": "https://localhost:8080/",
          "height": 55
        }
      },
      "source": [
        "a,b,c=input('세 복권번호를 입력하시오: ').split()\n",
        "a=int(a)\n",
        "b=int(b)\n",
        "c=int(c)\n",
        "\n",
        "if(a==2 and b==3 and c==9):\n",
        "  print('상금 1억 원')\n",
        "elif(a==2 and b==9 and c==3):\n",
        "  print('상금 1억 원')\n",
        "elif(a==3 and b==2 and c==9):\n",
        "  print('상금 1억 원')\n",
        "elif(a==3 and b==9 and c==2):\n",
        "  print('상금 1억 원')\n",
        "elif(a==9 and b==2 and c==3):\n",
        "  print('상금 1억 원')\n",
        "elif(a==9 and b==3 and c==2):\n",
        "  print('상금 1억 원')\n",
        "elif(a==2 and b==3):\n",
        "  print('상금 1천만 원')\n",
        "elif(b==2 and a==3):\n",
        "  print('상금 1천만 원')\n",
        "elif(a==2 and c==3):\n",
        "  print('상금 1천만 원')\n",
        "elif(c==2 and a==3):\n",
        "  print('상금 1천만 원')\n",
        "elif(b==2 and c==3):\n",
        "  print('상금 1천만 원')\n",
        "elif(c==2 and b==3):\n",
        "  print('상금 1천만 원')\n",
        "\n",
        "elif(a==2 and b==9):\n",
        "  print('상금 1천만 원')\n",
        "elif(b==2 and a==9):\n",
        "  print('상금 1천만 원')\n",
        "elif(a==2 and c==9):\n",
        "  print('상금 1천만 원')\n",
        "elif(c==2 and a==9):\n",
        "  print('상금 1천만 원')\n",
        "elif(b==2 and c==9):\n",
        "  print('상금 1천만 원')\n",
        "elif(c==2 and b==9):\n",
        "  print('상금 1천만 원')\n",
        "\n",
        "elif(a==3 and b==9):\n",
        "  print('상금 1천만 원')\n",
        "elif(b==3 and a==9):\n",
        "  print('상금 1천만 원')\n",
        "elif(a==3 and c==9):\n",
        "  print('상금 1천만 원')\n",
        "elif(c==3 and a==9):\n",
        "  print('상금 1천만 원')\n",
        "elif(b==3 and c==9):\n",
        "  print('상금 1천만 원')\n",
        "elif(c==3 and b==9):\n",
        "  print('상금 1천만 원')\n",
        "elif(a==2):\n",
        "  print('상금 1만 원')\n",
        "elif(a==3):\n",
        "  print('상금 1만 원')\n",
        "elif(a==9):\n",
        "  print('상금 1만 원')\n",
        "elif(b==2):\n",
        "  print('상금 1만 원')\n",
        "elif(b==3):\n",
        "  print('상금 1만 원')\n",
        "elif(b==9):\n",
        "  print('상금 1만 원')\n",
        "elif(c==2):\n",
        "  print('상금 1만 원')\n",
        "elif(c==3):\n",
        "  print('상금 1만 원')\n",
        "elif(c==9):\n",
        "  print('상금 1만 원')\n",
        "else:\n",
        "  print('다음 기회에...')"
      ],
      "execution_count": null,
      "outputs": [
        {
          "output_type": "stream",
          "text": [
            "세 복권번호를 입력하시오: 1 5 7\n",
            "다음 기회에...\n"
          ],
          "name": "stdout"
        }
      ]
    },
    {
      "cell_type": "code",
      "metadata": {
        "id": "oErqWsH2hcgu",
        "outputId": "81be38c5-78b9-41f0-a1b3-b7a1918687f2",
        "colab": {
          "base_uri": "https://localhost:8080/",
          "height": 55
        }
      },
      "source": [
        "a,b,c=input('세 복권번호를 입력하시오: ').split()\n",
        "a=int(a)\n",
        "b=int(b)\n",
        "c=int(c)\n",
        "\n",
        "if(a==2 and b==3 and c==9):\n",
        "  print('상금 1억 원')\n",
        "elif(a==2 and b==9 and c==3):\n",
        "  print('상금 1억 원')\n",
        "elif(a==3 and b==2 and c==9):\n",
        "  print('상금 1억 원')\n",
        "elif(a==3 and b==9 and c==2):\n",
        "  print('상금 1억 원')\n",
        "elif(a==9 and b==2 and c==3):\n",
        "  print('상금 1억 원')\n",
        "elif(a==9 and b==3 and c==2):\n",
        "  print('상금 1억 원')\n",
        "elif(a==2 and b==3):\n",
        "  print('상금 1천만 원')\n",
        "elif(b==2 and a==3):\n",
        "  print('상금 1천만 원')\n",
        "elif(a==2 and c==3):\n",
        "  print('상금 1천만 원')\n",
        "elif(c==2 and a==3):\n",
        "  print('상금 1천만 원')\n",
        "elif(b==2 and c==3):\n",
        "  print('상금 1천만 원')\n",
        "elif(c==2 and b==3):\n",
        "  print('상금 1천만 원')\n",
        "\n",
        "elif(a==2 and b==9):\n",
        "  print('상금 1천만 원')\n",
        "elif(b==2 and a==9):\n",
        "  print('상금 1천만 원')\n",
        "elif(a==2 and c==9):\n",
        "  print('상금 1천만 원')\n",
        "elif(c==2 and a==9):\n",
        "  print('상금 1천만 원')\n",
        "elif(b==2 and c==9):\n",
        "  print('상금 1천만 원')\n",
        "elif(c==2 and b==9):\n",
        "  print('상금 1천만 원')\n",
        "\n",
        "elif(a==3 and b==9):\n",
        "  print('상금 1천만 원')\n",
        "elif(b==3 and a==9):\n",
        "  print('상금 1천만 원')\n",
        "elif(a==3 and c==9):\n",
        "  print('상금 1천만 원')\n",
        "elif(c==3 and a==9):\n",
        "  print('상금 1천만 원')\n",
        "elif(b==3 and c==9):\n",
        "  print('상금 1천만 원')\n",
        "elif(c==3 and b==9):\n",
        "  print('상금 1천만 원')\n",
        "elif(a==2):\n",
        "  print('상금 1만 원')\n",
        "elif(a==3):\n",
        "  print('상금 1만 원')\n",
        "elif(a==9):\n",
        "  print('상금 1만 원')\n",
        "elif(b==2):\n",
        "  print('상금 1만 원')\n",
        "elif(b==3):\n",
        "  print('상금 1만 원')\n",
        "elif(b==9):\n",
        "  print('상금 1만 원')\n",
        "elif(c==2):\n",
        "  print('상금 1만 원')\n",
        "elif(c==3):\n",
        "  print('상금 1만 원')\n",
        "elif(c==9):\n",
        "  print('상금 1만 원')\n",
        "else:\n",
        "  print('다음 기회에...')"
      ],
      "execution_count": null,
      "outputs": [
        {
          "output_type": "stream",
          "text": [
            "세 복권번호를 입력하시오: 1 2 7\n",
            "상금 1만 원\n"
          ],
          "name": "stdout"
        }
      ]
    },
    {
      "cell_type": "code",
      "metadata": {
        "id": "kIQWxO5xhdLp",
        "outputId": "fa7a5a68-eed3-435c-afb6-bf5ff3d4685b",
        "colab": {
          "base_uri": "https://localhost:8080/",
          "height": 55
        }
      },
      "source": [
        "a,b,c=input('세 복권번호를 입력하시오: ').split()\n",
        "a=int(a)\n",
        "b=int(b)\n",
        "c=int(c)\n",
        "\n",
        "if(a==2 and b==3 and c==9):\n",
        "  print('상금 1억 원')\n",
        "elif(a==2 and b==9 and c==3):\n",
        "  print('상금 1억 원')\n",
        "elif(a==3 and b==2 and c==9):\n",
        "  print('상금 1억 원')\n",
        "elif(a==3 and b==9 and c==2):\n",
        "  print('상금 1억 원')\n",
        "elif(a==9 and b==2 and c==3):\n",
        "  print('상금 1억 원')\n",
        "elif(a==9 and b==3 and c==2):\n",
        "  print('상금 1억 원')\n",
        "elif(a==2 and b==3):\n",
        "  print('상금 1천만 원')\n",
        "elif(b==2 and a==3):\n",
        "  print('상금 1천만 원')\n",
        "elif(a==2 and c==3):\n",
        "  print('상금 1천만 원')\n",
        "elif(c==2 and a==3):\n",
        "  print('상금 1천만 원')\n",
        "elif(b==2 and c==3):\n",
        "  print('상금 1천만 원')\n",
        "elif(c==2 and b==3):\n",
        "  print('상금 1천만 원')\n",
        "\n",
        "elif(a==2 and b==9):\n",
        "  print('상금 1천만 원')\n",
        "elif(b==2 and a==9):\n",
        "  print('상금 1천만 원')\n",
        "elif(a==2 and c==9):\n",
        "  print('상금 1천만 원')\n",
        "elif(c==2 and a==9):\n",
        "  print('상금 1천만 원')\n",
        "elif(b==2 and c==9):\n",
        "  print('상금 1천만 원')\n",
        "elif(c==2 and b==9):\n",
        "  print('상금 1천만 원')\n",
        "\n",
        "elif(a==3 and b==9):\n",
        "  print('상금 1천만 원')\n",
        "elif(b==3 and a==9):\n",
        "  print('상금 1천만 원')\n",
        "elif(a==3 and c==9):\n",
        "  print('상금 1천만 원')\n",
        "elif(c==3 and a==9):\n",
        "  print('상금 1천만 원')\n",
        "elif(b==3 and c==9):\n",
        "  print('상금 1천만 원')\n",
        "elif(c==3 and b==9):\n",
        "  print('상금 1천만 원')\n",
        "elif(a==2):\n",
        "  print('상금 1만 원')\n",
        "elif(a==3):\n",
        "  print('상금 1만 원')\n",
        "elif(a==9):\n",
        "  print('상금 1만 원')\n",
        "elif(b==2):\n",
        "  print('상금 1만 원')\n",
        "elif(b==3):\n",
        "  print('상금 1만 원')\n",
        "elif(b==9):\n",
        "  print('상금 1만 원')\n",
        "elif(c==2):\n",
        "  print('상금 1만 원')\n",
        "elif(c==3):\n",
        "  print('상금 1만 원')\n",
        "elif(c==9):\n",
        "  print('상금 1만 원')\n",
        "else:\n",
        "  print('다음 기회에...')"
      ],
      "execution_count": null,
      "outputs": [
        {
          "output_type": "stream",
          "text": [
            "세 복권번호를 입력하시오: 1 2 9\n",
            "상금 1천만 원\n"
          ],
          "name": "stdout"
        }
      ]
    },
    {
      "cell_type": "markdown",
      "metadata": {
        "id": "dsBo-ojCVS0L"
      },
      "source": [
        "Problem 3-12"
      ]
    },
    {
      "cell_type": "code",
      "metadata": {
        "id": "SseIwuY5kHWx",
        "outputId": "f1ec1461-195d-47c7-c279-4a485ef8e043",
        "colab": {
          "base_uri": "https://localhost:8080/",
          "height": 55
        }
      },
      "source": [
        "x,y=input('점의 좌표 x,y를 입력하시오: ').split()\n",
        "x=int(x)\n",
        "y=int(y)\n",
        "if((x**2+y**2)**0.5>5):\n",
        "  print('원의 외부에 있음')\n",
        "else:\n",
        "  print('원의 내부에 있음')"
      ],
      "execution_count": null,
      "outputs": [
        {
          "output_type": "stream",
          "text": [
            "점의 좌표 x,y를 입력하시오: 2 4\n",
            "원의 내부에 있음\n"
          ],
          "name": "stdout"
        }
      ]
    },
    {
      "cell_type": "code",
      "metadata": {
        "id": "zHcmMhvxnacC",
        "outputId": "021df975-d754-4035-b27b-92ec679c3d4f",
        "colab": {
          "base_uri": "https://localhost:8080/",
          "height": 55
        }
      },
      "source": [
        "x,y=input('점의 좌표 x,y를 입력하시오: ').split()\n",
        "x=int(x)\n",
        "y=int(y)\n",
        "if((x**2+y**2)**0.5>5):\n",
        "  print('원의 외부에 있음')\n",
        "else:\n",
        "  print('원의 내부에 있음')"
      ],
      "execution_count": null,
      "outputs": [
        {
          "output_type": "stream",
          "text": [
            "점의 좌표 x,y를 입력하시오: 7 9\n",
            "원의 외부에 있음\n"
          ],
          "name": "stdout"
        }
      ]
    },
    {
      "cell_type": "markdown",
      "metadata": {
        "id": "IvGfCPMlVX37"
      },
      "source": [
        "Problem 3-13"
      ]
    },
    {
      "cell_type": "code",
      "metadata": {
        "id": "1meU8uDZploB",
        "outputId": "95a35d6a-8e0d-4312-afe6-232b0a476a8d",
        "colab": {
          "base_uri": "https://localhost:8080/",
          "height": 55
        }
      },
      "source": [
        "x,y=input('점의 좌표 x,y를 입력하시오: ').split()\n",
        "x=int(x)\n",
        "y=int(y)\n",
        "if(((x-3)**2+(y-4)**2)**0.5>10):\n",
        "  print('원의 외부에 있음')\n",
        "else:\n",
        "  print('원의 내부에 있음')"
      ],
      "execution_count": null,
      "outputs": [
        {
          "output_type": "stream",
          "text": [
            "점의 좌표 x,y를 입력하시오: -9 -5\n",
            "원의 외부에 있음\n"
          ],
          "name": "stdout"
        }
      ]
    },
    {
      "cell_type": "code",
      "metadata": {
        "id": "W9Kw0QJBpvJ6",
        "outputId": "83f91f67-22a6-4786-a1fe-f3bb62ae045a",
        "colab": {
          "base_uri": "https://localhost:8080/",
          "height": 55
        }
      },
      "source": [
        "x,y=input('점의 좌표 x,y를 입력하시오: ').split()\n",
        "x=int(x)\n",
        "y=int(y)\n",
        "if(((x-3)**2+(y-4)**2)**0.5>10):\n",
        "  print('원의 외부에 있음')\n",
        "else:\n",
        "  print('원의 내부에 있음')"
      ],
      "execution_count": null,
      "outputs": [
        {
          "output_type": "stream",
          "text": [
            "점의 좌표 x,y를 입력하시오: 7 9\n",
            "원의 내부에 있음\n"
          ],
          "name": "stdout"
        }
      ]
    },
    {
      "cell_type": "markdown",
      "metadata": {
        "id": "0dK4pcO8VZ-f"
      },
      "source": [
        "Problem 3-14"
      ]
    },
    {
      "cell_type": "code",
      "metadata": {
        "id": "pf8W11OuqFpQ"
      },
      "source": [
        ""
      ],
      "execution_count": null,
      "outputs": []
    },
    {
      "cell_type": "code",
      "metadata": {
        "id": "BLSfgQU7qF94",
        "outputId": "27edf5b2-47fa-48e6-e32e-1c1dd570e373",
        "colab": {
          "base_uri": "https://localhost:8080/",
          "height": 55
        }
      },
      "source": [
        "a=input('알파벳을 입력하시오: ')\n",
        "if(a=='a'or a=='e' or a=='i' or a=='o' or a=='u'):\n",
        "  print(a,'(은)는 모음입니다.')\n",
        "else:\n",
        "  print(a,'(은)는 자음입니다.')"
      ],
      "execution_count": null,
      "outputs": [
        {
          "output_type": "stream",
          "text": [
            "알파벳을 입력하시오: i\n",
            "i (은)는 모음입니다.\n"
          ],
          "name": "stdout"
        }
      ]
    },
    {
      "cell_type": "code",
      "metadata": {
        "id": "a2BsArIts9lF",
        "outputId": "45ae64c0-c57e-48b9-824a-90b45c9876c5",
        "colab": {
          "base_uri": "https://localhost:8080/",
          "height": 55
        }
      },
      "source": [
        "a=input('알파벳을 입력하시오: ')\n",
        "if(a=='a'or a=='e' or a=='i' or a=='o' or a=='u'):\n",
        "  print(a,'(은)는 모음입니다.')\n",
        "else:\n",
        "  print(a,'(은)는 자음입니다.')"
      ],
      "execution_count": null,
      "outputs": [
        {
          "output_type": "stream",
          "text": [
            "알파벳을 입력하시오: t\n",
            "t (은)는 자음입니다.\n"
          ],
          "name": "stdout"
        }
      ]
    },
    {
      "cell_type": "markdown",
      "metadata": {
        "id": "a2O1hgytVcn8"
      },
      "source": [
        "Problem 3-15"
      ]
    },
    {
      "cell_type": "code",
      "metadata": {
        "id": "f9VN5PIIVRNk",
        "outputId": "a05dd727-6a91-4dcf-a2da-c8408e221917",
        "colab": {
          "base_uri": "https://localhost:8080/",
          "height": 185
        }
      },
      "source": [
        "n=0\n",
        "i=1\n",
        "while n<9:\n",
        "  n=n+i\n",
        "  print('2*',n,'=',2*n)\n"
      ],
      "execution_count": null,
      "outputs": [
        {
          "output_type": "stream",
          "text": [
            "2* 1 = 2\n",
            "2* 2 = 4\n",
            "2* 3 = 6\n",
            "2* 4 = 8\n",
            "2* 5 = 10\n",
            "2* 6 = 12\n",
            "2* 7 = 14\n",
            "2* 8 = 16\n",
            "2* 9 = 18\n"
          ],
          "name": "stdout"
        }
      ]
    },
    {
      "cell_type": "code",
      "metadata": {
        "id": "PimySQd6wnve",
        "outputId": "a9625cd0-42eb-482a-9a47-fc36c65a4f10",
        "colab": {
          "base_uri": "https://localhost:8080/",
          "height": 185
        }
      },
      "source": [
        "for i in range(1,10,1):\n",
        "  print('2*',i,'=',2*i)"
      ],
      "execution_count": null,
      "outputs": [
        {
          "output_type": "stream",
          "text": [
            "2* 1 = 2\n",
            "2* 2 = 4\n",
            "2* 3 = 6\n",
            "2* 4 = 8\n",
            "2* 5 = 10\n",
            "2* 6 = 12\n",
            "2* 7 = 14\n",
            "2* 8 = 16\n",
            "2* 9 = 18\n"
          ],
          "name": "stdout"
        }
      ]
    },
    {
      "cell_type": "markdown",
      "metadata": {
        "id": "AwR8K5DzaFRf"
      },
      "source": [
        "Problem 3-16"
      ]
    },
    {
      "cell_type": "code",
      "metadata": {
        "id": "4riUwEcbaNqy",
        "outputId": "760c3b87-0d04-45e2-bcfb-dccbb29f9b5c",
        "colab": {
          "base_uri": "https://localhost:8080/",
          "height": 241
        }
      },
      "source": [
        "a=int(input('1에서 9까지의 수를 입력하세요: '))\n",
        "while a not in [1,2,3,4,5,6,7,8,9]:\n",
        "  a=int(input('1에서 9까지의 수를 다시 입력하세요: '))\n",
        "\n",
        "i=0\n",
        "while i<9:\n",
        "  i=i+1\n",
        "  print(a,'*',i,'=',a*i)\n"
      ],
      "execution_count": null,
      "outputs": [
        {
          "output_type": "stream",
          "text": [
            "1에서 9까지의 수를 입력하세요: 11\n",
            "1에서 9까지의 수를 다시 입력하세요: 10\n",
            "1에서 9까지의 수를 다시 입력하세요: 2\n",
            "2 * 1 = 2\n",
            "2 * 2 = 4\n",
            "2 * 3 = 6\n",
            "2 * 4 = 8\n",
            "2 * 5 = 10\n",
            "2 * 6 = 12\n",
            "2 * 7 = 14\n",
            "2 * 8 = 16\n",
            "2 * 9 = 18\n"
          ],
          "name": "stdout"
        }
      ]
    },
    {
      "cell_type": "code",
      "metadata": {
        "id": "mpkXgwPYc4Ca",
        "outputId": "a90607a3-823e-4658-dbf9-b6b57f24b758",
        "colab": {
          "base_uri": "https://localhost:8080/",
          "height": 241
        }
      },
      "source": [
        "a=int(input('1에서 9까지의 수를 입력하세요: '))\n",
        "while a not in [1,2,3,4,5,6,7,8,9]:\n",
        "  a=int(input('1에서 9까지의 수를 다시 입력하세요: '))\n",
        "\n",
        "for i in range(1,10,1):\n",
        "  print(a,'*',i,'=',a*i)"
      ],
      "execution_count": null,
      "outputs": [
        {
          "output_type": "stream",
          "text": [
            "1에서 9까지의 수를 입력하세요: 11\n",
            "1에서 9까지의 수를 다시 입력하세요: 13\n",
            "1에서 9까지의 수를 다시 입력하세요: 2\n",
            "2 * 1 = 2\n",
            "2 * 2 = 4\n",
            "2 * 3 = 6\n",
            "2 * 4 = 8\n",
            "2 * 5 = 10\n",
            "2 * 6 = 12\n",
            "2 * 7 = 14\n",
            "2 * 8 = 16\n",
            "2 * 9 = 18\n"
          ],
          "name": "stdout"
        }
      ]
    },
    {
      "cell_type": "markdown",
      "metadata": {
        "id": "2kb8Yj7oaFrA"
      },
      "source": [
        "Problem 3-18"
      ]
    },
    {
      "cell_type": "code",
      "metadata": {
        "id": "odBYNJpAdxxv",
        "outputId": "64a9c5a3-80bc-4bb4-db4b-e81346d30724",
        "colab": {
          "base_uri": "https://localhost:8080/",
          "height": 185
        }
      },
      "source": [
        "print('맛나 식당에 오신 것을 환영합니다. 메뉴는 다음과 같습니다.')\n",
        "print('1) 햄버거')\n",
        "print('2) 치킨')\n",
        "print('3) 피자')\n",
        "a=int(input('1에서 3까지의 메뉴를 선택하세요: '))\n",
        "\n",
        "while a not in [1,2,3]:\n",
        "  a=int(input('메뉴를 다시 입력하세요: '))\n",
        "if(a==1):\n",
        "  print('햄버거를 선택하였습니다.')\n",
        "elif(a==2):\n",
        "  print('치킨을 선택하였습니다.')\n",
        "else:\n",
        "  print('피자를 선택하였습니다.')"
      ],
      "execution_count": null,
      "outputs": [
        {
          "output_type": "stream",
          "text": [
            "맛나 식당에 오신 것을 환영합니다. 메뉴는 다음과 같습니다.\n",
            "1) 햄버거\n",
            "2) 치킨\n",
            "3) 피자\n",
            "1에서 3까지의 메뉴를 선택하세요: 6\n",
            "메뉴를 다시 입력하세요: 0\n",
            "메뉴를 다시 입력하세요: 5\n",
            "메뉴를 다시 입력하세요: 2\n",
            "치킨을 선택하였습니다.\n"
          ],
          "name": "stdout"
        }
      ]
    },
    {
      "cell_type": "markdown",
      "metadata": {
        "id": "yXu1k8g4aF_l"
      },
      "source": [
        "Problem 3-19"
      ]
    },
    {
      "cell_type": "code",
      "metadata": {
        "id": "DQdotYcahwDo",
        "outputId": "f56da2c6-3a31-46cb-e6b9-2cd501fe7995",
        "colab": {
          "base_uri": "https://localhost:8080/",
          "height": 148
        }
      },
      "source": [
        "print('맛나 식당에 오신 것을 환영합니다. 메뉴는 다음과 같습니다.')\n",
        "print('햄버거(입력 b)')\n",
        "print('치킨(입력 c)')\n",
        "print('피자(입력 p)')\n",
        "x=input('메뉴를 선택하세요(알파벳 b,c,p 입력): ')\n",
        "\n",
        "while a not in ['b','c','p']:\n",
        "  a=input('메뉴를 다시 입력하세요(알파벳 b,c,p 입력): ')\n",
        "if(a=='b'):\n",
        "  print('햄버거를 선택하였습니다.')\n",
        "elif(a=='c'):\n",
        "  print('치킨을 선택하였습니다.')\n",
        "else:\n",
        "  print('피자를 선택하였습니다.')"
      ],
      "execution_count": null,
      "outputs": [
        {
          "output_type": "stream",
          "text": [
            "맛나 식당에 오신 것을 환영합니다. 메뉴는 다음과 같습니다.\n",
            "햄버거(입력 b)\n",
            "치킨(입력 c)\n",
            "피자(입력 p)\n",
            "메뉴를 선택하세요(알파벳 b,c,p 입력): x\n",
            "메뉴를 다시 입력하세요(알파벳 b,c,p 입력): p\n",
            "피자를 선택하였습니다.\n"
          ],
          "name": "stdout"
        }
      ]
    },
    {
      "cell_type": "markdown",
      "metadata": {
        "id": "IaSZb2WUaGV8"
      },
      "source": [
        "Problem 3-20"
      ]
    },
    {
      "cell_type": "code",
      "metadata": {
        "id": "DdHSSGQnjjwD",
        "outputId": "318f1cb5-4bfc-4578-90ea-9c633e98603f",
        "colab": {
          "base_uri": "https://localhost:8080/",
          "height": 148
        }
      },
      "source": [
        "n=int(input('숫자를 입력하세요: '))\n",
        "for i in range(n):\n",
        "  st='*'\n",
        "  for j in range(i):\n",
        "    st=st+'*'\n",
        "  print(st)\n"
      ],
      "execution_count": null,
      "outputs": [
        {
          "output_type": "stream",
          "text": [
            "숫자를 입력하세요: 6\n",
            "*\n",
            "**\n",
            "***\n",
            "****\n",
            "*****\n",
            "******\n"
          ],
          "name": "stdout"
        }
      ]
    },
    {
      "cell_type": "markdown",
      "metadata": {
        "id": "R8cE4zMOaG-6"
      },
      "source": [
        "Problem 3-21"
      ]
    },
    {
      "cell_type": "code",
      "metadata": {
        "id": "sfddCq2Ot9Dl",
        "outputId": "41fd88cd-5db7-4b1f-eb05-5fcbfdda1e0c",
        "colab": {
          "base_uri": "https://localhost:8080/",
          "height": 55
        }
      },
      "source": [
        "n=int(input('숫자를 입력하세요: '))\n",
        "b=0\n",
        "\n",
        "for i in range(2,n):\n",
        "  if n%i==0:\n",
        "    b=1\n",
        "\n",
        "if b==0:\n",
        "  print(n,'는 소수입니다')\n",
        "else:\n",
        "  print(n,'는 소수가 아닙니다')\n"
      ],
      "execution_count": null,
      "outputs": [
        {
          "output_type": "stream",
          "text": [
            "숫자를 입력하세요: 5\n",
            "5 는 소수입니다\n"
          ],
          "name": "stdout"
        }
      ]
    },
    {
      "cell_type": "code",
      "metadata": {
        "id": "VOIfPW75QWf3",
        "outputId": "fe27332a-e904-44b5-b102-3afc10ba9fef",
        "colab": {
          "base_uri": "https://localhost:8080/",
          "height": 55
        }
      },
      "source": [
        "n=int(input('숫자를 입력하세요: '))\n",
        "b=0\n",
        "\n",
        "for i in range(2,n):\n",
        "  if n%i==0:\n",
        "    b=1\n",
        "\n",
        "if b==0:\n",
        "  print(n,'는 소수입니다')\n",
        "else:\n",
        "  print(n,'는 소수가 아닙니다')"
      ],
      "execution_count": null,
      "outputs": [
        {
          "output_type": "stream",
          "text": [
            "숫자를 입력하세요: 9\n",
            "9 는 소수가 아닙니다\n"
          ],
          "name": "stdout"
        }
      ]
    },
    {
      "cell_type": "markdown",
      "metadata": {
        "id": "7u-f1jRXaHax"
      },
      "source": [
        "Problem 3-22"
      ]
    },
    {
      "cell_type": "code",
      "metadata": {
        "id": "R80YySz6RzyG",
        "outputId": "702fd537-cf27-45f1-855b-2852a6087326",
        "colab": {
          "base_uri": "https://localhost:8080/",
          "height": 36
        }
      },
      "source": [
        "b=0\n",
        "if(n<13):\n",
        "  for i in range(2,n):\n",
        "    n+=1\n",
        "    if n%i==0:\n",
        "      b=1\n",
        "    else:\n",
        "      b=0\n",
        "  if b==0:\n",
        "    print(n,': 소수')\n",
        "  else:\n",
        "    print(n,': 합성수')\n",
        "   \n",
        "\n",
        "\n",
        "\n"
      ],
      "execution_count": null,
      "outputs": [
        {
          "output_type": "stream",
          "text": [
            "1 : 소수\n"
          ],
          "name": "stdout"
        }
      ]
    },
    {
      "cell_type": "markdown",
      "metadata": {
        "id": "W6qOVsrLaHuP"
      },
      "source": [
        "Problem 3-23"
      ]
    },
    {
      "cell_type": "code",
      "metadata": {
        "id": "HrvdYc0Gd31i",
        "outputId": "9ca20b7b-9f0d-447e-899b-1817c793b213",
        "colab": {
          "base_uri": "https://localhost:8080/",
          "height": 55
        }
      },
      "source": [
        "n=int(input('숫자를 입력하세요: '))\n",
        "i=1\n",
        "s=0\n",
        "for i in range(n):\n",
        "  i+=1\n",
        "  s=s+i**2\n",
        "print('결과는',s,'입니다.')\n"
      ],
      "execution_count": null,
      "outputs": [
        {
          "output_type": "stream",
          "text": [
            "숫자를 입력하세요: 5\n",
            "결과는 55 입니다.\n"
          ],
          "name": "stdout"
        }
      ]
    },
    {
      "cell_type": "markdown",
      "metadata": {
        "id": "ektpyoRvaIKE"
      },
      "source": [
        "Problem 3-24"
      ]
    },
    {
      "cell_type": "code",
      "metadata": {
        "id": "4CX8ZoyGe8wp",
        "outputId": "41ca5bf2-f7b1-4169-a1c2-6ab173ff05a0",
        "colab": {
          "base_uri": "https://localhost:8080/",
          "height": 55
        }
      },
      "source": [
        "n=int(input('숫자를 입력하세요: '))\n",
        "i=1\n",
        "s=0\n",
        "for i in range(n):\n",
        "  i+=1\n",
        "  s=s+(1/i**2)\n",
        "print('결과는',s,'입니다.')"
      ],
      "execution_count": null,
      "outputs": [
        {
          "output_type": "stream",
          "text": [
            "숫자를 입력하세요: 10\n",
            "결과는 1.5497677311665408 입니다.\n"
          ],
          "name": "stdout"
        }
      ]
    },
    {
      "cell_type": "code",
      "metadata": {
        "id": "QaJER3stf2Kz",
        "outputId": "133bb7be-14a2-4373-b0c4-7c6cd66ba443",
        "colab": {
          "base_uri": "https://localhost:8080/",
          "height": 55
        }
      },
      "source": [
        "n=int(input('숫자를 입력하세요: '))\n",
        "i=1\n",
        "s=0\n",
        "for i in range(n):\n",
        "  i+=1\n",
        "  s=s+(1/i**2)\n",
        "print('결과는',s,'입니다.')"
      ],
      "execution_count": null,
      "outputs": [
        {
          "output_type": "stream",
          "text": [
            "숫자를 입력하세요: 100\n",
            "결과는 1.6349839001848923 입니다.\n"
          ],
          "name": "stdout"
        }
      ]
    },
    {
      "cell_type": "markdown",
      "metadata": {
        "id": "R3Om4xRoaIpW"
      },
      "source": [
        "Problem 3-25"
      ]
    },
    {
      "cell_type": "code",
      "metadata": {
        "id": "2FNNAEYuf9h4",
        "outputId": "dbc6a2a5-dc2d-4cba-f6f7-6f0633eb2887",
        "colab": {
          "base_uri": "https://localhost:8080/",
          "height": 279
        }
      },
      "source": [
        "i=0\n",
        "n=0\n",
        "while n<30:\n",
        "  i+=1\n",
        "  n=n+7\n",
        "  print('day:',i,'달팽이의 위치:',n,'미터')\n",
        "  if(n>=30):\n",
        "    print('우물을 탈출하는 데 걸린 날은',i,'일 입니다.')\n",
        "  else:\n",
        "    n=n-5"
      ],
      "execution_count": null,
      "outputs": [
        {
          "output_type": "stream",
          "text": [
            "day: 1 달팽이의 위치: 7 미터\n",
            "day: 2 달팽이의 위치: 9 미터\n",
            "day: 3 달팽이의 위치: 11 미터\n",
            "day: 4 달팽이의 위치: 13 미터\n",
            "day: 5 달팽이의 위치: 15 미터\n",
            "day: 6 달팽이의 위치: 17 미터\n",
            "day: 7 달팽이의 위치: 19 미터\n",
            "day: 8 달팽이의 위치: 21 미터\n",
            "day: 9 달팽이의 위치: 23 미터\n",
            "day: 10 달팽이의 위치: 25 미터\n",
            "day: 11 달팽이의 위치: 27 미터\n",
            "day: 12 달팽이의 위치: 29 미터\n",
            "day: 13 달팽이의 위치: 31 미터\n",
            "우물을 탈출하는 데 걸린 날은 13 일 입니다.\n"
          ],
          "name": "stdout"
        }
      ]
    },
    {
      "cell_type": "markdown",
      "metadata": {
        "id": "kp1-6HhcaJC-"
      },
      "source": [
        "Problem 3-26"
      ]
    },
    {
      "cell_type": "code",
      "metadata": {
        "id": "C_6-2ndNls5I",
        "outputId": "8758f295-a13a-472b-ee3b-44cb82ad02d6",
        "colab": {
          "base_uri": "https://localhost:8080/",
          "height": 129
        }
      },
      "source": [
        "n=int(input('n을 입력하시오: '))\n",
        "i=0\n",
        "while i<=n:\n",
        "  i=i+1\n",
        "  for i in range(1,n+1):\n",
        "    print(i,end='  ')\n",
        "  print()\n",
        "  for i in range(2*n,n,-1):\n",
        "    print(i,end='  ')\n",
        "  print()\n",
        "  for i in range(2*n+1,3*n+1):\n",
        "    print(i,end='  ')\n",
        "  print()\n",
        "  for i in range(4*n,3*n,-1):\n",
        "    print(i,end='  ')\n",
        "  print()\n",
        "  for i in range(4*n+1,5*n+1):\n",
        "    print(i,end='  ')\n"
      ],
      "execution_count": null,
      "outputs": [
        {
          "output_type": "stream",
          "text": [
            "n을 입력하시오: 5\n",
            "1  2  3  4  5  \n",
            "10  9  8  7  6  \n",
            "11  12  13  14  15  \n",
            "20  19  18  17  16  \n",
            "21  22  23  24  25  "
          ],
          "name": "stdout"
        }
      ]
    },
    {
      "cell_type": "markdown",
      "metadata": {
        "id": "kaA-A12gaJcu"
      },
      "source": [
        "Problem 3-27"
      ]
    },
    {
      "cell_type": "code",
      "metadata": {
        "id": "OmJYI06gx7MR",
        "outputId": "be52db76-cd6b-4ee8-ae49-0a9960a5aad6",
        "colab": {
          "base_uri": "https://localhost:8080/",
          "height": 36
        }
      },
      "source": [
        "for i in range(100,1000,1):\n",
        "    a1 = int(str(i)[0])\n",
        "    a2 = int(str(i)[1])\n",
        "    a3 = int(str(i)[2])\n",
        " \n",
        "    if i == (a1**3 + a2**3 + a3**3 ):\n",
        "        print(i,end=' ')"
      ],
      "execution_count": null,
      "outputs": [
        {
          "output_type": "stream",
          "text": [
            "153 370 371 407 "
          ],
          "name": "stdout"
        }
      ]
    },
    {
      "cell_type": "markdown",
      "metadata": {
        "id": "noZkJZjgaKRE"
      },
      "source": [
        "Problem 3-28"
      ]
    },
    {
      "cell_type": "code",
      "metadata": {
        "id": "48bqvO-g_Qz7",
        "outputId": "abf631ae-6921-4615-aca1-7c9749c12d03",
        "colab": {
          "base_uri": "https://localhost:8080/",
          "height": 55
        }
      },
      "source": [
        "n=int(input('정수를 입력하시오:'))\n",
        "a=str(n).count('0')\n",
        "b=str(n).count('1')\n",
        "c=str(n).count('2')\n",
        "d=str(n).count('3')\n",
        "e=str(n).count('4')\n",
        "f=str(n).count('5')\n",
        "g=str(n).count('6')\n",
        "h=str(n).count('7')\n",
        "i=str(n).count('8')\n",
        "j=str(n).count('9')\n",
        "if(str(n)[0]==str(n)[a+b+c+d+e+f+g+h+i+j-1]):\n",
        "  print(n,'은(는) 거꾸로 정수입니다.')\n",
        "else:\n",
        "  print(n,'은(는) 거꾸로 정수가 아닙니다.')"
      ],
      "execution_count": null,
      "outputs": [
        {
          "output_type": "stream",
          "text": [
            "정수를 입력하시오:3443\n",
            "3443 은(는) 거꾸로 정수입니다.\n"
          ],
          "name": "stdout"
        }
      ]
    },
    {
      "cell_type": "code",
      "metadata": {
        "id": "lt7fljHiH3P8",
        "outputId": "9bbca970-1ad1-4f84-f0f5-6a9d97a242fc",
        "colab": {
          "base_uri": "https://localhost:8080/",
          "height": 55
        }
      },
      "source": [
        "n=int(input('정수를 입력하시오:'))\n",
        "a=str(n).count('0')\n",
        "b=str(n).count('1')\n",
        "c=str(n).count('2')\n",
        "d=str(n).count('3')\n",
        "e=str(n).count('4')\n",
        "f=str(n).count('5')\n",
        "g=str(n).count('6')\n",
        "h=str(n).count('7')\n",
        "i=str(n).count('8')\n",
        "j=str(n).count('9')\n",
        "if(str(n)[0]==str(n)[a+b+c+d+e+f+g+h+i+j-1]):\n",
        "  print(n,'은(는) 거꾸로 정수입니다.')\n",
        "else:\n",
        "  print(n,'은(는) 거꾸로 정수가 아닙니다.')"
      ],
      "execution_count": null,
      "outputs": [
        {
          "output_type": "stream",
          "text": [
            "정수를 입력하시오:324\n",
            "324 은(는) 거꾸로 정수가 아닙니다.\n"
          ],
          "name": "stdout"
        }
      ]
    },
    {
      "cell_type": "markdown",
      "metadata": {
        "id": "D5FK0uMZe2Xz"
      },
      "source": [
        "Problem 3-29"
      ]
    },
    {
      "cell_type": "code",
      "metadata": {
        "id": "3DaIS5SJIAS6",
        "outputId": "88cd40cf-1460-4682-de10-d03d27c9bcae",
        "colab": {
          "base_uri": "https://localhost:8080/",
          "height": 148
        }
      },
      "source": [
        "n=500\n",
        "while n:\n",
        "  a=int(input('충전 또는 사용한 연료를 +/- 기호와 함께 입력하시오:'))\n",
        "  n=n+a\n",
        "  print('현재 탱크양은',n,'입니다.')\n",
        "  if(n<50):\n",
        "    break\n",
        "\n",
        "print('경고: 연료가 10% 미만이니 충전하세요!')"
      ],
      "execution_count": null,
      "outputs": [
        {
          "output_type": "stream",
          "text": [
            "충전 또는 사용한 연료를 +/- 기호와 함께 입력하시오:+60\n",
            "현재 탱크양은 560 입니다.\n",
            "충전 또는 사용한 연료를 +/- 기호와 함께 입력하시오:-300\n",
            "현재 탱크양은 260 입니다.\n",
            "충전 또는 사용한 연료를 +/- 기호와 함께 입력하시오:-220\n",
            "현재 탱크양은 40 입니다.\n",
            "경고: 연료가 10% 미만이니 충전하세요!\n"
          ],
          "name": "stdout"
        }
      ]
    },
    {
      "cell_type": "markdown",
      "metadata": {
        "id": "jgGTDTBEe3ME"
      },
      "source": [
        "Problem 3-30"
      ]
    },
    {
      "cell_type": "code",
      "metadata": {
        "id": "yayioyceMnqE",
        "outputId": "4954faea-f70c-47da-d031-3d94d13ee118",
        "colab": {
          "base_uri": "https://localhost:8080/",
          "height": 92
        }
      },
      "source": [
        "print('1) 덧셈\\t 2) 뺄셈 3)곱셈\\t 4)나눗셈')\n",
        "a=int(input('어떤 연산을 원하는지 번호를 입력하세요:'))\n",
        "if(a==1 or a==2 or a==3 or a==4):\n",
        "  x,y=input('연산을 원하는 숫자 두개를 입력하세요').split()\n",
        "  x=int(x)\n",
        "  y=int(y)\n",
        "  if(a==1):\n",
        "    print(x,'+',y,'=',x+y)\n",
        "  elif(a==2):\n",
        "    print(x,'-',y,'=',x-y)\n",
        "  elif(a==3):\n",
        "    print(x,'*',y,'=',x*y)\n",
        "  else:\n",
        "    print(x,'/',y,'=',x/y)\n",
        "else:\n",
        "  print('잘못 입력하셨습니다.')\n"
      ],
      "execution_count": null,
      "outputs": [
        {
          "output_type": "stream",
          "text": [
            "1) 덧셈\t 2) 뺄셈 3)곱셈\t 4)나눗셈\n",
            "어떤 연산을 원하는지 번호를 입력하세요:4\n",
            "연산을 원하는 숫자 두개를 입력하세요3 4\n",
            "3 / 4 = 0.75\n"
          ],
          "name": "stdout"
        }
      ]
    },
    {
      "cell_type": "code",
      "metadata": {
        "id": "WsmCaFm9OXyV",
        "outputId": "028812e0-3cfc-4d7c-9856-c916c6cb2226",
        "colab": {
          "base_uri": "https://localhost:8080/",
          "height": 73
        }
      },
      "source": [
        "print('1) 덧셈\\t 2) 뺄셈 3)곱셈\\t 4)나눗셈')\n",
        "a=int(input('어떤 연산을 원하는지 번호를 입력하세요:'))\n",
        "if(a==1 or a==2 or a==3 or a==4):\n",
        "  x,y=input('연산을 원하는 숫자 두개를 입력하세요').split()\n",
        "  x=int(x)\n",
        "  y=int(y)\n",
        "  if(a==1):\n",
        "    print(x,'+',y,'=',x+y)\n",
        "  elif(a==2):\n",
        "    print(x,'-',y,'=',x-y)\n",
        "  elif(a==3):\n",
        "    print(x,'*',y,'=',x*y)\n",
        "  else:\n",
        "    print(x,'/',y,'=',x/y)\n",
        "else:\n",
        "  print('잘못 입력하셨습니다.')\n"
      ],
      "execution_count": null,
      "outputs": [
        {
          "output_type": "stream",
          "text": [
            "1) 덧셈\t 2) 뺄셈 3)곱셈\t 4)나눗셈\n",
            "어떤 연산을 원하는지 번호를 입력하세요:6\n",
            "잘못 입력하셨습니다.\n"
          ],
          "name": "stdout"
        }
      ]
    },
    {
      "cell_type": "markdown",
      "metadata": {
        "id": "8wBylumJe4IR"
      },
      "source": [
        "Problem 3-31"
      ]
    },
    {
      "cell_type": "code",
      "metadata": {
        "id": "wBJbAXbVPuWA",
        "outputId": "0c4e26dc-7f8e-43d0-9cf9-db7aae59466f",
        "colab": {
          "background_save": true,
          "base_uri": "https://localhost:8080/",
          "height": 316
        }
      },
      "source": [
        "def divisors(n):\n",
        "    i=2;total=1\n",
        "    while i<n:\n",
        "        if n%i==0:\n",
        "            total+=i\n",
        "        i+=1\n",
        "    return total\n",
        " \n",
        "for i in range(1,200000):\n",
        "    value = divisors(i)\n",
        "    if i != value and divisors(value) == i:\n",
        "        print(i,'의 친화수', value)"
      ],
      "execution_count": null,
      "outputs": [
        {
          "output_type": "stream",
          "text": [
            "220 의 친화수 284\n",
            "284 의 친화수 220\n",
            "1184 의 친화수 1210\n",
            "1210 의 친화수 1184\n",
            "2620 의 친화수 2924\n",
            "2924 의 친화수 2620\n",
            "5020 의 친화수 5564\n",
            "5564 의 친화수 5020\n",
            "6232 의 친화수 6368\n",
            "6368 의 친화수 6232\n",
            "10744 의 친화수 10856\n",
            "10856 의 친화수 10744\n",
            "12285 의 친화수 14595\n",
            "14595 의 친화수 12285\n",
            "17296 의 친화수 18416\n",
            "18416 의 친화수 17296\n",
            "63020 의 친화수 76084\n",
            "66928 의 친화수 66992\n",
            "66992 의 친화수 66928\n",
            "67095 의 친화수 71145\n",
            "69615 의 친화수 87633\n",
            "71145 의 친화수 67095\n",
            "76084 의 친화수 63020\n",
            "79750 의 친화수 88730\n",
            "87633 의 친화수 69615\n",
            "88730 의 친화수 79750\n",
            "100485 의 친화수 124155\n",
            "122265 의 친화수 139815\n",
            "122368 의 친화수 123152\n",
            "123152 의 친화수 122368\n",
            "124155 의 친화수 100485\n",
            "139815 의 친화수 122265\n",
            "141664 의 친화수 153176\n",
            "142310 의 친화수 168730\n",
            "153176 의 친화수 141664\n",
            "168730 의 친화수 142310\n",
            "171856 의 친화수 176336\n",
            "176272 의 친화수 180848\n",
            "176336 의 친화수 171856\n",
            "180848 의 친화수 176272\n",
            "185368 의 친화수 203432\n",
            "196724 의 친화수 202444\n"
          ],
          "name": "stdout"
        }
      ]
    },
    {
      "cell_type": "markdown",
      "metadata": {
        "id": "7-vgi0x_e5hn"
      },
      "source": [
        ""
      ]
    },
    {
      "cell_type": "code",
      "metadata": {
        "id": "YpqPGHW7xSYS"
      },
      "source": [
        ""
      ],
      "execution_count": null,
      "outputs": []
    }
  ]
}
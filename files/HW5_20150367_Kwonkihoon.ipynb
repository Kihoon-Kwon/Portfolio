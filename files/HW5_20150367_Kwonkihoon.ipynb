{
  "nbformat": 4,
  "nbformat_minor": 0,
  "metadata": {
    "colab": {
      "name": "HW5_20150367_Kwonkihoon.ipynb",
      "provenance": [],
      "collapsed_sections": []
    },
    "kernelspec": {
      "name": "python3",
      "display_name": "Python 3"
    }
  },
  "cells": [
    {
      "cell_type": "code",
      "metadata": {
        "id": "m2_glfi2AFko",
        "outputId": "92301bcf-e819-433b-de95-1a4abc0b394c",
        "colab": {
          "base_uri": "https://localhost:8080/"
        }
      },
      "source": [
        "#5.3\n",
        "\n",
        "list1=[3,5,7]\n",
        "list2=[2,3,4,5,6]\n",
        "\n",
        "for i in list1:\n",
        "  for j in list2:\n",
        "    print('{}*{}={}'.format(i,j,i*j))"
      ],
      "execution_count": null,
      "outputs": [
        {
          "output_type": "stream",
          "text": [
            "3*2=6\n",
            "3*3=9\n",
            "3*4=12\n",
            "3*5=15\n",
            "3*6=18\n",
            "5*2=10\n",
            "5*3=15\n",
            "5*4=20\n",
            "5*5=25\n",
            "5*6=30\n",
            "7*2=14\n",
            "7*3=21\n",
            "7*4=28\n",
            "7*5=35\n",
            "7*6=42\n"
          ],
          "name": "stdout"
        }
      ]
    },
    {
      "cell_type": "code",
      "metadata": {
        "id": "JPSxWrvaGA8T",
        "outputId": "e6290659-9afc-4bcc-deb1-e07bab1fe9c0",
        "colab": {
          "base_uri": "https://localhost:8080/"
        }
      },
      "source": [
        "#5.4\n",
        "\n",
        "a=[2,3,4,5,6]\n",
        "print('a=',a)\n",
        "rev_a=[]\n",
        "for num in a:\n",
        "  for i in range(0,5):\n",
        "    x=a.pop()\n",
        "    rev_a.insert(i,x)\n",
        "print('rev_a=',rev_a)"
      ],
      "execution_count": null,
      "outputs": [
        {
          "output_type": "stream",
          "text": [
            "a= [2, 3, 4, 5, 6]\n",
            "rev_a= [6, 5, 4, 3, 2]\n"
          ],
          "name": "stdout"
        }
      ]
    },
    {
      "cell_type": "code",
      "metadata": {
        "id": "e6upk1n5M2Zl",
        "outputId": "8618847d-d92d-4ecc-a87c-9c2a2fe4d58d",
        "colab": {
          "base_uri": "https://localhost:8080/"
        }
      },
      "source": [
        "#5.5\n",
        "\n",
        "list1=['I like','I love']\n",
        "list2=['fan cake,','kiwi juice.','espresso.']\n",
        "\n",
        "for x in list1:\n",
        "  for y in list2:\n",
        "    print(x,y)"
      ],
      "execution_count": null,
      "outputs": [
        {
          "output_type": "stream",
          "text": [
            "I like fan cake,\n",
            "I like kiwi juice.\n",
            "I like espresso.\n",
            "I love fan cake,\n",
            "I love kiwi juice.\n",
            "I love espresso.\n"
          ],
          "name": "stdout"
        }
      ]
    },
    {
      "cell_type": "code",
      "metadata": {
        "id": "NpLxOUn-ES4G",
        "outputId": "bfd9239a-48c8-40d2-fde7-2d6521ec71cd",
        "colab": {
          "base_uri": "https://localhost:8080/"
        }
      },
      "source": [
        "#5.7\n",
        "\n",
        "n_list=[10,20,30,50,60]\n",
        "sum=0\n",
        "for i in n_list:\n",
        "  sum+=i\n",
        "\n",
        "print('리스트 원소들 :',n_list)\n",
        "print('리스트 원소들의 합 :',sum)\n"
      ],
      "execution_count": null,
      "outputs": [
        {
          "output_type": "stream",
          "text": [
            "리스트 원소들 : [10, 20, 30, 50, 60]\n",
            "리스트 원소들의 합 : 170\n"
          ],
          "name": "stdout"
        }
      ]
    },
    {
      "cell_type": "code",
      "metadata": {
        "id": "ap2AaeoAWejI",
        "outputId": "2b29f5f7-3523-4ba2-85cf-88892ad14555",
        "colab": {
          "base_uri": "https://localhost:8080/"
        }
      },
      "source": [
        "#5.8\n",
        "\n",
        "n_list=[10,20,30,50,60]\n",
        "mul=1\n",
        "for i in n_list:\n",
        "  mul*=i\n",
        "\n",
        "print('리스트 원소들 :',n_list)\n",
        "print('리스트 원소들의 곱 :',mul)"
      ],
      "execution_count": null,
      "outputs": [
        {
          "output_type": "stream",
          "text": [
            "리스트 원소들 : [10, 20, 30, 50, 60]\n",
            "리스트 원소들의 곱 : 18000000\n"
          ],
          "name": "stdout"
        }
      ]
    },
    {
      "cell_type": "code",
      "metadata": {
        "id": "RiKypSDOXBgr",
        "outputId": "7406dac2-7fb4-4ab5-e1e2-2bc9fe916ebf",
        "colab": {
          "base_uri": "https://localhost:8080/"
        }
      },
      "source": [
        "#5.9\n",
        "\n",
        "n_list=[10,20,30,50,60]\n",
        "\n",
        "max=n_list[0]\n",
        "for i in range(1,len(n_list)):\n",
        "  if max<n_list[i]:\n",
        "    max=n_list[i]\n",
        "\n",
        "print('리스트 원소들 :',n_list)\n",
        "print('리스트 원소들 중 최댓값 :',max)"
      ],
      "execution_count": null,
      "outputs": [
        {
          "output_type": "stream",
          "text": [
            "리스트 원소들 : [10, 20, 30, 50, 60]\n",
            "리스트 원소들 중 최댓값 : 60\n"
          ],
          "name": "stdout"
        }
      ]
    },
    {
      "cell_type": "code",
      "metadata": {
        "id": "cPsIZjjzYUtX",
        "outputId": "1d5ee3ab-2571-4b83-fcb7-4e35197450ab",
        "colab": {
          "base_uri": "https://localhost:8080/"
        }
      },
      "source": [
        "#5.10\n",
        "\n",
        "n_list=[10,20,30,50,60]\n",
        "\n",
        "min=n_list[0]\n",
        "for i in range(1,len(n_list)):\n",
        "  if min>n_list[i]:\n",
        "    min=n_list[i]\n",
        "\n",
        "print('리스트 원소들 :',n_list)\n",
        "print('리스트 원소들 중 최솟값 :',min)"
      ],
      "execution_count": null,
      "outputs": [
        {
          "output_type": "stream",
          "text": [
            "리스트 원소들 : [10, 20, 30, 50, 60]\n",
            "리스트 원소들 중 최솟값 : 10\n"
          ],
          "name": "stdout"
        }
      ]
    },
    {
      "cell_type": "code",
      "metadata": {
        "id": "Mm_m1I6zpECw",
        "outputId": "4c5c1087-3157-4a76-87d7-19a978961ebc",
        "colab": {
          "base_uri": "https://localhost:8080/"
        }
      },
      "source": [
        "#5.11\n",
        "\n",
        "n_list=list(map(int,input('5개의 수를 입력하시오:').split()))\n",
        "\n",
        "print('합 :',sum(n_list))\n",
        "print('평균 :',sum(n_list)/len(n_list))\n",
        "print('최댓값 :',max(n_list))\n",
        "print('최솟값 :',min(n_list))"
      ],
      "execution_count": null,
      "outputs": [
        {
          "output_type": "stream",
          "text": [
            "5개의 수를 입력하시오:45 67 20 34 2\n",
            "합 : 168\n",
            "평균 : 33.6\n",
            "최댓값 : 67\n",
            "최솟값 : 2\n"
          ],
          "name": "stdout"
        }
      ]
    },
    {
      "cell_type": "code",
      "metadata": {
        "id": "SSOoqh33rlOw",
        "outputId": "12f81c4d-98a4-483a-ec30-7684cb700577",
        "colab": {
          "base_uri": "https://localhost:8080/"
        }
      },
      "source": [
        "#5.12-(1)\n",
        "\n",
        "n=int(input('n을 입력하세요: '))\n",
        "print(n,end='')\n",
        "list1=list(map(int,input('개의 수를 입력하세요:').split()))\n",
        "print('합 :',sum(list1))\n",
        "print('평균 :',sum(list1)/len(list1))\n",
        "print('최댓값 :',max(list1))\n",
        "print('최솟값 :',min(list1))"
      ],
      "execution_count": null,
      "outputs": [
        {
          "output_type": "stream",
          "text": [
            "n을 입력하세요: 3\n",
            "3개의 수를 입력하세요:1 2 3\n",
            "합 : 6\n",
            "평균 : 2.0\n",
            "최댓값 : 3\n",
            "최솟값 : 1\n"
          ],
          "name": "stdout"
        }
      ]
    },
    {
      "cell_type": "code",
      "metadata": {
        "id": "gbWr1OHa5ZCq",
        "outputId": "23d2ee2d-e22a-4b1f-d080-6b49a352e34c",
        "colab": {
          "base_uri": "https://localhost:8080/"
        }
      },
      "source": [
        "#5.12-(2)\n",
        "\n",
        "n=int(input('n을 입력하세요: '))\n",
        "print(n,end='')\n",
        "list1=list(map(int,input('개의 수를 입력하세요:').split()))\n",
        "print('합 :',sum(list1))\n",
        "print('평균 :',sum(list1)/len(list1))\n",
        "print('최댓값 :',max(list1))\n",
        "print('최솟값 :',min(list1))"
      ],
      "execution_count": null,
      "outputs": [
        {
          "output_type": "stream",
          "text": [
            "n을 입력하세요: 5\n",
            "5개의 수를 입력하세요:10 2 30 3 28\n",
            "합 : 73\n",
            "평균 : 14.6\n",
            "최댓값 : 30\n",
            "최솟값 : 2\n"
          ],
          "name": "stdout"
        }
      ]
    },
    {
      "cell_type": "code",
      "metadata": {
        "id": "sM4f6KBH_Axt",
        "outputId": "cf57fac0-c291-4e95-fd7d-bf7f80c39601",
        "colab": {
          "base_uri": "https://localhost:8080/"
        }
      },
      "source": [
        "#5.12-(3)\n",
        "\n",
        "n=int(input('n을 입력하세요: '))\n",
        "print(n,end='')\n",
        "list1=list(map(int,input('개의 수를 입력하세요:').split()))\n",
        "print('합 :',sum(list1))\n",
        "print('평균 :',sum(list1)/len(list1))\n",
        "print('최댓값 :',max(list1))\n",
        "print('최솟값 :',min(list1))"
      ],
      "execution_count": null,
      "outputs": [
        {
          "output_type": "stream",
          "text": [
            "n을 입력하세요: 10\n",
            "10개의 수를 입력하세요:34 56 7 9 23 10 2 30 3 28\n",
            "합 : 202\n",
            "평균 : 20.2\n",
            "최댓값 : 56\n",
            "최솟값 : 2\n"
          ],
          "name": "stdout"
        }
      ]
    },
    {
      "cell_type": "code",
      "metadata": {
        "id": "7UwNIjuU_Jld",
        "outputId": "24c85f0e-1751-4115-c156-8b7ca81fb288",
        "colab": {
          "base_uri": "https://localhost:8080/"
        }
      },
      "source": [
        "#5.13\n",
        "\n",
        "n1=list(map(int,input('10개의 수를 입력하세요:').split()))\n",
        "\n",
        "def standard_deviation(n1):\n",
        "  x=len(n1)\n",
        "  avg=sum(n1)/x\n",
        "  result=0\n",
        "  for n in n1:\n",
        "    result+=(n-avg)**2\n",
        "  result/=x\n",
        "  return result**0.5\n",
        "\n",
        "print('합 :',sum(n1))\n",
        "print('평균 :',sum(n1)/len(n1))\n",
        "print('표준편차 :',round(standard_deviation(n1),2))"
      ],
      "execution_count": null,
      "outputs": [
        {
          "output_type": "stream",
          "text": [
            "10개의 수를 입력하세요:45 67 20 34 2 100 23 45 67 89\n",
            "합 : 492\n",
            "평균 : 49.2\n",
            "표준편차 : 29.72\n"
          ],
          "name": "stdout"
        }
      ]
    },
    {
      "cell_type": "code",
      "metadata": {
        "id": "iH87X76sGTgq",
        "outputId": "72fa7fbf-6693-48ae-c243-bb199206503b",
        "colab": {
          "base_uri": "https://localhost:8080/",
          "height": 36
        }
      },
      "source": [
        "#5.15\n",
        "\n",
        "greet='Have a beautiful day.'\n",
        "greet[0:4]"
      ],
      "execution_count": null,
      "outputs": [
        {
          "output_type": "execute_result",
          "data": {
            "application/vnd.google.colaboratory.intrinsic+json": {
              "type": "string"
            },
            "text/plain": [
              "'Have'"
            ]
          },
          "metadata": {
            "tags": []
          },
          "execution_count": 23
        }
      ]
    },
    {
      "cell_type": "code",
      "metadata": {
        "id": "_kBjopB2hQ1v",
        "outputId": "9680e388-fd9f-420f-a954-4bbeeeae26b7",
        "colab": {
          "base_uri": "https://localhost:8080/",
          "height": 36
        }
      },
      "source": [
        "greet[7:16]"
      ],
      "execution_count": null,
      "outputs": [
        {
          "output_type": "execute_result",
          "data": {
            "application/vnd.google.colaboratory.intrinsic+json": {
              "type": "string"
            },
            "text/plain": [
              "'beautiful'"
            ]
          },
          "metadata": {
            "tags": []
          },
          "execution_count": 24
        }
      ]
    },
    {
      "cell_type": "code",
      "metadata": {
        "id": "8uJF2r5OhV_F",
        "outputId": "191da22e-2724-48fe-907c-8a5bd4435762",
        "colab": {
          "base_uri": "https://localhost:8080/",
          "height": 36
        }
      },
      "source": [
        "greet[17:20]"
      ],
      "execution_count": null,
      "outputs": [
        {
          "output_type": "execute_result",
          "data": {
            "application/vnd.google.colaboratory.intrinsic+json": {
              "type": "string"
            },
            "text/plain": [
              "'day'"
            ]
          },
          "metadata": {
            "tags": []
          },
          "execution_count": 26
        }
      ]
    },
    {
      "cell_type": "code",
      "metadata": {
        "id": "QJFLwQ4mhZOE",
        "outputId": "9eee6560-94f4-4a0f-8f31-6e5c3338d5f4",
        "colab": {
          "base_uri": "https://localhost:8080/"
        }
      },
      "source": [
        "#5.17-(1)\n",
        "\n",
        "animals=['dog','cat','tiger','lion']\n",
        "print('animals =',animals)"
      ],
      "execution_count": null,
      "outputs": [
        {
          "output_type": "stream",
          "text": [
            "animals = ['dog', 'cat', 'tiger', 'lion']\n"
          ],
          "name": "stdout"
        }
      ]
    },
    {
      "cell_type": "code",
      "metadata": {
        "id": "AsWltyfqih0G",
        "outputId": "fa5ec5af-feb4-48ba-ba99-486ba2820e8c",
        "colab": {
          "base_uri": "https://localhost:8080/"
        }
      },
      "source": [
        "#5.17-(2)\n",
        "\n",
        "animals=['dog','cat','tiger','lion']\n",
        "animals[0]='lion'\n",
        "animals[1]='dog'\n",
        "animals[2]='cat'\n",
        "animals[3]='tiger'\n",
        "\n",
        "print('animals =',animals)"
      ],
      "execution_count": null,
      "outputs": [
        {
          "output_type": "stream",
          "text": [
            "animals = ['lion', 'dog', 'cat', 'tiger']\n"
          ],
          "name": "stdout"
        }
      ]
    },
    {
      "cell_type": "code",
      "metadata": {
        "id": "IO0pKbIQnIul",
        "outputId": "b7b64d0a-2a48-48f1-f7e1-548c09f0b937",
        "colab": {
          "base_uri": "https://localhost:8080/"
        }
      },
      "source": [
        "#5.17-(3)\n",
        "\n",
        "animals=['dog','cat','tiger','lion']\n",
        "for x in animals:\n",
        "  print('I love {}.'.format(x))\n"
      ],
      "execution_count": null,
      "outputs": [
        {
          "output_type": "stream",
          "text": [
            "I love dog.\n",
            "I love cat.\n",
            "I love tiger.\n",
            "I love lion.\n"
          ],
          "name": "stdout"
        }
      ]
    },
    {
      "cell_type": "code",
      "metadata": {
        "id": "BA7VkIhPs3RU",
        "outputId": "226111ad-5997-425d-8ebc-9f7b8e30a248",
        "colab": {
          "base_uri": "https://localhost:8080/"
        }
      },
      "source": [
        "#5.18-(1)\n",
        "\n",
        "s_list=['abc','bcd','bcdefg','abba','cddc','opq']\n",
        "x=s_list[0]\n",
        "for i in s_list:\n",
        "  if(len(i)<len(x)):\n",
        "    x=i\n",
        "\n",
        "print('가장 길이가 짧은 문자열 :',x)"
      ],
      "execution_count": null,
      "outputs": [
        {
          "output_type": "stream",
          "text": [
            "가장 길이가 짧은 문자열 : abc\n"
          ],
          "name": "stdout"
        }
      ]
    },
    {
      "cell_type": "code",
      "metadata": {
        "id": "3pYIZgRWxnGX",
        "outputId": "9b89e987-a4d5-468e-bf31-caa0a2b3132a",
        "colab": {
          "base_uri": "https://localhost:8080/"
        }
      },
      "source": [
        "#5.18-(1)\n",
        "\n",
        "s_list=['abc','bcd','bcdefg','abba','cddc','opq']\n",
        "x=s_list[0]\n",
        "for i in s_list:\n",
        "  if(len(i)<len(x)):\n",
        "    x=i\n",
        "\n",
        "print('가장 길이가 짧은 문자열 :',x)"
      ],
      "execution_count": null,
      "outputs": [
        {
          "output_type": "stream",
          "text": [
            "가장 길이가 짧은 문자열 : abc\n"
          ],
          "name": "stdout"
        }
      ]
    },
    {
      "cell_type": "code",
      "metadata": {
        "id": "JfMfD8fRzswS",
        "outputId": "b6a94bf6-874e-473f-ab74-83111ee9932b",
        "colab": {
          "base_uri": "https://localhost:8080/"
        }
      },
      "source": [
        "#5.18-(2)\n",
        "\n",
        "s_list=['abc','bcd','bcdefg','abba','cddc','opq']\n",
        "x=s_list[0]\n",
        "for i in s_list:\n",
        "  if(len(i)>len(x)):\n",
        "    x=i\n",
        "\n",
        "print('가장 길이가 긴 문자열 :',x)"
      ],
      "execution_count": null,
      "outputs": [
        {
          "output_type": "stream",
          "text": [
            "가장 길이가 긴 문자열 : bcdefg\n"
          ],
          "name": "stdout"
        }
      ]
    },
    {
      "cell_type": "code",
      "metadata": {
        "id": "yrDbc2qV9jHQ",
        "outputId": "f88bc418-6d70-45a9-d3e2-8c677b26aba9",
        "colab": {
          "base_uri": "https://localhost:8080/"
        }
      },
      "source": [
        "#5.18-(3)\n",
        "\n",
        "s_list=['abc','bcd','bcdefg','abba','cddc','opq']\n",
        "n_list=[]\n",
        "x=s_list[0]\n",
        "for i in s_list:\n",
        "  if(len(i)<=len(x)):\n",
        "    n_list.insert(0,i)\n",
        "\n",
        "n_list.sort()\n",
        "print(\"가장 길이가 짧은 문자열 : '{}','{}','{}'\".format(n_list[0],n_list[1],n_list[2]))"
      ],
      "execution_count": null,
      "outputs": [
        {
          "output_type": "stream",
          "text": [
            "가장 길이가 짧은 문자열 : 'abc','bcd','opq'\n"
          ],
          "name": "stdout"
        }
      ]
    },
    {
      "cell_type": "code",
      "metadata": {
        "id": "2_1h2TRVErrW",
        "outputId": "46bac934-b381-4160-baee-cb4a23a76b87",
        "colab": {
          "base_uri": "https://localhost:8080/"
        }
      },
      "source": [
        "#5.19\n",
        "\n",
        "s_list=['abc','bcd','abc','abba','cddc','opq','opq']\n",
        "print('s_list =',s_list)\n",
        "new_s_list=[]\n",
        "for x in s_list:\n",
        "  if x not in new_s_list:\n",
        "    new_s_list.append(x)\n",
        "\n",
        "print('new s_list =',new_s_list)"
      ],
      "execution_count": null,
      "outputs": [
        {
          "output_type": "stream",
          "text": [
            "s_list = ['abc', 'bcd', 'abc', 'abba', 'cddc', 'opq', 'opq']\n",
            "new s_list = ['abc', 'bcd', 'abba', 'cddc', 'opq']\n"
          ],
          "name": "stdout"
        }
      ]
    },
    {
      "cell_type": "code",
      "metadata": {
        "id": "QDgMvphCLt8d",
        "outputId": "17c245a6-5c47-401c-d209-7fabc8e1ec1d",
        "colab": {
          "base_uri": "https://localhost:8080/"
        }
      },
      "source": [
        "#5.20\n",
        "\n",
        "src=input('src= ')\n",
        "\n",
        "if(src==''):\n",
        "  output=''\n",
        "else:\n",
        "  output=src[0]\n",
        "  count=0\n",
        "  for i in src:\n",
        "    if i==output[-1]:\n",
        "      count+=1\n",
        "    else:\n",
        "      output+=str(count)+i\n",
        "      count=1\n",
        "  output+=str(count)\n",
        "\n",
        "print('output=',output)"
      ],
      "execution_count": 10,
      "outputs": [
        {
          "output_type": "stream",
          "text": [
            "src= aaabccccaaaaacccfg\n",
            "output= a3b1c4a5c3f1g1\n"
          ],
          "name": "stdout"
        }
      ]
    },
    {
      "cell_type": "code",
      "metadata": {
        "id": "4MCnXpsKXucK",
        "outputId": "6490c98e-67b6-4618-e479-9e40fd031f83",
        "colab": {
          "base_uri": "https://localhost:8080/"
        }
      },
      "source": [
        "#5.21\n",
        "\n",
        "src = input('src = ')\n",
        "s = [src[i] for i in range(len(src)) if i%2 == 0]\n",
        "n = [int(src[i]) for i in range(len(src)) if i%2 != 0]\n",
        "res = ''\n",
        "for i in range(len(n)):\n",
        "    for j in range(n[i]):\n",
        "        res += s[i]\n",
        "print('output = '+res)"
      ],
      "execution_count": 11,
      "outputs": [
        {
          "output_type": "stream",
          "text": [
            "src = a2b3c6a2c3f1g1\n",
            "output = aabbbccccccaacccfg\n"
          ],
          "name": "stdout"
        }
      ]
    },
    {
      "cell_type": "code",
      "metadata": {
        "id": "INnEGUFAPco-",
        "outputId": "09c81eb1-9358-43c1-a06e-81ca1141ed10",
        "colab": {
          "base_uri": "https://localhost:8080/"
        }
      },
      "source": [
        "#5.22\n",
        "\n",
        "n=int(input('n을 입력하시오 :'))\n",
        "\n",
        "slist=list(range(1,n*n+1))\n",
        "\n",
        "for i in range(n):\n",
        "  x=slist[i*n:(i+1)*n]\n",
        "\n",
        "  if i%2==1:\n",
        "    x.reverse()\n",
        "  slist[i*n:(i+1)*n]=x\n",
        "\n",
        "k=0\n",
        "for i in slist:\n",
        "  k+=1\n",
        "  print('{:4d}'.format(i),end='')\n",
        "  if k%n==0:\n",
        "    print()"
      ],
      "execution_count": 15,
      "outputs": [
        {
          "output_type": "stream",
          "text": [
            "n을 입력하시오 :5\n",
            "   1   2   3   4   5\n",
            "  10   9   8   7   6\n",
            "  11  12  13  14  15\n",
            "  20  19  18  17  16\n",
            "  21  22  23  24  25\n"
          ],
          "name": "stdout"
        }
      ]
    },
    {
      "cell_type": "code",
      "metadata": {
        "id": "vl4tObhxUpHn",
        "outputId": "1effd678-01ee-4516-cc12-cd75e180b07a",
        "colab": {
          "base_uri": "https://localhost:8080/"
        }
      },
      "source": [
        "n=int(input('n을 입력하시오 :'))\n",
        "\n",
        "slist=list(range(1,n*n+1))\n",
        "\n",
        "for i in range(n):\n",
        "  x=slist[i*n:(i+1)*n]\n",
        "\n",
        "  if i%2==1:\n",
        "    x.reverse()\n",
        "  slist[i*n:(i+1)*n]=x\n",
        "\n",
        "k=0\n",
        "for i in slist:\n",
        "  k+=1\n",
        "  print('{:4d}'.format(i),end='')\n",
        "  if k%n==0:\n",
        "    print()"
      ],
      "execution_count": 16,
      "outputs": [
        {
          "output_type": "stream",
          "text": [
            "n을 입력하시오 :6\n",
            "   1   2   3   4   5   6\n",
            "  12  11  10   9   8   7\n",
            "  13  14  15  16  17  18\n",
            "  24  23  22  21  20  19\n",
            "  25  26  27  28  29  30\n",
            "  36  35  34  33  32  31\n"
          ],
          "name": "stdout"
        }
      ]
    },
    {
      "cell_type": "code",
      "metadata": {
        "id": "IrEO7N5AYEL8",
        "outputId": "371ad3a3-0dab-4090-cb17-90816aab8148",
        "colab": {
          "base_uri": "https://localhost:8080/"
        }
      },
      "source": [
        "#5.23-(1)\n",
        "\n",
        "person1=['온달',20,1,180.0,100.0]\n",
        "person2=['이사부',25,1,170.0,70.0]\n",
        "person3=['평강',22,0,169.0,60.0]\n",
        "person4=['혁거세',40,1,150.0,50.0]\n",
        "\n",
        "def how_many_persons(x):\n",
        "  count=0\n",
        "  for i in x:\n",
        "    if type(i)==str:\n",
        "      count+=1\n",
        "  return count\n",
        "\n",
        "person_list=person1+person3+person4\n",
        "n_persons=how_many_persons(person_list) \n",
        "print(str(n_persons)+'명의 정보가 담겨 있습니다.')\n"
      ],
      "execution_count": 33,
      "outputs": [
        {
          "output_type": "stream",
          "text": [
            "3명의 정보가 담겨 있습니다.\n"
          ],
          "name": "stdout"
        }
      ]
    },
    {
      "cell_type": "code",
      "metadata": {
        "id": "t2YJJAFlZIge",
        "outputId": "284c08e6-c3aa-45fd-a122-26d89811dbb0",
        "colab": {
          "base_uri": "https://localhost:8080/"
        }
      },
      "source": [
        "#5.23-(2)\n",
        "\n",
        "person1=['온달',20,1,180.0,100.0]\n",
        "person2=['이사부',25,1,170.0,70.0]\n",
        "person3=['평강',22,0,169.0,60.0]\n",
        "person4=['혁거세',40,1,150.0,50.0]\n",
        "\n",
        "def compute_average_age(x):\n",
        "  sum=0\n",
        "  for i in x:\n",
        "    if(x.index(i)%5==1):\n",
        "      sum+=i\n",
        "  return sum/4\n",
        "\n",
        "person_list=person1+person2+person3+person4\n",
        "average_age=compute_average_age(person_list) \n",
        "print('평균 나이는 '+str(average_age)+'세입니다.')"
      ],
      "execution_count": 49,
      "outputs": [
        {
          "output_type": "stream",
          "text": [
            "평균 나이는 26.75세입니다.\n"
          ],
          "name": "stdout"
        }
      ]
    },
    {
      "cell_type": "code",
      "metadata": {
        "id": "eftmLedDeDtx",
        "outputId": "044bc900-a3c4-4a37-e644-c5f2b092413b",
        "colab": {
          "base_uri": "https://localhost:8080/"
        }
      },
      "source": [
        "#5.23-(3)\n",
        "\n",
        "def count_males_females(x):\n",
        "  male=x.count(1)\n",
        "  female=x.count(0)\n",
        "  return male,female\n",
        "\n",
        "person_list=person1+person2+person3+person4\n",
        "n_male,n_female=count_males_females(person_list) \n",
        "print('리스트에는 남자가',n_male,'명, 여자가',n_female,'명입니다.')"
      ],
      "execution_count": 65,
      "outputs": [
        {
          "output_type": "stream",
          "text": [
            "리스트에는 남자가 3 명, 여자가 1 명입니다.\n"
          ],
          "name": "stdout"
        }
      ]
    },
    {
      "cell_type": "code",
      "metadata": {
        "id": "BBGp-fO3eJZM",
        "outputId": "a23697b4-d138-4bf7-e748-82b890177498",
        "colab": {
          "base_uri": "https://localhost:8080/"
        }
      },
      "source": [
        "#5.23-(4)\n",
        "\n",
        "def display_persons(x):\n",
        "  for j in range(0,len(x),5):\n",
        "    print(x[j:j+5])\n",
        "\n",
        "display_persons(person_list)"
      ],
      "execution_count": 76,
      "outputs": [
        {
          "output_type": "stream",
          "text": [
            "['온달', 20, 1, 180.0, 100.0]\n",
            "['이사부', 25, 1, 170.0, 70.0]\n",
            "['평강', 22, 0, 169.0, 60.0]\n",
            "['혁거세', 40, 1, 150.0, 50.0]\n"
          ],
          "name": "stdout"
        }
      ]
    },
    {
      "cell_type": "code",
      "metadata": {
        "id": "qGElUaZJuVQM",
        "outputId": "12c5f1ea-c9b6-470e-845f-9635d2840311",
        "colab": {
          "base_uri": "https://localhost:8080/"
        }
      },
      "source": [
        "#5.24\n",
        "\n",
        "for x in range(1,10001):\n",
        "  sum=0\n",
        "  sum_list=[]\n",
        "  for i in range(1,x):\n",
        "    if x%i==0:\n",
        "      sum+=i\n",
        "      sum_list.append(i)\n",
        "  if sum==x:\n",
        "    print(sum,'은 완전수입니다.')\n",
        "    print(sum,'의 약수 :',sum_list)\n"
      ],
      "execution_count": 79,
      "outputs": [
        {
          "output_type": "stream",
          "text": [
            "6 은 완전수입니다.\n",
            "6 의 약수 : [1, 2, 3]\n",
            "28 은 완전수입니다.\n",
            "28 의 약수 : [1, 2, 4, 7, 14]\n",
            "496 은 완전수입니다.\n",
            "496 의 약수 : [1, 2, 4, 8, 16, 31, 62, 124, 248]\n",
            "8128 은 완전수입니다.\n",
            "8128 의 약수 : [1, 2, 4, 8, 16, 32, 64, 127, 254, 508, 1016, 2032, 4064]\n"
          ],
          "name": "stdout"
        }
      ]
    },
    {
      "cell_type": "code",
      "metadata": {
        "id": "DpZtxmvf5Far"
      },
      "source": [
        ""
      ],
      "execution_count": null,
      "outputs": []
    }
  ]
}
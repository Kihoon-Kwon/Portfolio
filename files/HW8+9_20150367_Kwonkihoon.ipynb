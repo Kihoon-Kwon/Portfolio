{
  "nbformat": 4,
  "nbformat_minor": 0,
  "metadata": {
    "colab": {
      "name": "HW8+9_20150367_Kwonkihoon.ipynb",
      "provenance": [],
      "collapsed_sections": []
    },
    "kernelspec": {
      "name": "python3",
      "display_name": "Python 3"
    }
  },
  "cells": [
    {
      "cell_type": "markdown",
      "metadata": {
        "id": "mwi0KgWGopUg"
      },
      "source": [
        "Chapter 8"
      ]
    },
    {
      "cell_type": "code",
      "metadata": {
        "colab": {
          "base_uri": "https://localhost:8080/"
        },
        "id": "dneebfUHoMFV",
        "outputId": "7b14c0c0-15af-41a7-b837-89fdd6a76746"
      },
      "source": [
        "#8.1-(1)\n",
        "\n",
        "try:\n",
        "  a,b=input('두 수를 입력하시오 :').split()\n",
        "  result=int(a)*int(b)\n",
        "except ValueError:\n",
        "  print('10 3과 같이 두 개의 정수를 입력하시오.')\n",
        "else:\n",
        "  print(result)"
      ],
      "execution_count": null,
      "outputs": [
        {
          "output_type": "stream",
          "text": [
            "두 수를 입력하시오 :십 삼\n",
            "10 3과 같이 두 개의 정수를 입력하시오.\n"
          ],
          "name": "stdout"
        }
      ]
    },
    {
      "cell_type": "code",
      "metadata": {
        "colab": {
          "base_uri": "https://localhost:8080/"
        },
        "id": "pzds8gFJqZO6",
        "outputId": "aed174c8-d12c-42d9-b163-e7153265ab84"
      },
      "source": [
        "try:\n",
        "  a,b=input('두 수를 입력하시오 :').split()\n",
        "  result=int(a)*int(b)\n",
        "except ValueError:\n",
        "  print('10 3과 같이 두 개의 정수를 입력하시오.')\n",
        "else:\n",
        "  print(result)"
      ],
      "execution_count": null,
      "outputs": [
        {
          "output_type": "stream",
          "text": [
            "두 수를 입력하시오 :10 5\n",
            "50\n"
          ],
          "name": "stdout"
        }
      ]
    },
    {
      "cell_type": "code",
      "metadata": {
        "colab": {
          "base_uri": "https://localhost:8080/"
        },
        "id": "szP3Jq4drOc-",
        "outputId": "e41047bf-6849-4720-9e09-6d58bf7aad40"
      },
      "source": [
        "#8.1-(2)\n",
        "\n",
        "try:\n",
        "  a,b=input('두 수를 입력하시오 :').split()\n",
        "  result=int(a)/int(b)\n",
        "except ValueError:\n",
        "  print('10 2와 같이 두 개의 정수를 입력하시오.')\n",
        "except ZeroDivisionError:\n",
        "  print('0으로 나누기를 시도하였습니다.')\n",
        "else:\n",
        "  print(result)"
      ],
      "execution_count": null,
      "outputs": [
        {
          "output_type": "stream",
          "text": [
            "두 수를 입력하시오 :30 0\n",
            "0으로 나누기를 시도하였습니다.\n"
          ],
          "name": "stdout"
        }
      ]
    },
    {
      "cell_type": "code",
      "metadata": {
        "colab": {
          "base_uri": "https://localhost:8080/"
        },
        "id": "9ZWc2kLrr1m8",
        "outputId": "c1bf92d8-6980-41f5-d0bf-8aea79e90bde"
      },
      "source": [
        "try:\n",
        "  a,b=input('두 수를 입력하시오 :').split()\n",
        "  result=int(a)/int(b)\n",
        "except ValueError:\n",
        "  print('10 2와 같이 두 개의 정수를 입력하시오.')\n",
        "except ZeroDivisionError:\n",
        "  print('0으로 나누기를 시도하였습니다.')\n",
        "else:\n",
        "  print(result)"
      ],
      "execution_count": null,
      "outputs": [
        {
          "output_type": "stream",
          "text": [
            "두 수를 입력하시오 :십 이\n",
            "10 2와 같이 두 개의 정수를 입력하시오.\n"
          ],
          "name": "stdout"
        }
      ]
    },
    {
      "cell_type": "code",
      "metadata": {
        "colab": {
          "base_uri": "https://localhost:8080/"
        },
        "id": "sKMORuear4UF",
        "outputId": "f24022d2-0efd-4ceb-9664-ab07d311fa48"
      },
      "source": [
        "#8.1-(3)\n",
        "\n",
        "a_list=[200,300,400]\n",
        "print('a_list=',a_list)\n",
        "try:\n",
        "  idx=int(input('구하고자 하는 값의 인덱스를 0,1,2 중에서 입력하시오 :'))\n",
        "  result=a_list[idx]\n",
        "except ValueError:\n",
        "  print('정수값을 입력하세요.')\n",
        "except IndexError:\n",
        "  print('리스트의 인덱스 범위 밖입니다.')\n",
        "else:\n",
        "  print('결과 :',result)\n"
      ],
      "execution_count": null,
      "outputs": [
        {
          "output_type": "stream",
          "text": [
            "a_list= [200, 300, 400]\n",
            "구하고자 하는 값의 인덱스를 0,1,2 중에서 입력하시오 :공\n",
            "정수값을 입력하세요.\n"
          ],
          "name": "stdout"
        }
      ]
    },
    {
      "cell_type": "code",
      "metadata": {
        "colab": {
          "base_uri": "https://localhost:8080/"
        },
        "id": "xnRbGkOktSLt",
        "outputId": "4bb7c1b4-f121-4a4f-99cb-162777110a8b"
      },
      "source": [
        "a_list=[200,300,400]\n",
        "print('a_list=',a_list)\n",
        "try:\n",
        "  idx=int(input('구하고자 하는 값의 인덱스를 0,1,2 중에서 입력하시오 :'))\n",
        "  result=a_list[idx]\n",
        "except ValueError:\n",
        "  print('정수값을 입력하세요.')\n",
        "except IndexError:\n",
        "  print('리스트의 인덱스 범위 밖입니다.')\n",
        "else:\n",
        "  print('결과 :',result)"
      ],
      "execution_count": null,
      "outputs": [
        {
          "output_type": "stream",
          "text": [
            "a_list= [200, 300, 400]\n",
            "구하고자 하는 값의 인덱스를 0,1,2 중에서 입력하시오 :3\n",
            "리스트의 인덱스 범위 밖입니다.\n"
          ],
          "name": "stdout"
        }
      ]
    },
    {
      "cell_type": "code",
      "metadata": {
        "colab": {
          "base_uri": "https://localhost:8080/"
        },
        "id": "NJMIBC2vtVPU",
        "outputId": "90d047b4-0190-4f3d-b989-2f8f260b9cbe"
      },
      "source": [
        "a_list=[200,300,400]\n",
        "print('a_list=',a_list)\n",
        "try:\n",
        "  idx=int(input('구하고자 하는 값의 인덱스를 0,1,2 중에서 입력하시오 :'))\n",
        "  result=a_list[idx]\n",
        "except ValueError:\n",
        "  print('정수값을 입력하세요.')\n",
        "except IndexError:\n",
        "  print('리스트의 인덱스 범위 밖입니다.')\n",
        "else:\n",
        "  print('결과 :',result)"
      ],
      "execution_count": null,
      "outputs": [
        {
          "output_type": "stream",
          "text": [
            "a_list= [200, 300, 400]\n",
            "구하고자 하는 값의 인덱스를 0,1,2 중에서 입력하시오 :1\n",
            "결과 : 300\n"
          ],
          "name": "stdout"
        }
      ]
    },
    {
      "cell_type": "code",
      "metadata": {
        "colab": {
          "base_uri": "https://localhost:8080/"
        },
        "id": "jWhplN0Wtk-I",
        "outputId": "19206ed5-f0fb-4307-a102-11cec261076c"
      },
      "source": [
        "#8.1-(4)\n",
        "try:\n",
        "  f_name=input('읽어들일 파일 이름을 입력하세요 :')\n",
        "  in_file=open(f_name,'r')\n",
        "  buf=in_file.readline()\n",
        "  print(buf) \n",
        "except FileNotFoundError:\n",
        "  print('존재하지 않는 파일이거나 디렉토리입니다.')"
      ],
      "execution_count": null,
      "outputs": [
        {
          "output_type": "stream",
          "text": [
            "읽어들일 파일 이름을 입력하세요 :Yourname.txt\n",
            "존재하지 않는 파일이거나 디렉토리입니다.\n"
          ],
          "name": "stdout"
        }
      ]
    },
    {
      "cell_type": "code",
      "metadata": {
        "colab": {
          "base_uri": "https://localhost:8080/"
        },
        "id": "mly8BT2yuTFl",
        "outputId": "49b84e06-a298-4455-f0c9-d7958ea96537"
      },
      "source": [
        "#8.2\n",
        "try:\n",
        "  f = open(\"C:/19-2/my_hello.txt\", 'r')\n",
        "  f.close()\n",
        "except FileNotFoundError:\n",
        "  print('존재하지 않는 파일이거나 디렉토리입니다.')"
      ],
      "execution_count": null,
      "outputs": [
        {
          "output_type": "stream",
          "text": [
            "존재하지 않는 파일이거나 디렉토리입니다.\n"
          ],
          "name": "stdout"
        }
      ]
    },
    {
      "cell_type": "markdown",
      "metadata": {
        "id": "QdqAUl4h3Ha-"
      },
      "source": [
        "Chapter 9"
      ]
    },
    {
      "cell_type": "code",
      "metadata": {
        "id": "PiZivp3Ay1iW",
        "colab": {
          "base_uri": "https://localhost:8080/"
        },
        "outputId": "a0a48365-fb15-4b0e-b191-3fc683d65787"
      },
      "source": [
        "#9.1\n",
        "\n",
        "class Cal:\n",
        "  def __init__(self,x):\n",
        "    self.x=x\n",
        "  def __add__(self,other):\n",
        "    return Cal(self.x+other.x)\n",
        "  def __sub__(self,other):\n",
        "    return Cal(self.x-other.x)\n",
        "  def __mul__(self,other):\n",
        "    return Cal(self.x*other.x)\n",
        "  def __truediv__(self,other):\n",
        "    return Cal(self.x/other.x)\n",
        "  def __str__(self):\n",
        "    return \"{}\".format(self.x)\n",
        "\n",
        "a1=Cal(123)\n",
        "a2=Cal(334)\n",
        "a3=Cal(3)\n",
        "cal1=a1+a2\n",
        "cal2=a1-a2\n",
        "cal3=a1*a2\n",
        "cal4=a1/a3\n",
        "print('123+334=',cal1)\n",
        "print('123-334=',cal2)\n",
        "print('123*334=',cal3)\n",
        "print('123/3=',cal4)"
      ],
      "execution_count": null,
      "outputs": [
        {
          "output_type": "stream",
          "text": [
            "123+334= 457\n",
            "123-334= -211\n",
            "123*334= 41082\n",
            "123/3= 41.0\n"
          ],
          "name": "stdout"
        }
      ]
    },
    {
      "cell_type": "code",
      "metadata": {
        "id": "2OrZ04wlWBP8",
        "colab": {
          "base_uri": "https://localhost:8080/"
        },
        "outputId": "b49fbb10-b655-44f9-bac0-7f8cb6ec4248"
      },
      "source": [
        "#9.5\n",
        "\n",
        "a,b,c,d,e=1,1,2,3,3\n",
        "\n",
        "print('a와 b는 같은 객체인가?',a is b)\n",
        "print('b와 c는 같은 객체인가?',b is c)\n",
        "print('c와 d는 같은 객체인가?',c is d)\n",
        "print('d와 e는 같은 객체인가?',d is e)"
      ],
      "execution_count": null,
      "outputs": [
        {
          "output_type": "stream",
          "text": [
            "a와 b는 같은 객체인가? True\n",
            "b와 c는 같은 객체인가? False\n",
            "c와 d는 같은 객체인가? False\n",
            "d와 e는 같은 객체인가? True\n"
          ],
          "name": "stdout"
        }
      ]
    },
    {
      "cell_type": "code",
      "metadata": {
        "colab": {
          "base_uri": "https://localhost:8080/"
        },
        "id": "oYaa4DSgcXvN",
        "outputId": "de87279c-7f3f-4b07-f5d2-4922c1a1333c"
      },
      "source": [
        "#9.6\n",
        "\n",
        "class Dog:\n",
        "  def __init__(self,name,age):\n",
        "    self._name=name\n",
        "    self._age=age\n",
        "  def __str__(self):\n",
        "    return 'my_dog의 이름은 {}이고, 나이는 {}살입니다.'.format(self._name,self._age)\n",
        "  def set_age(self,age):\n",
        "    if age>0:\n",
        "      self._age=age\n",
        "  def get_age(self):\n",
        "    return self.get_age\n",
        "\n",
        "my_dog=Dog('Mango',3)\n",
        "print(my_dog)"
      ],
      "execution_count": null,
      "outputs": [
        {
          "output_type": "stream",
          "text": [
            "my_dog의 이름은 Mango이고, 나이는 3살입니다.\n"
          ],
          "name": "stdout"
        }
      ]
    },
    {
      "cell_type": "code",
      "metadata": {
        "colab": {
          "base_uri": "https://localhost:8080/"
        },
        "id": "chG-g3uwfMy6",
        "outputId": "27430229-646c-48a4-fe21-1f817c3ef81d"
      },
      "source": [
        "#9.7\n",
        "\n",
        "class Dog:\n",
        "  def __init__(self,name,age):\n",
        "    self._name=name\n",
        "    self._age=age\n",
        "  def __str__(self):\n",
        "    return '이름은 {}이고, 나이는 {}살입니다.'.format(self._name,self._age)\n",
        "  def set_age(self,age):\n",
        "    if age>0:\n",
        "      self._age=age\n",
        "  def get_age(self):\n",
        "    return self.get_age\n",
        "\n",
        "my_dog=Dog('Mango',3)\n",
        "print(my_dog)"
      ],
      "execution_count": null,
      "outputs": [
        {
          "output_type": "stream",
          "text": [
            "이름은 Mango이고, 나이는 3살입니다.\n"
          ],
          "name": "stdout"
        }
      ]
    },
    {
      "cell_type": "code",
      "metadata": {
        "id": "cf1U71EOfz_h"
      },
      "source": [
        "#9.8\n",
        "\n",
        "class Counter:\n",
        "  def __init__(self,number=0):\n",
        "    self._number=number\n",
        "  def reset(self):\n",
        "    self._number=0\n",
        "    return self._number\n",
        "  def inc(self):\n",
        "    self._number+=1\n",
        "    if(self._number>=100):\n",
        "      self._number=0\n",
        "      return self._number\n",
        "    else:\n",
        "      return self._number\n",
        "  def dec(self):\n",
        "    self._number-=1\n",
        "    if(self._number<=-1):\n",
        "      self._number=0\n",
        "      return self._number\n",
        "    else:\n",
        "      return self._number\n",
        "  def __str__(self):\n",
        "    return 'C({})'.format(self._number)"
      ],
      "execution_count": null,
      "outputs": []
    },
    {
      "cell_type": "code",
      "metadata": {
        "colab": {
          "base_uri": "https://localhost:8080/"
        },
        "id": "0KTgjTumpL4h",
        "outputId": "e537b474-dfc2-467c-fa64-98eaa4f26a8f"
      },
      "source": [
        "c1=Counter(10)\n",
        "c1.inc()\n",
        "print('c1=',c1)"
      ],
      "execution_count": null,
      "outputs": [
        {
          "output_type": "stream",
          "text": [
            "c1= C(11)\n"
          ],
          "name": "stdout"
        }
      ]
    },
    {
      "cell_type": "code",
      "metadata": {
        "colab": {
          "base_uri": "https://localhost:8080/"
        },
        "id": "n9vloVR-tkLh",
        "outputId": "06b73a16-c57f-49db-cfd2-35c86c7847c5"
      },
      "source": [
        "c2=Counter()\n",
        "c2.inc()\n",
        "c2.inc()\n",
        "c2.dec()\n",
        "print('c2=',c2)\n",
        "c2.reset()\n",
        "print('c2=',c2)"
      ],
      "execution_count": null,
      "outputs": [
        {
          "output_type": "stream",
          "text": [
            "c2= C(1)\n",
            "c2= C(0)\n"
          ],
          "name": "stdout"
        }
      ]
    },
    {
      "cell_type": "code",
      "metadata": {
        "id": "uW8r5y6uttnx"
      },
      "source": [
        "#9.9\n",
        "\n",
        "class Counter:\n",
        "  def __init__(self,number=0):\n",
        "    self._number=number\n",
        "  def reset(self):\n",
        "    self._number=0\n",
        "    return self._number\n",
        "  def inc(self):\n",
        "    self._number+=1\n",
        "    if(self._number>=100):\n",
        "      self._number=0\n",
        "      return self._number\n",
        "    else:\n",
        "      return self._number\n",
        "  def dec(self):\n",
        "    self._number-=1\n",
        "    if(self._number<=-1):\n",
        "      self._number=0\n",
        "      return self._number\n",
        "    else:\n",
        "      return self._number\n",
        "  def __str__(self):\n",
        "    return 'C({})'.format(self._number)\n",
        "  def __add__(self,other):\n",
        "    return Counter(self._number+other._number)\n",
        "  def __sub__(self,other):\n",
        "    return Counter(self._number-other._number)"
      ],
      "execution_count": null,
      "outputs": []
    },
    {
      "cell_type": "code",
      "metadata": {
        "colab": {
          "base_uri": "https://localhost:8080/"
        },
        "id": "AsIKipUiwMEO",
        "outputId": "8f78e290-524a-446d-e6db-400470419372"
      },
      "source": [
        "c1=Counter(10)\n",
        "c2=Counter(20)\n",
        "c3=c1+c2\n",
        "c4=c1-c2\n",
        "print('c3=',c3)\n",
        "print('c4=',c4)"
      ],
      "execution_count": null,
      "outputs": [
        {
          "output_type": "stream",
          "text": [
            "c3= C(30)\n",
            "c4= C(-10)\n"
          ],
          "name": "stdout"
        }
      ]
    },
    {
      "cell_type": "code",
      "metadata": {
        "id": "c-bKWTsvwUA8"
      },
      "source": [
        "#9.10\n",
        "\n",
        "class BankAccount:\n",
        "  def __init__(self,name,account_num,balance=0):\n",
        "    self._name=name\n",
        "    self._account_num=account_num\n",
        "    self._balance=balance\n",
        "  def __str__(self):\n",
        "    return '{}님의 계좌 {}의 잔고는 {}원입니다.'.format(self._name,self._account_num,self._balance)\n",
        "  def get_name(self):\n",
        "    return self._name\n",
        "  def get_account_sum(self):\n",
        "    return self._account_num\n",
        "  def get_balance(self):\n",
        "    return self._balance\n",
        "  def deposit(self,money):\n",
        "    self._balance=int(money)+self._balance\n",
        "    print('{}원이 입금되었습니다. 잔고는 {}원입니다.'.format(int(money),self._balance))\n",
        "  def withdraw(self,money):\n",
        "    if(int(money)>self._balance):\n",
        "      print('계좌 잔고는 {}원으로 인출 요구 금액 {}원보다 작습니다.'.format(self._balance,money))\n",
        "    else:\n",
        "      self._balance=(self._balance)-int(money)\n",
        "      return self._balance\n"
      ],
      "execution_count": null,
      "outputs": []
    },
    {
      "cell_type": "code",
      "metadata": {
        "colab": {
          "base_uri": "https://localhost:8080/"
        },
        "id": "kVoWGouJ2yCT",
        "outputId": "437a4c4e-09e7-4915-8494-47610b6a8985"
      },
      "source": [
        "account1=BankAccount('홍길동','1234-0001')\n",
        "print(account1)\n",
        "account1.deposit(2000)\n",
        "print(account1)\n",
        "account1.withdraw(500)\n",
        "print(account1)\n",
        "account1.withdraw(5000)"
      ],
      "execution_count": null,
      "outputs": [
        {
          "output_type": "stream",
          "text": [
            "홍길동님의 계좌 1234-0001의 잔고는 0원입니다.\n",
            "2000원이 입금되었습니다. 잔고는 2000원입니다.\n",
            "홍길동님의 계좌 1234-0001의 잔고는 2000원입니다.\n",
            "홍길동님의 계좌 1234-0001의 잔고는 1500원입니다.\n",
            "계좌 잔고는 1500원으로 인출 요구 금액 5000원보다 작습니다.\n"
          ],
          "name": "stdout"
        }
      ]
    },
    {
      "cell_type": "code",
      "metadata": {
        "id": "Q6jX_WBt29of"
      },
      "source": [
        "#9.11\n",
        "\n",
        "class Student:\n",
        "  def __init__(self,name,student_id,total_score=(korean_quiz+math_quiz+science_quiz),korean_quiz=0,math_quiz=0,science_quiz=0):\n",
        "    self._name=name\n",
        "    self._student_id=student_id\n",
        "    self._korean_quiz=korean_quiz\n",
        "    self._math_quiz=math_quiz\n",
        "    self._science_quiz=science_quiz\n",
        "    self._total_score=total_score\n",
        "  def __str__(self):\n",
        "    return '이름: {}, 학번: {}\\n국어성적: {}, 수학성적: {}, 과학성적: {}\\n합계: {}, 평균: {}'.format(self._name,self._student_id,self._korean_quiz,self._math_quiz,self._science_quiz,self._total_score,(self._total_score)/3)\n",
        "  def get_name(self):\n",
        "    return self._name\n",
        "  def get_student_id(self):\n",
        "    return self._student_id\n",
        "  def get_korean_quiz(self):\n",
        "    return self._korean_quiz\n",
        "  def get_math_quiz(self):\n",
        "    return self._math_quiz\n",
        "  def get_science_quiz(self):\n",
        "    return self._science_quiz\n",
        "  def set_korean_quiz(self,korean_quiz):\n",
        "    self._korean_quiz=korean_quiz\n",
        "  def set_math_quiz(self,math_quiz):\n",
        "    self._math_quiz=math_quiz\n",
        "  def set_science_quiz(self,science_quiz):\n",
        "    self._science_quiz=science_quiz\n",
        "  def get_total_score(self):\n",
        "    self._total_score=self._korean_quiz+self._math_quiz+self._science_quiz\n",
        "    return self._total_score\n",
        "  def get_avg_score(self):\n",
        "    return (self._total_score)/3"
      ],
      "execution_count": null,
      "outputs": []
    },
    {
      "cell_type": "code",
      "metadata": {
        "colab": {
          "base_uri": "https://localhost:8080/"
        },
        "id": "VIqwdxEq-gau",
        "outputId": "ba1637e0-e278-4c69-8fe8-1cb946953aa3"
      },
      "source": [
        "name=input('학생의 이름을 입력하세요:')\n",
        "student_id=input('학생의 학번을 입력하세요:')\n",
        "\n",
        "student=Student(name,student_id)\n",
        "\n",
        "korean_quiz=int(input('학생의 국어 성적을 입력하세요:'))\n",
        "math_quiz=int(input('학생의 수학 성적을 입력하세요:'))\n",
        "science_quiz=int(input('학생의 과학 성적을 입력하세요:'))\n",
        "student.set_korean_quiz(korean_quiz)\n",
        "student.set_math_quiz(math_quiz)\n",
        "student.set_science_quiz(science_quiz)\n",
        "print(student)"
      ],
      "execution_count": null,
      "outputs": [
        {
          "output_type": "stream",
          "text": [
            "학생의 이름을 입력하세요:홍길동\n",
            "학생의 학번을 입력하세요:20200012\n",
            "학생의 국어 성적을 입력하세요:85\n",
            "학생의 수학 성적을 입력하세요:90\n",
            "학생의 과학 성적을 입력하세요:95\n",
            "이름: 홍길동, 학번: 20200012\n",
            "국어성적: 85, 수학성적: 90, 과학성적: 95\n",
            "합계: 270, 평균: 90.0\n"
          ],
          "name": "stdout"
        }
      ]
    },
    {
      "cell_type": "code",
      "metadata": {
        "id": "C4icShGr_Ka-"
      },
      "source": [
        "#9.12\n",
        "\n",
        "class TV:\n",
        "  MIN_VOLUME=0\n",
        "  MAX_VOLUME=20\n",
        "  MIN_CHANNEL=0\n",
        "  MAX_CHANNEL=200\n",
        "  def __init__(self,volume=5,channel=0,is_on=False):\n",
        "    self._volume=volume\n",
        "    self._channel=channel\n",
        "    self._is_on=is_on\n",
        "  def __str__(self):\n",
        "    if(self._is_on==False):\n",
        "      return 'TV가 꺼짐 상태입니다.'\n",
        "    else:\n",
        "      return '볼륨={}, 채널={}'.format(self._volume,self._channel)\n",
        "  def toggle_power(self):\n",
        "    if(self._is_on==True):\n",
        "      self._is_on==False\n",
        "      return self._is_on\n",
        "    else:\n",
        "      self._is_on=True\n",
        "      return self._is_on\n",
        "  def get_channel(self):\n",
        "    return self._channel\n",
        "  def set_channel(self,channel_num):\n",
        "    if(int(channel_num) not in range(0,201)):\n",
        "      print('채널 오류')\n",
        "    else:\n",
        "      self._channel=channel_num\n",
        "      return self._channel\n",
        "  def get_volume(self):\n",
        "    return self._volume\n",
        "  def set_volume(self,volume_num):\n",
        "    if(int(volume_num) not in range(0,21)):\n",
        "      print('볼륨 오류')\n",
        "    else:\n",
        "      self._volume=volume_num\n",
        "      return self._volume\n",
        "  def volume_up(self):\n",
        "    self._volume+=1\n",
        "    if(self._volume>20):\n",
        "      return MIN_VOLUME\n",
        "  def volume_down(self):\n",
        "    self._volume-=1\n",
        "    if(self._volume<0):\n",
        "      return MAX_VOLUME\n",
        "  def channel_up(self):\n",
        "    self._channel+=1\n",
        "    if(self._channel>200):\n",
        "      return MIN_CHANNEL\n",
        "  def channel_down(self):\n",
        "    self._channel-=1\n",
        "    if(self._channel<0):\n",
        "      return MAX_CHANNEL"
      ],
      "execution_count": null,
      "outputs": []
    },
    {
      "cell_type": "code",
      "metadata": {
        "colab": {
          "base_uri": "https://localhost:8080/"
        },
        "id": "-IAUrXdtRHwD",
        "outputId": "ecce0e91-f2c8-4f71-ec1b-c2b486f1203c"
      },
      "source": [
        "my_tv=TV()\n",
        "print(my_tv)\n",
        "my_tv.toggle_power()\n",
        "print(my_tv)\n",
        "my_tv.set_channel(45)\n",
        "print(my_tv)\n",
        "my_tv.volume_up()\n",
        "my_tv.channel_up()\n",
        "print(my_tv)"
      ],
      "execution_count": null,
      "outputs": [
        {
          "output_type": "stream",
          "text": [
            "TV가 꺼짐 상태입니다.\n",
            "볼륨=5, 채널=0\n",
            "볼륨=5, 채널=45\n",
            "볼륨=6, 채널=46\n"
          ],
          "name": "stdout"
        }
      ]
    },
    {
      "cell_type": "code",
      "metadata": {
        "id": "Su-2rmIjRW2a"
      },
      "source": [
        "#9.13\n",
        "\n",
        "class Rectangle:\n",
        "  def __init__(self,x,y,width,height):\n",
        "    self._x=x\n",
        "    self._y=y\n",
        "    self._width=width\n",
        "    self._height=height\n",
        "  def __str__(self):\n",
        "    return 'Rectangle : (x={}, y={}, w={}, h={}), 면적={}'.format(self._x,self._y,self._width,self._height,(self._width)*(self._height))\n",
        "  def set_x(self):\n",
        "    self._x=x\n",
        "  def get_x(self):\n",
        "    return self._x\n",
        "  def set_y(self):\n",
        "    self._y=y\n",
        "  def get_y(self):\n",
        "    return self._y\n",
        "  def set_width(self):\n",
        "    self._width=width\n",
        "  def get_width(self):\n",
        "    return self._width\n",
        "  def set_height(self):\n",
        "    self._height=height\n",
        "  def get_height(self):\n",
        "    return self._height\n",
        "  def area(self):\n",
        "    return (self._width)*(self._height)\n",
        "  def overlaps(self,r):\n",
        "    a=abs(r._x-self._x)<=r._width\n",
        "    b=abs(r._y-self._y)<=r._height\n",
        "    if a and b:\n",
        "      return True\n",
        "    else:\n",
        "      return False\n",
        "  def contains(self,r):\n",
        "    a=(self._x)<=(r._x)\n",
        "    b=(self._y)>=(r._y)\n",
        "    c=(self._width)>=(r._width)\n",
        "    d=(self._height)>=(r._height)\n",
        "    if a and b and c and d:\n",
        "      return True\n",
        "    else:\n",
        "      return False\n"
      ],
      "execution_count": null,
      "outputs": []
    },
    {
      "cell_type": "code",
      "metadata": {
        "colab": {
          "base_uri": "https://localhost:8080/"
        },
        "id": "gVL0cbl1ek_0",
        "outputId": "671258a0-8d79-45d5-e24a-723e7e5949ed"
      },
      "source": [
        "r1=Rectangle(0,0,100,100)\n",
        "r2=Rectangle(0,-10,10,10)\n",
        "r3=Rectangle(-100,0,120,100)\n",
        "\n",
        "print('r1=',r1)\n",
        "print('r2=',r2)\n",
        "print('r3=',r3)\n",
        "\n",
        "print('r1 contains r2 :',r1.contains(r2))\n",
        "print('r1 contains r3 :',r1.contains(r3))\n",
        "print('r1 overlaps r2 :',r1.overlaps(r2))\n",
        "print('r1 overlaps r3 :',r1.overlaps(r3))"
      ],
      "execution_count": null,
      "outputs": [
        {
          "output_type": "stream",
          "text": [
            "r1= Rectangle : (x=0, y=0, w=100, h=100), 면적=10000\n",
            "r2= Rectangle : (x=0, y=-10, w=10, h=10), 면적=100\n",
            "r3= Rectangle : (x=-100, y=0, w=120, h=100), 면적=12000\n",
            "r1 contains r2 : True\n",
            "r1 contains r3 : False\n",
            "r1 overlaps r2 : True\n",
            "r1 overlaps r3 : True\n"
          ],
          "name": "stdout"
        }
      ]
    },
    {
      "cell_type": "code",
      "metadata": {
        "id": "pUfQBurJfEDP"
      },
      "source": [
        "#9.14\n",
        "\n",
        "class Circle:\n",
        "  PI=3.14\n",
        "  def __init__(self,x,y,radius):\n",
        "    self._x=x\n",
        "    self._y=y\n",
        "    self._radius=radius\n",
        "  def __str__(self):\n",
        "    return 'Circle : (x={}, y={}, r={}), 면적={}'.format(self._x,self._y,self._radius,(self._radius)*(self._radius)*3.14)\n",
        "  def set_x(self):\n",
        "    self._x=x\n",
        "  def get_x(self):\n",
        "    return self._x\n",
        "  def set_y(self):\n",
        "    self._y=y\n",
        "  def get_y(self):\n",
        "    return self._y\n",
        "  def set_radius(self):\n",
        "    self._radius=radius\n",
        "  def get_radius(self):\n",
        "    return self._radius\n",
        "  def area(self):\n",
        "    return (self._radius)*(self._radius)*PI\n",
        "  def overlaps(self,c):\n",
        "    a=abs(c._x-self._x)<=c._radius\n",
        "    b=abs(c._y-self._y)<=c._radius\n",
        "    if a and b:\n",
        "      return True\n",
        "    else:\n",
        "      return False\n",
        "  def contains(self,c):\n",
        "    a=abs(c._x-self._x)<=c._radius\n",
        "    b=abs(c._y-self._y)<=c._radius\n",
        "    c=(self._radius)>=(c._radius)\n",
        "    if a and b and c:\n",
        "      return True\n",
        "    else:\n",
        "      return False\n"
      ],
      "execution_count": null,
      "outputs": []
    },
    {
      "cell_type": "code",
      "metadata": {
        "colab": {
          "base_uri": "https://localhost:8080/"
        },
        "id": "lQygGGSd9ce9",
        "outputId": "0cab0399-e9e5-46f6-9a10-0e75a084b95d"
      },
      "source": [
        "c1=Circle(0,0,100)\n",
        "c2=Circle(0,-10,10)\n",
        "c3=Circle(-100,0,120)\n",
        "\n",
        "print('c1=',c1)\n",
        "print('c2=',c2)\n",
        "print('c3=',c3)\n",
        "\n",
        "print('c1 contains c2 :',c1.contains(c2))\n",
        "print('c1 contains c3 :',c1.contains(c3))\n",
        "print('c1 overlaps c2 :',c1.overlaps(c2))\n",
        "print('c1 overlaps c3 :',c1.overlaps(c3))"
      ],
      "execution_count": null,
      "outputs": [
        {
          "output_type": "stream",
          "text": [
            "c1= Circle : (x=0, y=0, r=100), 면적=31400.0\n",
            "c2= Circle : (x=0, y=-10, r=10), 면적=314.0\n",
            "c3= Circle : (x=-100, y=0, r=120), 면적=45216.0\n",
            "c1 contains c2 : True\n",
            "c1 contains c3 : False\n",
            "c1 overlaps c2 : True\n",
            "c1 overlaps c3 : True\n"
          ],
          "name": "stdout"
        }
      ]
    },
    {
      "cell_type": "code",
      "metadata": {
        "id": "FJqfThpQ9ylt"
      },
      "source": [
        ""
      ],
      "execution_count": null,
      "outputs": []
    }
  ]
}
{
  "nbformat": 4,
  "nbformat_minor": 0,
  "metadata": {
    "colab": {
      "name": "HW4_20150367_Kwonkihoon.ipynb",
      "provenance": [],
      "collapsed_sections": []
    },
    "kernelspec": {
      "name": "python3",
      "display_name": "Python 3"
    }
  },
  "cells": [
    {
      "cell_type": "markdown",
      "metadata": {
        "id": "GjZE9eaEOwVY"
      },
      "source": [
        "4장 연습문제 풀이"
      ]
    },
    {
      "cell_type": "code",
      "metadata": {
        "id": "alepjpyQOuhK",
        "outputId": "f45f11f2-083f-4246-ebbd-aabf22fcad5c",
        "colab": {
          "base_uri": "https://localhost:8080/"
        }
      },
      "source": [
        "#4.1\n",
        "\n",
        "def my_greet():\n",
        "  print('환영합니다.')\n",
        "\n",
        "my_greet()\n",
        "my_greet()"
      ],
      "execution_count": null,
      "outputs": [
        {
          "output_type": "stream",
          "text": [
            "환영합니다.\n",
            "환영합니다.\n"
          ],
          "name": "stdout"
        }
      ]
    },
    {
      "cell_type": "code",
      "metadata": {
        "id": "trcu3QOlP3pa",
        "outputId": "53c4882b-b2ce-46a3-acac-cb83948e8797",
        "colab": {
          "base_uri": "https://localhost:8080/"
        }
      },
      "source": [
        "#4.2\n",
        "\n",
        "def square(n):\n",
        "  return n*n\n",
        "\n",
        "print('3의 제곱은:',square(3))\n",
        "print('4의 제곱은:',square(4))"
      ],
      "execution_count": null,
      "outputs": [
        {
          "output_type": "stream",
          "text": [
            "3의 제곱은: 9\n",
            "4의 제곱은: 16\n"
          ],
          "name": "stdout"
        }
      ]
    },
    {
      "cell_type": "code",
      "metadata": {
        "id": "PZ1BlH6SRCjt",
        "outputId": "3ec3eedc-6b02-4d3c-9160-afc5fef5f6a7",
        "colab": {
          "base_uri": "https://localhost:8080/"
        }
      },
      "source": [
        "#4.3\n",
        "\n",
        "def max2(m,n):\n",
        "  if m>n:\n",
        "    return m\n",
        "  else:\n",
        "    return n\n",
        "\n",
        "def min2(m,n):\n",
        "  if m<n:\n",
        "    return m\n",
        "  else:\n",
        "    return n\n",
        "\n",
        "print('100과 200 중 큰 수는 :',max2(100,200))\n",
        "print('100과 200 중 작은 수는 :',min2(100,200))"
      ],
      "execution_count": null,
      "outputs": [
        {
          "output_type": "stream",
          "text": [
            "100과 200 중 큰 수는 : 200\n",
            "100과 200 중 작은 수는 : 100\n"
          ],
          "name": "stdout"
        }
      ]
    },
    {
      "cell_type": "code",
      "metadata": {
        "id": "l0qiUwMbR9UM",
        "outputId": "03b77200-69a2-412c-fcc9-f94f24e92550",
        "colab": {
          "base_uri": "https://localhost:8080/"
        }
      },
      "source": [
        "#4.4\n",
        "\n",
        "def mile_kilo():\n",
        "  for i in range(1,6):\n",
        "    print('{} 마일={} 킬로미터'.format(i,i*1.61))\n",
        "\n",
        "mile_kilo()"
      ],
      "execution_count": null,
      "outputs": [
        {
          "output_type": "stream",
          "text": [
            "1 마일=1.61 킬로미터\n",
            "2 마일=3.22 킬로미터\n",
            "3 마일=4.83 킬로미터\n",
            "4 마일=6.44 킬로미터\n",
            "5 마일=8.05 킬로미터\n"
          ],
          "name": "stdout"
        }
      ]
    },
    {
      "cell_type": "code",
      "metadata": {
        "id": "U9iFNdf2wKOR",
        "outputId": "f25e45dd-780a-43ea-b8cb-14f524a3b8ff",
        "colab": {
          "base_uri": "https://localhost:8080/"
        }
      },
      "source": [
        "#4.5\n",
        "\n",
        "def cm_inch():\n",
        "  for i in range(1,6):\n",
        "    print('{} 인치={} 센티미터'.format(i,i*2.54))\n",
        "\n",
        "cm_inch()"
      ],
      "execution_count": null,
      "outputs": [
        {
          "output_type": "stream",
          "text": [
            "1 인치=2.54 센티미터\n",
            "2 인치=5.08 센티미터\n",
            "3 인치=7.62 센티미터\n",
            "4 인치=10.16 센티미터\n",
            "5 인치=12.7 센티미터\n"
          ],
          "name": "stdout"
        }
      ]
    },
    {
      "cell_type": "code",
      "metadata": {
        "id": "D-mAD7fK8XlF",
        "outputId": "89530bb0-3da6-480c-ef15-d109839ad61c",
        "colab": {
          "base_uri": "https://localhost:8080/"
        }
      },
      "source": [
        "#4.6\n",
        "\n",
        "def cel_fah():\n",
        "  for i in range(1,6):\n",
        "    print('섭씨 {} 도=화씨 {} 도'.format(i*10,i*18+32))\n",
        "\n",
        "cel_fah()"
      ],
      "execution_count": null,
      "outputs": [
        {
          "output_type": "stream",
          "text": [
            "섭씨 10 도=화씨 50 도\n",
            "섭씨 20 도=화씨 68 도\n",
            "섭씨 30 도=화씨 86 도\n",
            "섭씨 40 도=화씨 104 도\n",
            "섭씨 50 도=화씨 122 도\n"
          ],
          "name": "stdout"
        }
      ]
    },
    {
      "cell_type": "code",
      "metadata": {
        "id": "dSLip88b81IJ",
        "outputId": "8f866329-c4d6-4361-f72f-a04c5de39923",
        "colab": {
          "base_uri": "https://localhost:8080/"
        }
      },
      "source": [
        "#4.7\n",
        "a,b,c=input('세 수를 입력하시오 :').split()\n",
        "a,b,c=int(a),int(b),int(c)\n",
        "\n",
        "def mean3(a,b,c):\n",
        "  return ((a+b+c)/3)\n",
        "\n",
        "def max3(a,b,c):\n",
        "  return max(a,b,c)\n",
        "\n",
        "def min3(a,b,c):\n",
        "  return min(a,b,c)\n",
        "\n",
        "print('{},{},{}의 평균값은 {}'.format(a,b,c,mean3(a,b,c)))\n",
        "print('{},{},{}의 최댓값은 {}'.format(a,b,c,max3(a,b,c)))\n",
        "print('{},{},{}의 최솟값은 {}'.format(a,b,c,min3(a,b,c))) \n",
        "\n"
      ],
      "execution_count": null,
      "outputs": [
        {
          "output_type": "stream",
          "text": [
            "세 수를 입력하시오 :10 30 20\n",
            "10,30,20의 평균값은 20.0\n",
            "10,30,20의 최댓값은 30\n",
            "10,30,20의 최솟값은 10\n"
          ],
          "name": "stdout"
        }
      ]
    },
    {
      "cell_type": "code",
      "metadata": {
        "id": "WToWn6Ot_RCe",
        "outputId": "851ee02a-0acd-4c20-aaad-6a2204606630",
        "colab": {
          "base_uri": "https://localhost:8080/"
        }
      },
      "source": [
        "#4.8\n",
        "\n",
        "a,b,c,d,e,f=input('여섯 개의 수를 입력하시오 :').split()\n",
        "a,b,c,d,e,f=int(a),int(b),int(c),int(d),int(e),int(f)\n",
        "\n",
        "def mean6(a,b,c,d,e,f):\n",
        "  return ((a+b+c+d+e+f)/6)\n",
        "\n",
        "def max6(a,b,c,d,e,f):\n",
        "  return max(a,b,c,d,e,f)\n",
        "\n",
        "def min6(a,b,c,d,e,f):\n",
        "  return min(a,b,c,d,e,f)\n",
        "\n",
        "print('평균값은 {}'.format(mean6(a,b,c,d,e,f)))\n",
        "print('최댓값은 {}'.format(max6(a,b,c,d,e,f)))\n",
        "print('최솟값은 {}'.format(min6(a,b,c,d,e,f))) "
      ],
      "execution_count": null,
      "outputs": [
        {
          "output_type": "stream",
          "text": [
            "여섯 개의 수를 입력하시오 :100 20 30 45 260 370\n",
            "평균값은 137.5\n",
            "최댓값은 370\n",
            "최솟값은 20\n"
          ],
          "name": "stdout"
        }
      ]
    },
    {
      "cell_type": "code",
      "metadata": {
        "id": "i_JdhGtdKma5",
        "outputId": "2b56afd8-1ab4-4761-c741-938f953a9aad",
        "colab": {
          "base_uri": "https://localhost:8080/"
        }
      },
      "source": [
        "#4.9\n",
        "\n",
        "nums=[int(x) for x in input('정수를 여러 개 입력하시오: ').split()]\n",
        "\n",
        "def mean_of_n(nums):\n",
        "  sum=0\n",
        "  for n in nums:\n",
        "    sum+=n\n",
        "  return round((sum/len(nums)),1)\n",
        "\n",
        "def max_of_n(nums):\n",
        "  return max(nums)\n",
        "\n",
        "def min_of_n(nums):\n",
        "  return min(nums)\n",
        "\n",
        "print('평균값은 {}'.format(mean_of_n(nums)))\n",
        "print('최댓값은 {}'.format(max_of_n(nums)))\n",
        "print('최솟값은 {}'.format(min_of_n(nums))) "
      ],
      "execution_count": null,
      "outputs": [
        {
          "output_type": "stream",
          "text": [
            "정수를 여러 개 입력하시오: 3 45 32 5 7 8 4 44 5 90 17\n",
            "평균값은 23.6\n",
            "최댓값은 90\n",
            "최솟값은 3\n"
          ],
          "name": "stdout"
        }
      ]
    },
    {
      "cell_type": "code",
      "metadata": {
        "id": "DZv222nkHufF",
        "outputId": "073bad83-48c9-49dd-d477-c3070d6a77ca",
        "colab": {
          "base_uri": "https://localhost:8080/"
        }
      },
      "source": [
        "#4.10\n",
        "\n",
        "x1=int(input('x1 좌표를 입력하시오: '))\n",
        "y1=int(input('y1 좌표를 입력하시오: '))\n",
        "x2=int(input('x2 좌표를 입력하시오: '))\n",
        "y2=int(input('y2 좌표를 입력하시오: '))\n",
        "\n",
        "def distance(x1,y1,x2,y2):\n",
        "  length=((x2-x1)**2+(y2-y1)**2)**0.5\n",
        "  return length\n",
        "\n",
        "print('두 점의 거리: {}'.format(distance(x1,y1,x2,y2)))"
      ],
      "execution_count": null,
      "outputs": [
        {
          "output_type": "stream",
          "text": [
            "x1 좌표를 입력하시오: 0\n",
            "y1 좌표를 입력하시오: 0\n",
            "x2 좌표를 입력하시오: 3\n",
            "y2 좌표를 입력하시오: 4\n",
            "두 점의 거리: 5.0\n"
          ],
          "name": "stdout"
        }
      ]
    },
    {
      "cell_type": "code",
      "metadata": {
        "id": "FbgUp6CdQ7uH",
        "outputId": "fa45f2c1-90c1-4223-a167-0a2e863e1d69",
        "colab": {
          "base_uri": "https://localhost:8080/"
        }
      },
      "source": [
        "#4.11\n",
        "\n",
        "x1=int(input('x1 좌표를 입력하시오: '))\n",
        "y1=int(input('y1 좌표를 입력하시오: '))\n",
        "x2=int(input('x2 좌표를 입력하시오: '))\n",
        "y2=int(input('y2 좌표를 입력하시오: '))\n",
        "\n",
        "def area(x1,y1,x2,y2):\n",
        "  area1=((x2-x1)*(y2-y1))/2\n",
        "  return area1\n",
        "\n",
        "print('직각삼각형의 면적은: {}'.format(area(x1,y1,x2,y2)))"
      ],
      "execution_count": null,
      "outputs": [
        {
          "output_type": "stream",
          "text": [
            "x1 좌표를 입력하시오: 0\n",
            "y1 좌표를 입력하시오: 0\n",
            "x2 좌표를 입력하시오: 3\n",
            "y2 좌표를 입력하시오: 4\n",
            "직각삼각형의 면적은: 6.0\n"
          ],
          "name": "stdout"
        }
      ]
    },
    {
      "cell_type": "code",
      "metadata": {
        "id": "lvi2sxYITM_n",
        "outputId": "51994129-75ff-4b91-a532-f00da9bf27ef",
        "colab": {
          "base_uri": "https://localhost:8080/"
        }
      },
      "source": [
        "#4.12\n",
        "\n",
        "width=int(input('밑변을 입력하시오: '))\n",
        "height=int(input('높이를 입력하시오: '))\n",
        "\n",
        "def cal_area(width,height):\n",
        "  area=width*height/2\n",
        "  return area\n",
        "\n",
        "print('삼각형의 면적: {}'.format(cal_area(width,height)))"
      ],
      "execution_count": null,
      "outputs": [
        {
          "output_type": "stream",
          "text": [
            "밑변을 입력하시오: 20\n",
            "높이를 입력하시오: 15\n",
            "삼각형의 면적: 150.0\n"
          ],
          "name": "stdout"
        }
      ]
    },
    {
      "cell_type": "code",
      "metadata": {
        "id": "boKctHElUKci"
      },
      "source": [
        "#4.13"
      ],
      "execution_count": null,
      "outputs": []
    },
    {
      "cell_type": "code",
      "metadata": {
        "id": "QXOThsgOUsSD",
        "outputId": "1dbc7d45-a4a5-4419-cd89-f32db75aa72a",
        "colab": {
          "base_uri": "https://localhost:8080/"
        }
      },
      "source": [
        "#(1)\n",
        "s=int(input('모서리의 길이: '))\n",
        "\n",
        "def cal_volume(s):\n",
        "  volume=s**3\n",
        "  return volume\n",
        "\n",
        "print('모서리의 길이가 {}인 정육면체의 부피: {}'.format(s,cal_volume(s)))"
      ],
      "execution_count": null,
      "outputs": [
        {
          "output_type": "stream",
          "text": [
            "모서리의 길이: 12\n",
            "모서리의 길이가 12인 정육면체의 부피: 1728\n"
          ],
          "name": "stdout"
        }
      ]
    },
    {
      "cell_type": "code",
      "metadata": {
        "id": "udGCQllqVKql",
        "outputId": "a63f9e95-bc00-4829-c664-c55a56a6bb08",
        "colab": {
          "base_uri": "https://localhost:8080/"
        }
      },
      "source": [
        "#(2)\n",
        "s=int(input('모서리의 길이: '))\n",
        "\n",
        "def cal_volume(s):\n",
        "  volume=s**3\n",
        "  return volume\n",
        "\n",
        "print('모서리의 길이가 {}인 정육면체의 부피: {}'.format(s,cal_volume(s)))"
      ],
      "execution_count": null,
      "outputs": [
        {
          "output_type": "stream",
          "text": [
            "모서리의 길이: 20\n",
            "모서리의 길이가 20인 정육면체의 부피: 8000\n"
          ],
          "name": "stdout"
        }
      ]
    },
    {
      "cell_type": "code",
      "metadata": {
        "id": "f3ugMbcCVSLx",
        "outputId": "abb92ce1-e98d-49a5-ffc9-c750c548f310",
        "colab": {
          "base_uri": "https://localhost:8080/"
        }
      },
      "source": [
        "#(3)\n",
        "l,w,h=map(int,input('가로,세로,높이를 각각 입력하라: ').split())\n",
        "def cal_volume2(l,w,h):\n",
        "  volume2=l*w*h\n",
        "  return volume2\n",
        "\n",
        "print('가로,세로,높이가 각각 {},{},{}인 직육면체 부피: {}'.format(l,w,h,cal_volume2(l,w,h)))"
      ],
      "execution_count": null,
      "outputs": [
        {
          "output_type": "stream",
          "text": [
            "가로,세로,높이를 각각 입력하라: 3 5 6\n",
            "가로,세로,높이가 각각 3,5,6인 직육면체 부피: 90\n"
          ],
          "name": "stdout"
        }
      ]
    },
    {
      "cell_type": "code",
      "metadata": {
        "id": "WMkVj5emXofz",
        "outputId": "3df2c7a4-f7e9-46f9-970c-8732ad1e2d9b",
        "colab": {
          "base_uri": "https://localhost:8080/"
        }
      },
      "source": [
        "#(4)\n",
        "r,h=map(int,input('반지름,높이를 각각 입력하라: ').split())\n",
        "def cal_volume3(r,h):\n",
        "  volume3=3.14*(r**2)*h/3\n",
        "  return volume3\n",
        "\n",
        "print('반지름,높이가 각각 {},{}인 원뿔의 부피: {}'.format(r,h,cal_volume3(r,h)))"
      ],
      "execution_count": null,
      "outputs": [
        {
          "output_type": "stream",
          "text": [
            "반지름,높이를 각각 입력하라: 20 10\n",
            "반지름,높이가 각각 20,10인 원뿔의 부피: 4186.666666666667\n"
          ],
          "name": "stdout"
        }
      ]
    },
    {
      "cell_type": "code",
      "metadata": {
        "id": "xGfwwccXYU-1",
        "outputId": "7549a439-44cd-4af4-b13c-ad8a22592da4",
        "colab": {
          "base_uri": "https://localhost:8080/"
        }
      },
      "source": [
        "#(5)\n",
        "r=int(input('반지름의 길이를 입력하라: '))\n",
        "def cal_volume4(r):\n",
        "  volume4=3.14*(r**3)*4/3\n",
        "  return volume4\n",
        "\n",
        "print('반지름이 {}인 구의 부피: {}'.format(r,cal_volume4(r)))"
      ],
      "execution_count": null,
      "outputs": [
        {
          "output_type": "stream",
          "text": [
            "반지름의 길이를 입력하라: 15\n",
            "반지름이 15인 구의 부피: 14130.0\n"
          ],
          "name": "stdout"
        }
      ]
    },
    {
      "cell_type": "code",
      "metadata": {
        "id": "0GTFSOg-Y53g",
        "outputId": "3f6d582b-3d52-4491-a5ad-2290d7c14edc",
        "colab": {
          "base_uri": "https://localhost:8080/"
        }
      },
      "source": [
        "#(6)\n",
        "r,h=map(int,input('반지름,높이를 각각 입력하라: ').split())\n",
        "def cal_volume5(r,h):\n",
        "  volume5=3.14*(r**2)*h\n",
        "  return volume5\n",
        "\n",
        "print('반지름,높이가 각각 {},{}인 원기둥의 부피: {}'.format(r,h,cal_volume5(r,h)))"
      ],
      "execution_count": null,
      "outputs": [
        {
          "output_type": "stream",
          "text": [
            "반지름,높이를 각각 입력하라: 20 10\n",
            "반지름,높이가 각각 20,10인 원기둥의 부피: 12560.0\n"
          ],
          "name": "stdout"
        }
      ]
    },
    {
      "cell_type": "code",
      "metadata": {
        "id": "AJbBS5ZsZQhZ",
        "outputId": "8accea42-29be-4707-c2fe-3c37815bbb10",
        "colab": {
          "base_uri": "https://localhost:8080/"
        }
      },
      "source": [
        "#4.14\n",
        "\n",
        "num1,num2,num3=map(int,input('세 수를 입력하세요:').split())\n",
        "a=list()\n",
        "def sort3(num1,num2,num3):\n",
        "  a.append(num1)\n",
        "  a.append(num2)\n",
        "  a.append(num3)\n",
        "  a.sort()\n",
        "  return a[0],a[1],a[2]\n",
        "\n",
        "print('정렬된 리스트는 다음과 같습니다:{}'.format(sort3(num1,num2,num3)))\n"
      ],
      "execution_count": null,
      "outputs": [
        {
          "output_type": "stream",
          "text": [
            "세 수를 입력하세요:3 2 5\n",
            "정렬된 리스트는 다음과 같습니다:(2, 3, 5)\n"
          ],
          "name": "stdout"
        }
      ]
    },
    {
      "cell_type": "code",
      "metadata": {
        "id": "p4b_bIQKimc3",
        "outputId": "9bcb9f92-26a3-4b10-d8c5-aaa46f3485cc",
        "colab": {
          "base_uri": "https://localhost:8080/"
        }
      },
      "source": [
        "#4.15\n",
        "\n",
        "def my_sort(*nums):\n",
        "  a=list(nums)\n",
        "  a.sort()\n",
        "  return a\n",
        "  \n",
        "print(my_sort(45,3,4,56,5))\n",
        "print(my_sort(9,8,7,6,5,4,3))"
      ],
      "execution_count": null,
      "outputs": [
        {
          "output_type": "stream",
          "text": [
            "[3, 4, 5, 45, 56]\n",
            "[3, 4, 5, 6, 7, 8, 9]\n"
          ],
          "name": "stdout"
        }
      ]
    },
    {
      "cell_type": "code",
      "metadata": {
        "id": "mw4beMHMiiUe",
        "outputId": "7e5c2f5c-96e4-475b-bfb3-66631aef988b",
        "colab": {
          "base_uri": "https://localhost:8080/"
        }
      },
      "source": [
        "#4.16\n",
        "\n",
        "inputStr=[int(x) for x in input('쉼표로 구분된 정수를 여러 개 입력하시오: ').split(',')]\n",
        "def my_sort2(inputStr):\n",
        "  print('입력된 정수의 리스트:{}'.format(inputStr))\n",
        "  inputStr.sort()\n",
        "  print('정렬된 정수의 리스트:{}'.format(inputStr))\n",
        "\n",
        "my_sort2(inputStr)"
      ],
      "execution_count": null,
      "outputs": [
        {
          "output_type": "stream",
          "text": [
            "쉼표로 구분된 정수를 여러 개 입력하시오: 56,67,89,34,24,300,99\n",
            "입력된 정수의 리스트:[56, 67, 89, 34, 24, 300, 99]\n",
            "정렬된 정수의 리스트:[24, 34, 56, 67, 89, 99, 300]\n"
          ],
          "name": "stdout"
        }
      ]
    },
    {
      "cell_type": "code",
      "metadata": {
        "id": "Gu8amfw2vwqj",
        "outputId": "71ea982c-5a6b-4f66-c6f6-90973147a515",
        "colab": {
          "base_uri": "https://localhost:8080/"
        }
      },
      "source": [
        "#4.17\n",
        "\n",
        "def sum_range(n1,n2):\n",
        "  sum1=0\n",
        "  for i in range(n1,n2+1):\n",
        "    sum1+=i\n",
        "  return sum1\n",
        "print('10에서 20까지의 정수의 합:{}'.format(sum_range(10,20)))\n",
        "print('40에서 100까지의 정수의 합:{}'.format(sum_range(40,100)))"
      ],
      "execution_count": null,
      "outputs": [
        {
          "output_type": "stream",
          "text": [
            "10에서 20까지의 정수의 합:165\n",
            "40에서 100까지의 정수의 합:4270\n"
          ],
          "name": "stdout"
        }
      ]
    },
    {
      "cell_type": "code",
      "metadata": {
        "id": "PebsnI9N5dwf",
        "outputId": "20c14809-bf1c-452c-ddaf-0b0bca90cb9c",
        "colab": {
          "base_uri": "https://localhost:8080/",
          "height": 238
        }
      },
      "source": [
        "#4.18\n",
        "\n",
        "a=int(input('범위의 시작 정수:'))\n",
        "b=int(input('범위의 마지막 정수:'))\n",
        "\n",
        "def lcs(a,b):\n",
        "  if a%b==0: return b\n",
        "  else: return lcs(b,(a%b))\n",
        "\n",
        "def solution(arr):\n",
        "  answer=1\n",
        "  for i in arr:answer=(answer*i)/lcs(answer,i)\n",
        "  return answer\n",
        "\n",
        "print('{}에서 {}까지의 정수들의 최소 공배수는:{}'.format(a,b,solution(arr)))"
      ],
      "execution_count": null,
      "outputs": [
        {
          "output_type": "stream",
          "text": [
            "범위의 시작 정수:2\n",
            "범위의 마지막 정수:4\n"
          ],
          "name": "stdout"
        },
        {
          "output_type": "error",
          "ename": "NameError",
          "evalue": "ignored",
          "traceback": [
            "\u001b[0;31m---------------------------------------------------------------------------\u001b[0m",
            "\u001b[0;31mNameError\u001b[0m                                 Traceback (most recent call last)",
            "\u001b[0;32m<ipython-input-46-2d1f06e2caf3>\u001b[0m in \u001b[0;36m<module>\u001b[0;34m()\u001b[0m\n\u001b[1;32m     13\u001b[0m   \u001b[0;32mreturn\u001b[0m \u001b[0manswer\u001b[0m\u001b[0;34m\u001b[0m\u001b[0;34m\u001b[0m\u001b[0m\n\u001b[1;32m     14\u001b[0m \u001b[0;34m\u001b[0m\u001b[0m\n\u001b[0;32m---> 15\u001b[0;31m \u001b[0mprint\u001b[0m\u001b[0;34m(\u001b[0m\u001b[0;34m'{}에서 {}까지의 정수들의 최소 공배수는:{}'\u001b[0m\u001b[0;34m.\u001b[0m\u001b[0mformat\u001b[0m\u001b[0;34m(\u001b[0m\u001b[0ma\u001b[0m\u001b[0;34m,\u001b[0m\u001b[0mb\u001b[0m\u001b[0;34m,\u001b[0m\u001b[0msolution\u001b[0m\u001b[0;34m(\u001b[0m\u001b[0marr\u001b[0m\u001b[0;34m)\u001b[0m\u001b[0;34m)\u001b[0m\u001b[0;34m)\u001b[0m\u001b[0;34m\u001b[0m\u001b[0;34m\u001b[0m\u001b[0m\n\u001b[0m",
            "\u001b[0;31mNameError\u001b[0m: name 'arr' is not defined"
          ]
        }
      ]
    },
    {
      "cell_type": "code",
      "metadata": {
        "id": "3y8IezaVg_yJ",
        "outputId": "b0533d48-f612-48df-f1a2-42f6a8b561c9",
        "colab": {
          "base_uri": "https://localhost:8080/"
        }
      },
      "source": [
        "#4.19\n",
        "\n",
        "n=int(input('fibo(n)의 n을 입력하세요:'))\n",
        "\n",
        "def fibo(n):\n",
        "  if n<1:\n",
        "    return n+1\n",
        "  else:\n",
        "    return(fibo(n-1)+fibo(n-2))\n",
        "\n",
        "if n<=0:\n",
        "  print('오류: 양수를 입력하세요.')\n",
        "else:\n",
        "  print('fibo({})={}'.format(n,fibo(n)))"
      ],
      "execution_count": null,
      "outputs": [
        {
          "output_type": "stream",
          "text": [
            "fibo(n)의 n을 입력하세요:3\n",
            "fibo(3)=3\n"
          ],
          "name": "stdout"
        }
      ]
    },
    {
      "cell_type": "code",
      "metadata": {
        "id": "ZReGNZ6pwLAw",
        "outputId": "2946a82f-f156-4875-8d21-406f372a8fe5",
        "colab": {
          "base_uri": "https://localhost:8080/"
        }
      },
      "source": [
        "n=int(input('fibo(n)의 n을 입력하세요:'))\n",
        "\n",
        "def fibo(n):\n",
        "  if n<1:\n",
        "    return n+1\n",
        "  else:\n",
        "    return(fibo(n-1)+fibo(n-2))\n",
        "\n",
        "if n<=0:\n",
        "  print('오류: 양수를 입력하세요.')\n",
        "else:\n",
        "  print('fibo({})={}'.format(n,fibo(n)))"
      ],
      "execution_count": null,
      "outputs": [
        {
          "output_type": "stream",
          "text": [
            "fibo(n)의 n을 입력하세요:4\n",
            "fibo(4)=5\n"
          ],
          "name": "stdout"
        }
      ]
    },
    {
      "cell_type": "code",
      "metadata": {
        "id": "_54195KHzX2g",
        "outputId": "45144673-f21f-442f-9b4e-adf410f49550",
        "colab": {
          "base_uri": "https://localhost:8080/"
        }
      },
      "source": [
        "#4.20\n",
        "\n",
        "def fibo(n):\n",
        "  if n<1:\n",
        "    return n+1\n",
        "  else:\n",
        "    return(fibo(n-1)+fibo(n-2))\n",
        "\n",
        "for i in range(16):\n",
        "  if(i<=5):\n",
        "    print('fibo(  {})=       {}'.format(i,fibo(i)))\n",
        "  elif(i<10):\n",
        "    print('fibo(  {})=      {}'.format(i,fibo(i)))\n",
        "  elif(i==10):\n",
        "    print('fibo( {})=      {}'.format(i,fibo(i)))\n",
        "  else:\n",
        "    print('fibo( {})=     {}'.format(i,fibo(i)))\n",
        "\n",
        "  "
      ],
      "execution_count": null,
      "outputs": [
        {
          "output_type": "stream",
          "text": [
            "fibo(  0)=       1\n",
            "fibo(  1)=       1\n",
            "fibo(  2)=       2\n",
            "fibo(  3)=       3\n",
            "fibo(  4)=       5\n",
            "fibo(  5)=       8\n",
            "fibo(  6)=      13\n",
            "fibo(  7)=      21\n",
            "fibo(  8)=      34\n",
            "fibo(  9)=      55\n",
            "fibo( 10)=      89\n",
            "fibo( 11)=     144\n",
            "fibo( 12)=     233\n",
            "fibo( 13)=     377\n",
            "fibo( 14)=     610\n",
            "fibo( 15)=     987\n"
          ],
          "name": "stdout"
        }
      ]
    },
    {
      "cell_type": "code",
      "metadata": {
        "id": "j-HdKnsE3vvB",
        "outputId": "d624f197-2a08-409b-ad0e-fcce332f58d9",
        "colab": {
          "base_uri": "https://localhost:8080/"
        }
      },
      "source": [
        "#4.21\n",
        "\n",
        "resident_num=input('주민등록번호 첫 6숫자 형식 입력:')\n",
        "\n",
        "birth_year=resident_num[0:2]\n",
        "birth_month=resident_num[2:4]\n",
        "birth_day=resident_num[4:6]\n",
        "\n",
        "if(int(resident_num)>=500000):\n",
        "  print('19{}년 {}월 {}일'.format(birth_year,birth_month,birth_day))\n",
        "else:\n",
        "  print('20{}년 {}월 {}일'.format(birth_year,birth_month,birth_day))"
      ],
      "execution_count": null,
      "outputs": [
        {
          "output_type": "stream",
          "text": [
            "주민등록번호 첫 6숫자 형식 입력:570312\n",
            "1957년 03월 12일\n"
          ],
          "name": "stdout"
        }
      ]
    },
    {
      "cell_type": "code",
      "metadata": {
        "id": "wFYSCd-4ILzT",
        "outputId": "76cf07c1-1f2d-4442-adff-697e405e6eb2",
        "colab": {
          "base_uri": "https://localhost:8080/"
        }
      },
      "source": [
        "resident_num=input('주민등록번호 첫 6숫자 형식 입력:')\n",
        "\n",
        "birth_year=resident_num[0:2]\n",
        "birth_month=resident_num[2:4]\n",
        "birth_day=resident_num[4:6]\n",
        "\n",
        "if(int(resident_num)>=500000):\n",
        "  print('19{}년 {}월 {}일'.format(birth_year,birth_month,birth_day))\n",
        "else:\n",
        "  print('20{}년 {}월 {}일'.format(birth_year,birth_month,birth_day))"
      ],
      "execution_count": null,
      "outputs": [
        {
          "output_type": "stream",
          "text": [
            "주민등록번호 첫 6숫자 형식 입력:011123\n",
            "2001년 11월 23일\n"
          ],
          "name": "stdout"
        }
      ]
    },
    {
      "cell_type": "code",
      "metadata": {
        "id": "8nik2pP1PPTZ",
        "outputId": "5ebfa9d9-7a9b-4cc3-97c1-f62bb156d57f",
        "colab": {
          "base_uri": "https://localhost:8080/"
        }
      },
      "source": [
        "#4.22(파이썬 라이브러리 모듈 datatime가 지원이 안되서 날짜를 임의로 입력했습니다.)\n",
        "\n",
        "a,b,c=input().split()\n",
        "print('현재 시간은 {}년 {}월 {}일입니다.'.format(a,b,c))\n",
        "print('지금 태어난 아이의 주민등록번호 앞자리는:{}{}{}'.format(a[2:],b,c))"
      ],
      "execution_count": null,
      "outputs": [
        {
          "output_type": "stream",
          "text": [
            "2019 08 13\n",
            "현재 시간은 2019년 08월 13일입니다.\n",
            "지금 태어난 아이의 주민등록번호 앞자리는:190813\n"
          ],
          "name": "stdout"
        }
      ]
    },
    {
      "cell_type": "code",
      "metadata": {
        "id": "LkWf981SPv3B",
        "outputId": "04fbda0f-eb01-48b0-c49f-fae5ccf7d833",
        "colab": {
          "base_uri": "https://localhost:8080/"
        }
      },
      "source": [
        "#4.23\n",
        "def area_and_circumference(r):\n",
        "  while r:\n",
        "    if(r>0):\n",
        "      r=int(input('반지름을 입력하시오:'))\n",
        "      pi=3.141592\n",
        "      area=pi*r*r\n",
        "      length=2*pi*r\n",
        "      print('넓이:{},둘레:{}'.format(round(area,3),round(length,3)))\n",
        "    else:\n",
        "      print('프로그램을 종료합니다.')\n",
        "      break\n",
        "\n",
        "area_and_circumference(3)"
      ],
      "execution_count": null,
      "outputs": [
        {
          "output_type": "stream",
          "text": [
            "반지름을 입력하시오:6\n",
            "넓이:113.097,둘레:37.699\n",
            "반지름을 입력하시오:22\n",
            "넓이:1520.531,둘레:138.23\n",
            "반지름을 입력하시오:4\n",
            "넓이:50.265,둘레:25.133\n",
            "반지름을 입력하시오:-1\n",
            "넓이:3.142,둘레:-6.283\n",
            "프로그램을 종료합니다.\n"
          ],
          "name": "stdout"
        }
      ]
    },
    {
      "cell_type": "code",
      "metadata": {
        "id": "c8Xcks60YxSW",
        "outputId": "f60938f1-ebf5-44f8-8ca9-da0639aaf75f",
        "colab": {
          "base_uri": "https://localhost:8080/"
        }
      },
      "source": [
        "#4.24\n",
        "\n",
        "x=str(input('여러 단어로 이루어진 글을 입력하세요:'))\n",
        "\n",
        "x=x.replace(':',' ').replace(',',' ').replace('.',' ')\n",
        "list=x.split()\n",
        "sorted_list=sorted(list)\n",
        "print(sorted_list)"
      ],
      "execution_count": null,
      "outputs": [
        {
          "output_type": "stream",
          "text": [
            "여러 단어로 이루어진 글을 입력하세요:임의의 문장을 입력:출력, 이것은 테스트 문장. 가:가나:나:나나:다람쥐 : 마린보이.\n",
            "['가', '가나', '나', '나나', '다람쥐', '마린보이', '문장', '문장을', '이것은', '임의의', '입력', '출력', '테스트']\n"
          ],
          "name": "stdout"
        }
      ]
    },
    {
      "cell_type": "code",
      "metadata": {
        "id": "sTndehLqm_Nb",
        "outputId": "8982aa47-f4ab-4148-f816-1bda08f67f56",
        "colab": {
          "base_uri": "https://localhost:8080/"
        }
      },
      "source": [
        "#4.25\n",
        "\n",
        "s1='Kang Young Min'\n",
        "s2=' Kang Young-Min'\n",
        "s3='Park Dong Min'\n",
        "s4=' Park Dong-Yun'\n",
        "\n",
        "t1=s1.replace(' ','')\n",
        "t1=t1.upper()\n",
        "t2=s2.lstrip()\n",
        "t2=s2.replace(' ','').replace('-','')\n",
        "t2=t2.upper()\n",
        "t3=s3.replace(' ','')\n",
        "t3=t3.upper()\n",
        "t4=s4.lstrip()\n",
        "t4=s4.replace(' ','').replace('-','')\n",
        "t4=t4.upper()\n",
        "\n",
        "print('{}(은)는 {}(으)로 수정됨'.format(s1,t1))\n",
        "print('{}(은)는 {}(으)로 수정됨'.format(s2,t2))\n",
        "print('{}(은)는 {}(으)로 수정됨'.format(s3,t3))\n",
        "print('{}(은)는 {}(으)로 수정됨'.format(s4,t4))\n",
        "\n",
        "a=t1.count('N')\n",
        "b=t2.count('N')\n",
        "c=t3.count('N')\n",
        "d=t4.count('N')\n",
        "\n",
        "print('{}:{}개의 N이 나타남'.format(t1,a))\n",
        "print('{}:{}개의 N이 나타남'.format(t2,b))\n",
        "print('{}:{}개의 N이 나타남'.format(t3,c))\n",
        "print('{}:{}개의 N이 나타남'.format(t4,d))"
      ],
      "execution_count": null,
      "outputs": [
        {
          "output_type": "stream",
          "text": [
            "Kang Young Min(은)는 KANGYOUNGMIN(으)로 수정됨\n",
            " Kang Young-Min(은)는 KANGYOUNGMIN(으)로 수정됨\n",
            "Park Dong Min(은)는 PARKDONGMIN(으)로 수정됨\n",
            " Park Dong-Yun(은)는 PARKDONGYUN(으)로 수정됨\n",
            "KANGYOUNGMIN:3개의 N이 나타남\n",
            "KANGYOUNGMIN:3개의 N이 나타남\n",
            "PARKDONGMIN:2개의 N이 나타남\n",
            "PARKDONGYUN:2개의 N이 나타남\n"
          ],
          "name": "stdout"
        }
      ]
    },
    {
      "cell_type": "code",
      "metadata": {
        "id": "Ovxb64oh2-21",
        "outputId": "e2434530-8559-44fb-ec83-e71659bb07e2",
        "colab": {
          "base_uri": "https://localhost:8080/"
        }
      },
      "source": [
        "#4.26\n",
        "\n",
        "x='주어진 문자열: Park(Java city), Kim(C city), Kang(Bython city), Lee(Bython city), Hong(Ruby city), Cho(Bython city), Koo(C city), Ryu(C++ city)'\n",
        "\n",
        "y=x.replace('Bython','Python').replace('주어진','수정된')\n",
        "z=y.count('Python')\n",
        "\n",
        "print(x)\n",
        "print(y)\n",
        "print('Bython 문자열은 모두 {}번 수정했습니다.'.format(z))"
      ],
      "execution_count": null,
      "outputs": [
        {
          "output_type": "stream",
          "text": [
            "주어진 문자열: Park(Java city), Kim(C city), Kang(Bython city), Lee(Bython city), Hong(Ruby city), Cho(Bython city), Koo(C city), Ryu(C++ city)\n",
            "수정된 문자열: Park(Java city), Kim(C city), Kang(Python city), Lee(Python city), Hong(Ruby city), Cho(Python city), Koo(C city), Ryu(C++ city)\n",
            "Bython 문자열은 모두 3번 수정했습니다.\n"
          ],
          "name": "stdout"
        }
      ]
    },
    {
      "cell_type": "code",
      "metadata": {
        "id": "9QZXIsza5uOB",
        "outputId": "c2601f8b-aa64-4bdc-e7e3-c4d0f5f3e1f8",
        "colab": {
          "base_uri": "https://localhost:8080/"
        }
      },
      "source": [
        "#4.27\n",
        "\n",
        "def unit_fraction(frac):\n",
        "  a=int(1/frac)\n",
        "\n",
        "  d1=frac-1/(a+1)\n",
        "  d2=1/a-frac\n",
        "  if d1<d2:\n",
        "    return a+1\n",
        "  else:\n",
        "    return a\n",
        "\n",
        "x=float(input('1보다 작고 0보다 큰 소수를 입력하세요: '))\n",
        "\n",
        "if x<=0 or x>1.0:\n",
        "  print('입력 오류입니다.')\n",
        "else:\n",
        "  a=unit_fraction(x)\n",
        "  print('가장 가까운 단위 분수는 1/{0}이며, 이 값은 {1:.50f}입니다.'.format(a,1/a))"
      ],
      "execution_count": null,
      "outputs": [
        {
          "output_type": "stream",
          "text": [
            "1보다 작고 0보다 큰 소수를 입력하세요: 0.0732\n",
            "가장 가까운 단위 분수는 1/14이며, 이 값은 0.07142857142857142460634634062444092705845832824707입니다.\n"
          ],
          "name": "stdout"
        }
      ]
    },
    {
      "cell_type": "code",
      "metadata": {
        "id": "8UW40dh69spE",
        "outputId": "5438b547-ce2d-4f3c-eb79-c0711d1ecc2a",
        "colab": {
          "base_uri": "https://localhost:8080/"
        }
      },
      "source": [
        "def unit_fraction(frac):\n",
        "  a=int(1/frac)\n",
        "\n",
        "  d1=frac-1/(a+1)\n",
        "  d2=1/a-frac\n",
        "  if d1<d2:\n",
        "    return a+1\n",
        "  else:\n",
        "    return a\n",
        "\n",
        "x=float(input('1보다 작고 0보다 큰 소수를 입력하세요: '))\n",
        "\n",
        "if x<=0 or x>1.0:\n",
        "  print('입력 오류입니다.')\n",
        "else:\n",
        "  a=unit_fraction(x)\n",
        "  print('가장 가까운 단위 분수는 1/{0}이며, 이 값은 {1:.50f}입니다.'.format(a,1/a))"
      ],
      "execution_count": null,
      "outputs": [
        {
          "output_type": "stream",
          "text": [
            "1보다 작고 0보다 큰 소수를 입력하세요: 0.00000000000000000000000000000000003423423\n",
            "가장 가까운 단위 분수는 1/29210529928670806241405426349375488이며, 이 값은 0.00000000000000000000000000000000003423423000000000입니다.\n"
          ],
          "name": "stdout"
        }
      ]
    },
    {
      "cell_type": "code",
      "metadata": {
        "id": "UZTaGCorAObp",
        "outputId": "9ca6dc28-dc75-4f0a-81fc-91ffe9e5d36d",
        "colab": {
          "base_uri": "https://localhost:8080/"
        }
      },
      "source": [
        "#4.28\n",
        "\n",
        "def factorial(k):\n",
        "  return k*factorial(k-1) if k>1 else 1\n",
        "\n",
        "def euler(n):\n",
        "  sum=0\n",
        "  for i in range(0,n+1,1):\n",
        "    sum+=sum+(1/factorial(n))\n",
        "  return sum\n",
        "\n",
        "print('euler(5)={}'.format(round(euler(5),5)))\n",
        "print('euler(20)={}'.format(round(euler(20),5)))"
      ],
      "execution_count": null,
      "outputs": [
        {
          "output_type": "stream",
          "text": [
            "euler(5)=0.525\n",
            "euler(20)=0.0\n"
          ],
          "name": "stdout"
        }
      ]
    },
    {
      "cell_type": "code",
      "metadata": {
        "id": "zdCDJCMrDelN"
      },
      "source": [
        ""
      ],
      "execution_count": null,
      "outputs": []
    }
  ]
}
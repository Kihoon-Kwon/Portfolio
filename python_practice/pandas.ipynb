{
 "cells": [
  {
   "cell_type": "code",
   "execution_count": 49,
   "metadata": {
    "scrolled": true
   },
   "outputs": [
    {
     "name": "stdout",
     "output_type": "stream",
     "text": [
      "            avg_temp  max_wind  avg_wind\n",
      "Date                                    \n",
      "2010-08-01      28.7       8.3       3.4\n",
      "2010-08-02      25.2       8.7       3.8\n",
      "2010-08-03      22.1       6.3       2.9\n",
      "            avg_temp  max_wind  avg_wind\n",
      "Date                                    \n",
      "2020-07-29      21.6       3.2       1.0\n",
      "2020-07-30      22.9       9.7       2.4\n",
      "2020-07-31      25.7       4.8       2.5\n"
     ]
    }
   ],
   "source": [
    "#1번 문제\n",
    "\n",
    "import csv\n",
    "import pandas as pd\n",
    "\n",
    "df=pd.read_csv('C:/KKH/weather.csv',index_col=0)\n",
    "\n",
    "print(df[:3])\n",
    "print(df[-3:])"
   ]
  },
  {
   "cell_type": "code",
   "execution_count": 48,
   "metadata": {
    "scrolled": true
   },
   "outputs": [
    {
     "data": {
      "text/plain": [
       "avg_temp    16.6\n",
       "max_wind     4.4\n",
       "avg_wind     1.9\n",
       "Name: 2015-06-06, dtype: float64"
      ]
     },
     "execution_count": 48,
     "metadata": {},
     "output_type": "execute_result"
    }
   ],
   "source": [
    "#2번 문제\n",
    "\n",
    "import csv\n",
    "import pandas as pd\n",
    "\n",
    "df_weather=pd.read_csv('C:/KKH/weather.csv',index_col=0)\n",
    "df_weather.loc['2015-06-06']"
   ]
  },
  {
   "cell_type": "code",
   "execution_count": 47,
   "metadata": {
    "scrolled": true
   },
   "outputs": [
    {
     "data": {
      "text/plain": [
       "31.3"
      ]
     },
     "execution_count": 47,
     "metadata": {},
     "output_type": "execute_result"
    }
   ],
   "source": [
    "#3번 문제\n",
    "\n",
    "import csv\n",
    "import pandas as pd\n",
    "\n",
    "weather=pd.read_csv('C:/KKH/weather.csv',index_col=0)\n",
    "weather['avg_temp'].max()"
   ]
  },
  {
   "cell_type": "code",
   "execution_count": 44,
   "metadata": {
    "scrolled": true
   },
   "outputs": [
    {
     "data": {
      "text/html": [
       "<div>\n",
       "<style scoped>\n",
       "    .dataframe tbody tr th:only-of-type {\n",
       "        vertical-align: middle;\n",
       "    }\n",
       "\n",
       "    .dataframe tbody tr th {\n",
       "        vertical-align: top;\n",
       "    }\n",
       "\n",
       "    .dataframe thead th {\n",
       "        text-align: right;\n",
       "    }\n",
       "</style>\n",
       "<table border=\"1\" class=\"dataframe\">\n",
       "  <thead>\n",
       "    <tr style=\"text-align: right;\">\n",
       "      <th></th>\n",
       "      <th>avg_temp</th>\n",
       "      <th>max_wind</th>\n",
       "      <th>avg_wind</th>\n",
       "    </tr>\n",
       "    <tr>\n",
       "      <th>Date</th>\n",
       "      <th></th>\n",
       "      <th></th>\n",
       "      <th></th>\n",
       "    </tr>\n",
       "  </thead>\n",
       "  <tbody>\n",
       "    <tr>\n",
       "      <th>2013-08-08</th>\n",
       "      <td>31.3</td>\n",
       "      <td>7.8</td>\n",
       "      <td>4.6</td>\n",
       "    </tr>\n",
       "  </tbody>\n",
       "</table>\n",
       "</div>"
      ],
      "text/plain": [
       "            avg_temp  max_wind  avg_wind\n",
       "Date                                    \n",
       "2013-08-08      31.3       7.8       4.6"
      ]
     },
     "execution_count": 44,
     "metadata": {},
     "output_type": "execute_result"
    }
   ],
   "source": [
    "#4번 문제\n",
    "\n",
    "import csv     \n",
    "import pandas as pd\n",
    "\n",
    "max_df=pd.read_csv('C:/KKH/weather.csv',index_col=0)\n",
    "\n",
    "f = open('C:/KKH/weather.csv')  \n",
    "data = csv.reader(f)             \n",
    "header = next(data)\n",
    "\n",
    "max_temp = 0.0\n",
    "for row in data:                 \n",
    "    if row[1] == '' :             \n",
    "        temp = 0\n",
    "    else :\n",
    "        temp = float(row[1])    \n",
    "    if max_temp < temp :       \n",
    "        max_temp = temp        \n",
    "\n",
    "max_df[max_df['avg_temp']==max_temp]"
   ]
  },
  {
   "cell_type": "code",
   "execution_count": 46,
   "metadata": {
    "scrolled": true
   },
   "outputs": [
    {
     "data": {
      "text/html": [
       "<div>\n",
       "<style scoped>\n",
       "    .dataframe tbody tr th:only-of-type {\n",
       "        vertical-align: middle;\n",
       "    }\n",
       "\n",
       "    .dataframe tbody tr th {\n",
       "        vertical-align: top;\n",
       "    }\n",
       "\n",
       "    .dataframe thead th {\n",
       "        text-align: right;\n",
       "    }\n",
       "</style>\n",
       "<table border=\"1\" class=\"dataframe\">\n",
       "  <thead>\n",
       "    <tr style=\"text-align: right;\">\n",
       "      <th></th>\n",
       "      <th>avg_temp</th>\n",
       "      <th>max_wind</th>\n",
       "      <th>avg_wind</th>\n",
       "    </tr>\n",
       "    <tr>\n",
       "      <th>Date</th>\n",
       "      <th></th>\n",
       "      <th></th>\n",
       "      <th></th>\n",
       "    </tr>\n",
       "  </thead>\n",
       "  <tbody>\n",
       "    <tr>\n",
       "      <th>2013-08-08</th>\n",
       "      <td>31.3</td>\n",
       "      <td>7.8</td>\n",
       "      <td>4.6</td>\n",
       "    </tr>\n",
       "    <tr>\n",
       "      <th>2013-08-09</th>\n",
       "      <td>30.6</td>\n",
       "      <td>9.9</td>\n",
       "      <td>6.4</td>\n",
       "    </tr>\n",
       "    <tr>\n",
       "      <th>2013-08-10</th>\n",
       "      <td>30.6</td>\n",
       "      <td>7.4</td>\n",
       "      <td>3.8</td>\n",
       "    </tr>\n",
       "    <tr>\n",
       "      <th>2018-07-23</th>\n",
       "      <td>30.5</td>\n",
       "      <td>6.5</td>\n",
       "      <td>1.6</td>\n",
       "    </tr>\n",
       "    <tr>\n",
       "      <th>2018-08-04</th>\n",
       "      <td>30.3</td>\n",
       "      <td>5.8</td>\n",
       "      <td>3.0</td>\n",
       "    </tr>\n",
       "  </tbody>\n",
       "</table>\n",
       "</div>"
      ],
      "text/plain": [
       "            avg_temp  max_wind  avg_wind\n",
       "Date                                    \n",
       "2013-08-08      31.3       7.8       4.6\n",
       "2013-08-09      30.6       9.9       6.4\n",
       "2013-08-10      30.6       7.4       3.8\n",
       "2018-07-23      30.5       6.5       1.6\n",
       "2018-08-04      30.3       5.8       3.0"
      ]
     },
     "execution_count": 46,
     "metadata": {},
     "output_type": "execute_result"
    }
   ],
   "source": [
    "#5번 문제\n",
    "\n",
    "import csv\n",
    "import pandas as pd\n",
    "\n",
    "weather=pd.read_csv('C:/KKH/weather.csv',index_col=0)\n",
    "\n",
    "weather[weather['avg_temp']>=30.0]"
   ]
  },
  {
   "cell_type": "code",
   "execution_count": null,
   "metadata": {
    "scrolled": true
   },
   "outputs": [],
   "source": []
  }
 ],
 "metadata": {
  "kernelspec": {
   "display_name": "Python 3",
   "language": "python",
   "name": "python3"
  },
  "language_info": {
   "codemirror_mode": {
    "name": "ipython",
    "version": 3
   },
   "file_extension": ".py",
   "mimetype": "text/x-python",
   "name": "python",
   "nbconvert_exporter": "python",
   "pygments_lexer": "ipython3",
   "version": "3.7.6"
  }
 },
 "nbformat": 4,
 "nbformat_minor": 4
}

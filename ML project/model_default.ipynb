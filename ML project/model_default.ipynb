{
 "cells": [
  {
   "cell_type": "code",
   "execution_count": 1,
   "id": "59f5f0e4",
   "metadata": {},
   "outputs": [],
   "source": [
    "# Default setup과 tile 함수 정의부입니다.\n",
    "\n",
    "# Python ≥3.5 is required\n",
    "import sys\n",
    "assert sys.version_info >= (3, 5)\n",
    "\n",
    "# Scikit-Learn ≥0.20 is required\n",
    "import sklearn\n",
    "assert sklearn.__version__ >= \"0.20\"\n",
    "\n",
    "# Common imports\n",
    "import numpy as np\n",
    "import os\n",
    "\n",
    "# to make this notebook's output stable across runs\n",
    "np.random.seed(42)\n",
    "\n",
    "# To plot pretty figures\n",
    "%matplotlib inline\n",
    "import matplotlib as mpl\n",
    "import matplotlib.pyplot as plt\n",
    "mpl.rc('axes', labelsize=14)\n",
    "mpl.rc('xtick', labelsize=12)\n",
    "mpl.rc('ytick', labelsize=12)\n",
    "\n",
    "# Where to save the figures\n",
    "PROJECT_ROOT_DIR = \".\"\n",
    "CHAPTER_ID = \"3_classification\"\n",
    "IMAGES_PATH = os.path.join(PROJECT_ROOT_DIR, \"images\", CHAPTER_ID)\n",
    "os.makedirs(IMAGES_PATH, exist_ok=True)\n",
    "\n",
    "def save_fig(fig_id, tight_layout=True, fig_extension=\"png\", resolution=300):\n",
    "    path = os.path.join(IMAGES_PATH, fig_id + \".\" + fig_extension)\n",
    "    print(\"Saving figure\", fig_id)\n",
    "    if tight_layout:\n",
    "        plt.tight_layout()\n",
    "    plt.savefig(path, format=fig_extension, dpi=resolution)\n",
    "\n",
    "from PIL import Image\n",
    "from itertools import product\n",
    "import glob\n",
    "import cv2 as cv\n",
    "\n",
    "def tile(filename, dir_in, dir_out, d):\n",
    "    name, ext = os.path.splitext(filename)\n",
    "    img = Image.open(os.path.join(dir_in, filename))\n",
    "    w, h = img.size\n",
    "    \n",
    "    grid = product(range(0, h-h%d, d), range(0, w-w%d, d))\n",
    "    for i, j in grid:\n",
    "        box = (j+5, i+5, j+d-5, i+d-5)\n",
    "        out = os.path.join(dir_out, f'{name}_{i//38}_{j//38}{ext}')\n",
    "        img.crop(box).save(out)"
   ]
  },
  {
   "cell_type": "markdown",
   "id": "91f9fa83",
   "metadata": {},
   "source": [
    "아래 셀은 MNIST 데이터를 가져오고 X, y에 배정하는 내용입니다."
   ]
  },
  {
   "cell_type": "code",
   "execution_count": 2,
   "id": "119a83e1",
   "metadata": {},
   "outputs": [],
   "source": [
    "from sklearn.datasets import fetch_openml\n",
    "mnist = fetch_openml('mnist_784', version=1)\n",
    "mnist.keys()\n",
    "\n",
    "X, y = mnist[\"data\"], mnist[\"target\"] # X, y: pandas DataFrame\n",
    "X, y = X.to_numpy(), y.to_numpy() # X, y: numpy array"
   ]
  },
  {
   "cell_type": "code",
   "execution_count": 3,
   "id": "48208642",
   "metadata": {},
   "outputs": [],
   "source": [
    "X_beforeInsert, y_beforeInsert = X[0:0].copy(), y[0:0].copy()\n",
    "X_forTest, y_forTest = X[0:0].copy(), y[0:0].copy()\n",
    "# X_beforeInsert와 y_beforeInsert는 빈 ndarray"
   ]
  },
  {
   "cell_type": "markdown",
   "id": "6625145d",
   "metadata": {},
   "source": [
    "os 모듈을 import하고 파일들을 28 x 28 jpg 이미지 파일로 쪼개는 단계입니다. ⚠️ Directory 관련 안내: 상대 경로이므로 폴더를 재구성하지 마십시오."
   ]
  },
  {
   "cell_type": "markdown",
   "id": "262ecddc",
   "metadata": {},
   "source": [
    "### Training 데이터 추가하기\n",
    "380 * 380 JPEG 이미지 파일을 /mnist_append/in 폴더에 추가하고 아레 셀을 실행하면 Training / Test Dataset에 3:1 비율로 추가됩니다."
   ]
  },
  {
   "cell_type": "code",
   "execution_count": 4,
   "id": "087deecd",
   "metadata": {},
   "outputs": [
    {
     "name": "stdout",
     "output_type": "stream",
     "text": [
      "['mnist_append/in\\\\dahoonlee1.jpg', 'mnist_append/in\\\\dahoonlee10.jpg', 'mnist_append/in\\\\dahoonlee11.jpg', 'mnist_append/in\\\\dahoonlee12.jpg', 'mnist_append/in\\\\dahoonlee13.jpg', 'mnist_append/in\\\\dahoonlee14.jpg', 'mnist_append/in\\\\dahoonlee15.jpg', 'mnist_append/in\\\\dahoonlee16.jpg', 'mnist_append/in\\\\dahoonlee17.jpg', 'mnist_append/in\\\\dahoonlee18.jpg', 'mnist_append/in\\\\dahoonlee19.jpg', 'mnist_append/in\\\\dahoonlee2.jpg', 'mnist_append/in\\\\dahoonlee20.jpg', 'mnist_append/in\\\\dahoonlee3.jpg', 'mnist_append/in\\\\dahoonlee4.jpg', 'mnist_append/in\\\\dahoonlee5.jpg', 'mnist_append/in\\\\dahoonlee6.jpg', 'mnist_append/in\\\\dahoonlee7.jpg', 'mnist_append/in\\\\dahoonlee8.jpg', 'mnist_append/in\\\\dahoonlee9.jpg', 'mnist_append/in\\\\heejuahn1.jpg', 'mnist_append/in\\\\heejuahn10.jpg', 'mnist_append/in\\\\heejuahn2.jpg', 'mnist_append/in\\\\heejuahn3.jpg', 'mnist_append/in\\\\heejuahn4.jpg', 'mnist_append/in\\\\heejuahn5.jpg', 'mnist_append/in\\\\heejuahn6.jpg', 'mnist_append/in\\\\heejuahn7.jpg', 'mnist_append/in\\\\heejuahn8.jpg', 'mnist_append/in\\\\heejuahn9.jpg', 'mnist_append/in\\\\kihoonkwon1.jpg', 'mnist_append/in\\\\kihoonkwon10.jpg', 'mnist_append/in\\\\kihoonkwon2.jpg', 'mnist_append/in\\\\kihoonkwon3.jpg', 'mnist_append/in\\\\kihoonkwon4.jpg', 'mnist_append/in\\\\kihoonkwon5.jpg', 'mnist_append/in\\\\kihoonkwon6.jpg', 'mnist_append/in\\\\kihoonkwon7.jpg', 'mnist_append/in\\\\kihoonkwon8.jpg', 'mnist_append/in\\\\kihoonkwon9.jpg', 'mnist_append/in\\\\mooseongkwon1.jpg', 'mnist_append/in\\\\mooseongkwon10.jpg', 'mnist_append/in\\\\mooseongkwon2.jpg', 'mnist_append/in\\\\mooseongkwon3.jpg', 'mnist_append/in\\\\mooseongkwon4.jpg', 'mnist_append/in\\\\mooseongkwon5.jpg', 'mnist_append/in\\\\mooseongkwon6.jpg', 'mnist_append/in\\\\mooseongkwon7.jpg', 'mnist_append/in\\\\mooseongkwon8.jpg', 'mnist_append/in\\\\mooseongkwon9.jpg', 'mnist_append/in\\\\seungheonhan1.jpg', 'mnist_append/in\\\\seungheonhan10.jpg', 'mnist_append/in\\\\seungheonhan11.jpg', 'mnist_append/in\\\\seungheonhan2.jpg', 'mnist_append/in\\\\seungheonhan3.jpg', 'mnist_append/in\\\\seungheonhan4.jpg', 'mnist_append/in\\\\seungheonhan5.jpg', 'mnist_append/in\\\\seungheonhan6.jpg', 'mnist_append/in\\\\seungheonhan7.jpg', 'mnist_append/in\\\\seungheonhan8.jpg', 'mnist_append/in\\\\seungheonhan9.jpg']\n"
     ]
    }
   ],
   "source": [
    "path = sorted(glob.glob(\"mnist_append/in/*.jpg\"))\n",
    "print(path)\n",
    "for i in range(len(path)):\n",
    "    path[i] = os.path.basename(path[i])\n",
    "    tile(path[i],\"mnist_append/in\" ,\"mnist_append/out\", 38)"
   ]
  },
  {
   "cell_type": "markdown",
   "id": "2ff63064",
   "metadata": {},
   "source": [
    "### For transfer image to array\n",
    "아래 셀부터는 수집된 이미지를 배열로 전환하는 과정입니다."
   ]
  },
  {
   "cell_type": "code",
   "execution_count": 5,
   "id": "e81627f1",
   "metadata": {},
   "outputs": [
    {
     "name": "stdout",
     "output_type": "stream",
     "text": [
      "Saving figure some_digit_plot\n",
      "7번째의 X의 레이블은: 7\n"
     ]
    },
    {
     "data": {
      "image/png": "[encoded data removed]",
      "text/plain": [
       "<Figure size 432x288 with 1 Axes>"
      ]
     },
     "metadata": {
      "needs_background": "light"
     },
     "output_type": "display_data"
    }
   ],
   "source": [
    "path = sorted(glob.glob(\"mnist_append/out/*.jpg\"))\n",
    "\n",
    "y_labels = ['0', '1', '2', '3', '4', '5', '6', '7', '8', '9']\n",
    "cv_img = []\n",
    "for img in path:\n",
    "    n = cv.imread(img, 0)\n",
    "    n = 255 - n\n",
    "    n = np.ravel(n, order='C')\n",
    "    cv_img.append(n)\n",
    "\n",
    "X_beforeInsert = np.concatenate((X_beforeInsert, cv_img), axis=0)\n",
    "y_beforeInsert = np.append(y_beforeInsert, y_labels * (len(cv_img)//10))\n",
    "\n",
    "a = 7 # want to know\n",
    "some_digit = X_beforeInsert[a]\n",
    "some_digit_image = some_digit.reshape(28, 28)\n",
    "plt.imshow(some_digit_image, cmap=mpl.cm.binary)\n",
    "plt.axis(\"off\")\n",
    "save_fig(\"some_digit_plot\")\n",
    "print(a, \"번째의 X의 레이블은: \", y_beforeInsert[a], sep=\"\")"
   ]
  },
  {
   "cell_type": "code",
   "execution_count": 6,
   "id": "3b163e81",
   "metadata": {},
   "outputs": [],
   "source": [
    "from sklearn.model_selection import train_test_split\n",
    "X_train, X_test, y_train, y_test = X[:67500], X[67500:], y[:67500], y[67500:]\n",
    "X_i_train, X_i_test, y_i_train, y_i_test = train_test_split(X_beforeInsert, y_beforeInsert, test_size=0.25, shuffle=True, stratify=y_beforeInsert, random_state=42)\n",
    "X_train = np.concatenate((X_train, X_i_train), axis=0)\n",
    "X_test = np.concatenate((X_test, X_i_test), axis=0)\n",
    "y_train = np.append(y_train, y_i_train)\n",
    "y_test = np.append(y_test, y_i_test)"
   ]
  },
  {
   "cell_type": "code",
   "execution_count": 7,
   "id": "299a839a",
   "metadata": {},
   "outputs": [
    {
     "name": "stdout",
     "output_type": "stream",
     "text": [
      "0\n",
      "Saving figure some_digit_plot\n",
      "신규 데이터 중 train 데이터 비율: 0.75\n",
      "신규 데이터 중 test 데이터 비율: 0.25\n",
      "72075 4025 4025\n"
     ]
    },
    {
     "data": {
      "image/png": "[encoded data removed]",
      "text/plain": [
       "<Figure size 432x288 with 1 Axes>"
      ]
     },
     "metadata": {
      "needs_background": "light"
     },
     "output_type": "display_data"
    }
   ],
   "source": [
    "some_digit = X_test[2774]\n",
    "print(y_test[2774])\n",
    "some_digit_image = some_digit.reshape(28, 28)\n",
    "plt.imshow(some_digit_image, cmap=mpl.cm.binary)\n",
    "plt.axis(\"off\")\n",
    "save_fig(\"some_digit_plot\")\n",
    "print(\"신규 데이터 중 train 데이터 비율:\", (len(X_train)-67500)/(len(X_train)-67500 + len(X_test)-2500))\n",
    "print(\"신규 데이터 중 test 데이터 비율:\", (len(X_test)-2500)/((len(X_train)-67500 + len(X_test)-2500)))\n",
    "print(len(X_train), len(X_test), len(y_test))"
   ]
  },
  {
   "cell_type": "code",
   "execution_count": 8,
   "id": "52ecfde0",
   "metadata": {},
   "outputs": [],
   "source": [
    "# Test만을 위한 데이터를 X_test와 y_test에 붙이는 셀\n",
    "pathTestOut = sorted(glob.glob(\"mnist_append/fortest_out/*.jpg\"))\n",
    "\n",
    "y_labels = ['0', '1', '2', '3', '4', '5', '6', '7', '8', '9']\n",
    "cv_img = []\n",
    "for img in pathTestOut:\n",
    "    n = cv.imread(img, 0)\n",
    "    n = 255 - n\n",
    "    n = np.ravel(n, order='C')\n",
    "    cv_img.append(n)\n",
    "\n",
    "X_forTest = np.concatenate((X_forTest, cv_img), axis=0)\n",
    "y_forTest = np.append(y_forTest, y_labels * (len(cv_img)//10))\n",
    "X_test = np.concatenate((X_test, X_forTest), axis=0)\n",
    "y_test = np.append(y_test, y_forTest)"
   ]
  },
  {
   "cell_type": "code",
   "execution_count": 9,
   "id": "de10779f",
   "metadata": {},
   "outputs": [],
   "source": [
    "# 이 아래 셀부터 모델을 만드시면 됩니다.\n",
    "# mnist_append/in에 380*380 이미지를 넣고 Markdown H3 For competition 밑에 있는 셀을 실행하면 mnist_append/out에 28*28로\n",
    "# 슬라이스한 이미지가 저장되고, 바로 아래 셀에서는 import한 이미지를 X에 붙이고, 순서대로 레이블링하여 y에 붙이는 작업을 수행합니다.\n",
    "# 최종 제출 전에 이 주석을 삭제하십시오.\n",
    "# 파일 이름(최초: Untitled.ipynb)은 적절하게 바꾸시면 됩니다. 귀찮아서 이름을 안 지었습니다."
   ]
  },
  {
   "cell_type": "code",
   "execution_count": 10,
   "id": "caa6d76a",
   "metadata": {},
   "outputs": [],
   "source": [
    "from sklearn.preprocessing import StandardScaler\n",
    "scaler=StandardScaler()\n",
    "X_train_scaled=scaler.fit_transform(X_train)\n",
    "X_test_scaled=scaler.transform(X_test)"
   ]
  },
  {
   "cell_type": "code",
   "execution_count": 11,
   "id": "234cbd4d",
   "metadata": {},
   "outputs": [],
   "source": [
    "from sklearn.preprocessing import RobustScaler\n",
    "rscaler=RobustScaler()\n",
    "X_train_rscaled=rscaler.fit_transform(X_train)\n",
    "X_test_rscaled=rscaler.transform(X_test)"
   ]
  },
  {
   "cell_type": "code",
   "execution_count": 12,
   "id": "e8a625fd",
   "metadata": {},
   "outputs": [],
   "source": [
    "from sklearn.preprocessing import MinMaxScaler\n",
    "mscaler=MinMaxScaler()\n",
    "X_train_mscaled=mscaler.fit_transform(X_train)\n",
    "X_test_mscaled=mscaler.transform(X_test)"
   ]
  },
  {
   "cell_type": "code",
   "execution_count": 13,
   "id": "0563aeaf",
   "metadata": {},
   "outputs": [],
   "source": [
    "from sklearn.preprocessing import Normalizer\n",
    "nor=Normalizer()\n",
    "X_train_normalized=nor.fit_transform(X_train)\n",
    "X_test_normalized=nor.transform(X_test)"
   ]
  },
  {
   "cell_type": "code",
   "execution_count": 14,
   "id": "8a01fbfc",
   "metadata": {},
   "outputs": [],
   "source": [
    "scores={}\n",
    "processing_times={}\n",
    "predict_times={}"
   ]
  },
  {
   "cell_type": "code",
   "execution_count": 15,
   "id": "1e3de4ea",
   "metadata": {},
   "outputs": [],
   "source": [
    "def fit_and_calScoreTime(clf,tr_data,ts_data,tr_label,ts_label):\n",
    "    fit_st=time.time()\n",
    "    clf.fit(tr_data,tr_label)\n",
    "    fit_time=time.time()-fit_st\n",
    "    \n",
    "    pred_st=time.time()\n",
    "    predictions=clf.predict(ts_data)\n",
    "    pred_time=time.time()-pred_st\n",
    "    \n",
    "    score=accuracy_score(ts_label,predictions)\n",
    "    return score,fit_time,pred_time"
   ]
  },
  {
   "cell_type": "code",
   "execution_count": 16,
   "id": "65d81e16",
   "metadata": {},
   "outputs": [
    {
     "name": "stderr",
     "output_type": "stream",
     "text": [
      "D:\\Anaconda\\lib\\site-packages\\sklearn\\linear_model\\_stochastic_gradient.py:696: ConvergenceWarning: Maximum number of iteration reached before convergence. Consider increasing max_iter to improve the fit.\n",
      "  warnings.warn(\n"
     ]
    },
    {
     "name": "stdout",
     "output_type": "stream",
     "text": [
      "[SGD (No scaling)] score: 0.5822485207100592, training time : 288.6637623310089, prediction time : 0.019948720932006836\n",
      "[SGD (StandardScaler)] score: 0.5950295857988166, training time : 760.227620601654, prediction time : 0.0827789306640625\n",
      "[SGD (RobustScaler)] score: 0.5723076923076923, training time : 340.7666699886322, prediction time : 0.1466047763824463\n",
      "[SGD (MinMaxScaler)] score: 0.6340828402366864, training time : 55.75406789779663, prediction time : 0.1545867919921875\n",
      "[SGD (Normalizer)] score: 0.6324260355029586, training time : 21.659356355667114, prediction time : 0.15934205055236816\n"
     ]
    },
    {
     "name": "stderr",
     "output_type": "stream",
     "text": [
      "D:\\Anaconda\\lib\\site-packages\\sklearn\\linear_model\\_logistic.py:814: ConvergenceWarning: lbfgs failed to converge (status=1):\n",
      "STOP: TOTAL NO. of ITERATIONS REACHED LIMIT.\n",
      "\n",
      "Increase the number of iterations (max_iter) or scale the data as shown in:\n",
      "    https://scikit-learn.org/stable/modules/preprocessing.html\n",
      "Please also refer to the documentation for alternative solver options:\n",
      "    https://scikit-learn.org/stable/modules/linear_model.html#logistic-regression\n",
      "  n_iter_i = _check_optimize_result(\n",
      "D:\\Anaconda\\lib\\site-packages\\sklearn\\linear_model\\_logistic.py:814: ConvergenceWarning: lbfgs failed to converge (status=1):\n",
      "STOP: TOTAL NO. of ITERATIONS REACHED LIMIT.\n",
      "\n",
      "Increase the number of iterations (max_iter) or scale the data as shown in:\n",
      "    https://scikit-learn.org/stable/modules/preprocessing.html\n",
      "Please also refer to the documentation for alternative solver options:\n",
      "    https://scikit-learn.org/stable/modules/linear_model.html#logistic-regression\n",
      "  n_iter_i = _check_optimize_result(\n",
      "D:\\Anaconda\\lib\\site-packages\\sklearn\\linear_model\\_logistic.py:814: ConvergenceWarning: lbfgs failed to converge (status=1):\n",
      "STOP: TOTAL NO. of ITERATIONS REACHED LIMIT.\n",
      "\n",
      "Increase the number of iterations (max_iter) or scale the data as shown in:\n",
      "    https://scikit-learn.org/stable/modules/preprocessing.html\n",
      "Please also refer to the documentation for alternative solver options:\n",
      "    https://scikit-learn.org/stable/modules/linear_model.html#logistic-regression\n",
      "  n_iter_i = _check_optimize_result(\n",
      "D:\\Anaconda\\lib\\site-packages\\sklearn\\linear_model\\_logistic.py:814: ConvergenceWarning: lbfgs failed to converge (status=1):\n",
      "STOP: TOTAL NO. of ITERATIONS REACHED LIMIT.\n",
      "\n",
      "Increase the number of iterations (max_iter) or scale the data as shown in:\n",
      "    https://scikit-learn.org/stable/modules/preprocessing.html\n",
      "Please also refer to the documentation for alternative solver options:\n",
      "    https://scikit-learn.org/stable/modules/linear_model.html#logistic-regression\n",
      "  n_iter_i = _check_optimize_result(\n",
      "D:\\Anaconda\\lib\\site-packages\\sklearn\\linear_model\\_logistic.py:814: ConvergenceWarning: lbfgs failed to converge (status=1):\n",
      "STOP: TOTAL NO. of ITERATIONS REACHED LIMIT.\n",
      "\n",
      "Increase the number of iterations (max_iter) or scale the data as shown in:\n",
      "    https://scikit-learn.org/stable/modules/preprocessing.html\n",
      "Please also refer to the documentation for alternative solver options:\n",
      "    https://scikit-learn.org/stable/modules/linear_model.html#logistic-regression\n",
      "  n_iter_i = _check_optimize_result(\n"
     ]
    },
    {
     "name": "stdout",
     "output_type": "stream",
     "text": [
      "[LogisticRegression (No scaling)] score: 0.6411834319526627, training time : 126.27264404296875, prediction time : 0.11692237854003906\n",
      "[LogisticRegression (StandardScaler)] score: 0.6369230769230769, training time : 102.08091473579407, prediction time : 0.24743437767028809\n",
      "[LogisticRegression (RobustScaler)] score: 0.5846153846153846, training time : 121.47153759002686, prediction time : 0.19229936599731445\n",
      "[LogisticRegression (MinMaxScaler)] score: 0.6433136094674556, training time : 115.740975856781, prediction time : 0.17913293838500977\n",
      "[LogisticRegression (Normalizer)] score: 0.6435502958579882, training time : 113.97301864624023, prediction time : 0.15102291107177734\n",
      "[KNearest Neighbors (No scaling)] score: 0.7126627218934911, training time : 2.2583506107330322, prediction time : 46.30648970603943\n",
      "[KNearest Neighbors (StandardScaler)] score: 0.6930177514792899, training time : 3.8219892978668213, prediction time : 32.56749176979065\n",
      "[KNearest Neighbors (RobustScaler)] score: 0.5763313609467455, training time : 2.717400550842285, prediction time : 29.613338470458984\n",
      "[KNearest Neighbors (MinMaxScaler)] score: 0.7126627218934911, training time : 1.6077260971069336, prediction time : 27.415681838989258\n",
      "[KNearest Neighbors (Normalizer)] score: 0.7557396449704142, training time : 1.8978271484375, prediction time : 29.914283990859985\n",
      "[Multi-Layter Perceptron (No scaling)] score: 0.6889940828402367, training time : 387.60212540626526, prediction time : 0.19929265975952148\n",
      "[Multi-Layter Perceptron (StandardScaler)] score: 0.722603550295858, training time : 318.2476325035095, prediction time : 0.08955001831054688\n",
      "[Multi-Layter Perceptron (RobustScaler)] score: 0.6681656804733728, training time : 436.63084506988525, prediction time : 0.21323442459106445\n",
      "[Multi-Layter Perceptron (MinMaxScaler)] score: 0.7543195266272189, training time : 262.57177567481995, prediction time : 0.11567044258117676\n",
      "[Multi-Layter Perceptron (Normalizer)] score: 0.7495857988165681, training time : 650.7318639755249, prediction time : 0.1665637493133545\n",
      "[Linear SVM (No scaling)] score: 0.735621301775148, training time : 998.769556760788, prediction time : 124.45923829078674\n",
      "[Linear SVM (StandardScaler)] score: 0.6958579881656805, training time : 1177.2983226776123, prediction time : 130.67650246620178\n",
      "[Linear SVM (RobustScaler)] score: 0.6002366863905325, training time : 2358.032484769821, prediction time : 253.87959122657776\n",
      "[Linear SVM (MinMaxScaler)] score: 0.735621301775148, training time : 948.6830060482025, prediction time : 106.71155619621277\n",
      "[Linear SVM (Normalizer)] score: 0.7633136094674556, training time : 972.3129274845123, prediction time : 84.15990161895752\n",
      "[Gaussian Naive Bayes (No scaling)] score: 0.5777514792899409, training time : 1388.286281824112, prediction time : 0.808800458908081\n",
      "[Gaussian Naive Bayes (StandardScaler)] score: 0.5777514792899409, training time : 4.6365978717803955, prediction time : 0.782907247543335\n",
      "[Gaussian Naive Bayes (RobustScaler)] score: 0.5777514792899409, training time : 4.402237415313721, prediction time : 0.768951416015625\n",
      "[Gaussian Naive Bayes (MinMaxScaler)] score: 0.5777514792899409, training time : 2.4933416843414307, prediction time : 0.735037088394165\n",
      "[Gaussian Naive Bayes (Normalizer)] score: 0.5810650887573965, training time : 1.8799753189086914, prediction time : 0.7220714092254639\n",
      "[Nearest Centroid (No scaling)] score: 0.5772781065088758, training time : 0.6801824569702148, prediction time : 0.4198577404022217\n",
      "[Nearest Centroid (StandardScaler)] score: 0.5744378698224852, training time : 0.6462767124176025, prediction time : 0.0388941764831543\n",
      "[Nearest Centroid (RobustScaler)] score: 0.41017751479289943, training time : 0.5794486999511719, prediction time : 0.04089665412902832\n",
      "[Nearest Centroid (MinMaxScaler)] score: 0.5772781065088758, training time : 0.6472711563110352, prediction time : 0.04089164733886719\n",
      "[Nearest Centroid (Normalizer)] score: 0.5805917159763314, training time : 0.6582386493682861, prediction time : 0.048868656158447266\n"
     ]
    }
   ],
   "source": [
    "from sklearn.linear_model import SGDClassifier\n",
    "from sklearn.linear_model import LogisticRegression\n",
    "from sklearn.neighbors import KNeighborsClassifier\n",
    "from sklearn.neural_network import MLPClassifier\n",
    "from sklearn.svm import SVC\n",
    "from sklearn.naive_bayes import GaussianNB\n",
    "from sklearn.neighbors import NearestCentroid\n",
    "from sklearn.naive_bayes import MultinomialNB\n",
    "from sklearn.metrics import accuracy_score\n",
    "import time\n",
    "\n",
    "names=[\"SGD\",\"LogisticRegression\",\n",
    "       \"KNearest Neighbors\",\n",
    "       \"Multi-Layter Perceptron\",\n",
    "       \"Linear SVM\",\n",
    "       \"Gaussian Naive Bayes\",\n",
    "       \"Nearest Centroid\",\"Multinomial Naive Bayes\"]\n",
    "\n",
    "classifiers=[\n",
    "    SGDClassifier(random_state=42),\n",
    "    LogisticRegression(),\n",
    "    KNeighborsClassifier(),\n",
    "    MLPClassifier(random_state=42),\n",
    "    SVC(random_state=42),\n",
    "    GaussianNB(),\n",
    "    NearestCentroid(),\n",
    "    MultinomialNB()\n",
    "]\n",
    "\n",
    "    \n",
    "for name,clf in zip(names,classifiers):\n",
    "    scaling_names=['No scaling','StandardScaler',\"RobustScaler\",\"MinMaxScaler\",\"Normalizer\"]\n",
    "    t_scores=[]\n",
    "    t_fit_times=[]\n",
    "    t_pred_times=[]\n",
    "    \n",
    "    #no scaling\n",
    "    score,fit_time,pred_time=fit_and_calScoreTime(clf,X_train,X_test,y_train,y_test)\n",
    "    t_scores.append(score)\n",
    "    t_fit_times.append(fit_time)\n",
    "    t_pred_times.append(pred_time)\n",
    "    \n",
    "    try:\n",
    "        #standardScaler\n",
    "        sscore,sfit_time,spred_time=fit_and_calScoreTime(clf,X_train_scaled,X_test_scaled,y_train,y_test)\n",
    "        t_scores.append(sscore)\n",
    "        t_fit_times.append(sfit_time)\n",
    "        t_pred_times.append(spred_time)\n",
    "    \n",
    "        #robustScaler\n",
    "        rscore,rfit_time,rpred_time=fit_and_calScoreTime(clf,X_train_rscaled,X_test_rscaled,y_train,y_test)\n",
    "        t_scores.append(rscore)\n",
    "        t_fit_times.append(rfit_time)\n",
    "        t_pred_times.append(rpred_time)\n",
    "    \n",
    "        #minmaxScaler\n",
    "        mscore,mfit_time,mpred_time=fit_and_calScoreTime(clf,X_train_mscaled,X_test_mscaled,y_train,y_test)\n",
    "        t_scores.append(mscore)\n",
    "        t_fit_times.append(mfit_time)\n",
    "        t_pred_times.append(mpred_time)\n",
    "    \n",
    "        #normalizer\n",
    "        nscore,nfit_time,npred_time=fit_and_calScoreTime(clf,X_train_normalized,X_test_normalized,y_train,y_test)\n",
    "        t_scores.append(nscore)\n",
    "        t_fit_times.append(nfit_time)\n",
    "        t_pred_times.append(npred_time)\n",
    "    \n",
    "        for i in range(len(scaling_names)):\n",
    "            input_name=name+'('+scaling_names[i]+')'\n",
    "            print(f\"[{name} ({scaling_names[i]})] score: {t_scores[i]}, training time : {t_fit_times[i]}, prediction time : {t_pred_times[i]}\")\n",
    "            scores[input_name]=t_scores[i]\n",
    "            processing_times[input_name]=t_fit_times[i]\n",
    "            predict_times[input_name]=t_pred_times[i]\n",
    "            \n",
    "    except ValueError:\n",
    "        continue\n",
    "\n",
    "    "
   ]
  },
  {
   "cell_type": "code",
   "execution_count": null,
   "id": "a5f8756b",
   "metadata": {},
   "outputs": [],
   "source": []
  }
 ],
 "metadata": {
  "kernelspec": {
   "display_name": "Python 3 (ipykernel)",
   "language": "python",
   "name": "python3"
  },
  "language_info": {
   "codemirror_mode": {
    "name": "ipython",
    "version": 3
   },
   "file_extension": ".py",
   "mimetype": "text/x-python",
   "name": "python",
   "nbconvert_exporter": "python",
   "pygments_lexer": "ipython3",
   "version": "3.9.7"
  }
 },
 "nbformat": 4,
 "nbformat_minor": 5
}

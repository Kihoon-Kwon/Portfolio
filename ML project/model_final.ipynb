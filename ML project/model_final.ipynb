{
 "cells": [
  {
   "cell_type": "code",
   "execution_count": 1,
   "id": "59f5f0e4",
   "metadata": {},
   "outputs": [],
   "source": [
    "# Default setup과 tile 함수 정의부입니다.\n",
    "\n",
    "# Python ≥3.5 is required\n",
    "import sys\n",
    "assert sys.version_info >= (3, 5)\n",
    "\n",
    "# Scikit-Learn ≥0.20 is required\n",
    "import sklearn\n",
    "assert sklearn.__version__ >= \"0.20\"\n",
    "\n",
    "# Common imports\n",
    "import numpy as np\n",
    "import os\n",
    "\n",
    "# to make this notebook's output stable across runs\n",
    "np.random.seed(42)\n",
    "\n",
    "# To plot pretty figures\n",
    "%matplotlib inline\n",
    "import matplotlib as mpl\n",
    "import matplotlib.pyplot as plt\n",
    "mpl.rc('axes', labelsize=14)\n",
    "mpl.rc('xtick', labelsize=12)\n",
    "mpl.rc('ytick', labelsize=12)\n",
    "\n",
    "# Where to save the figures\n",
    "PROJECT_ROOT_DIR = \".\"\n",
    "CHAPTER_ID = \"3_classification\"\n",
    "IMAGES_PATH = os.path.join(PROJECT_ROOT_DIR, \"images\", CHAPTER_ID)\n",
    "os.makedirs(IMAGES_PATH, exist_ok=True)\n",
    "\n",
    "def save_fig(fig_id, tight_layout=True, fig_extension=\"png\", resolution=300):\n",
    "    path = os.path.join(IMAGES_PATH, fig_id + \".\" + fig_extension)\n",
    "    print(\"Saving figure\", fig_id)\n",
    "    if tight_layout:\n",
    "        plt.tight_layout()\n",
    "    plt.savefig(path, format=fig_extension, dpi=resolution)\n",
    "\n",
    "from PIL import Image\n",
    "from itertools import product\n",
    "import glob\n",
    "import cv2 as cv\n",
    "\n",
    "def tile(filename, dir_in, dir_out, d):\n",
    "    name, ext = os.path.splitext(filename)\n",
    "    img = Image.open(os.path.join(dir_in, filename))\n",
    "    w, h = img.size\n",
    "    \n",
    "    grid = product(range(0, h-h%d, d), range(0, w-w%d, d))\n",
    "    for i, j in grid:\n",
    "        box = (j+5, i+5, j+d-5, i+d-5)\n",
    "        out = os.path.join(dir_out, f'{name}_{i//38}_{j//38}{ext}')\n",
    "        img.crop(box).save(out)"
   ]
  },
  {
   "cell_type": "markdown",
   "id": "91f9fa83",
   "metadata": {},
   "source": [
    "아래 셀은 MNIST 데이터를 가져오고 X, y에 배정하는 내용입니다."
   ]
  },
  {
   "cell_type": "code",
   "execution_count": 2,
   "id": "119a83e1",
   "metadata": {},
   "outputs": [],
   "source": [
    "from sklearn.datasets import fetch_openml\n",
    "mnist = fetch_openml('mnist_784', version=1)\n",
    "mnist.keys()\n",
    "\n",
    "X, y = mnist[\"data\"], mnist[\"target\"] # X, y: pandas DataFrame\n",
    "X, y = X.to_numpy(), y.to_numpy() # X, y: numpy array"
   ]
  },
  {
   "cell_type": "code",
   "execution_count": 3,
   "id": "48208642",
   "metadata": {},
   "outputs": [],
   "source": [
    "X_beforeInsert, y_beforeInsert = X[0:0].copy(), y[0:0].copy()\n",
    "X_forTest, y_forTest = X[0:0].copy(), y[0:0].copy()\n",
    "# X_beforeInsert와 y_beforeInsert는 빈 ndarray"
   ]
  },
  {
   "cell_type": "markdown",
   "id": "6625145d",
   "metadata": {},
   "source": [
    "os 모듈을 import하고 파일들을 28 x 28 jpg 이미지 파일로 쪼개는 단계입니다. ⚠️ Directory 관련 안내: 상대 경로이므로 폴더를 재구성하지 마십시오."
   ]
  },
  {
   "cell_type": "markdown",
   "id": "262ecddc",
   "metadata": {},
   "source": [
    "### Training 데이터 추가하기\n",
    "380 * 380 JPEG 이미지 파일을 /mnist_append/in 폴더에 추가하고 아레 셀을 실행하면 Training / Test Dataset에 3:1 비율로 추가됩니다."
   ]
  },
  {
   "cell_type": "code",
   "execution_count": 4,
   "id": "087deecd",
   "metadata": {},
   "outputs": [
    {
     "name": "stdout",
     "output_type": "stream",
     "text": [
      "['mnist_append/in\\\\dahoonlee1.jpg', 'mnist_append/in\\\\dahoonlee10.jpg', 'mnist_append/in\\\\dahoonlee11.jpg', 'mnist_append/in\\\\dahoonlee12.jpg', 'mnist_append/in\\\\dahoonlee13.jpg', 'mnist_append/in\\\\dahoonlee14.jpg', 'mnist_append/in\\\\dahoonlee15.jpg', 'mnist_append/in\\\\dahoonlee16.jpg', 'mnist_append/in\\\\dahoonlee17.jpg', 'mnist_append/in\\\\dahoonlee18.jpg', 'mnist_append/in\\\\dahoonlee19.jpg', 'mnist_append/in\\\\dahoonlee2.jpg', 'mnist_append/in\\\\dahoonlee20.jpg', 'mnist_append/in\\\\dahoonlee3.jpg', 'mnist_append/in\\\\dahoonlee4.jpg', 'mnist_append/in\\\\dahoonlee5.jpg', 'mnist_append/in\\\\dahoonlee6.jpg', 'mnist_append/in\\\\dahoonlee7.jpg', 'mnist_append/in\\\\dahoonlee8.jpg', 'mnist_append/in\\\\dahoonlee9.jpg', 'mnist_append/in\\\\heejuahn1.jpg', 'mnist_append/in\\\\heejuahn10.jpg', 'mnist_append/in\\\\heejuahn2.jpg', 'mnist_append/in\\\\heejuahn3.jpg', 'mnist_append/in\\\\heejuahn4.jpg', 'mnist_append/in\\\\heejuahn5.jpg', 'mnist_append/in\\\\heejuahn6.jpg', 'mnist_append/in\\\\heejuahn7.jpg', 'mnist_append/in\\\\heejuahn8.jpg', 'mnist_append/in\\\\heejuahn9.jpg', 'mnist_append/in\\\\kihoonkwon1.jpg', 'mnist_append/in\\\\kihoonkwon10.jpg', 'mnist_append/in\\\\kihoonkwon2.jpg', 'mnist_append/in\\\\kihoonkwon3.jpg', 'mnist_append/in\\\\kihoonkwon4.jpg', 'mnist_append/in\\\\kihoonkwon5.jpg', 'mnist_append/in\\\\kihoonkwon6.jpg', 'mnist_append/in\\\\kihoonkwon7.jpg', 'mnist_append/in\\\\kihoonkwon8.jpg', 'mnist_append/in\\\\kihoonkwon9.jpg', 'mnist_append/in\\\\mooseongkwon1.jpg', 'mnist_append/in\\\\mooseongkwon10.jpg', 'mnist_append/in\\\\mooseongkwon2.jpg', 'mnist_append/in\\\\mooseongkwon3.jpg', 'mnist_append/in\\\\mooseongkwon4.jpg', 'mnist_append/in\\\\mooseongkwon5.jpg', 'mnist_append/in\\\\mooseongkwon6.jpg', 'mnist_append/in\\\\mooseongkwon7.jpg', 'mnist_append/in\\\\mooseongkwon8.jpg', 'mnist_append/in\\\\mooseongkwon9.jpg', 'mnist_append/in\\\\seungheonhan1.jpg', 'mnist_append/in\\\\seungheonhan10.jpg', 'mnist_append/in\\\\seungheonhan11.jpg', 'mnist_append/in\\\\seungheonhan2.jpg', 'mnist_append/in\\\\seungheonhan3.jpg', 'mnist_append/in\\\\seungheonhan4.jpg', 'mnist_append/in\\\\seungheonhan5.jpg', 'mnist_append/in\\\\seungheonhan6.jpg', 'mnist_append/in\\\\seungheonhan7.jpg', 'mnist_append/in\\\\seungheonhan8.jpg', 'mnist_append/in\\\\seungheonhan9.jpg']\n"
     ]
    }
   ],
   "source": [
    "path = sorted(glob.glob(\"mnist_append/in/*.jpg\"))\n",
    "print(path)\n",
    "for i in range(len(path)):\n",
    "    path[i] = os.path.basename(path[i])\n",
    "    tile(path[i],\"mnist_append/in\" ,\"mnist_append/out\", 38)"
   ]
  },
  {
   "cell_type": "markdown",
   "id": "2ff63064",
   "metadata": {},
   "source": [
    "### For transfer image to array\n",
    "아래 셀부터는 수집된 이미지를 배열로 전환하는 과정입니다."
   ]
  },
  {
   "cell_type": "code",
   "execution_count": 5,
   "id": "c3a5a9a8",
   "metadata": {},
   "outputs": [
    {
     "name": "stdout",
     "output_type": "stream",
     "text": [
      "Saving figure some_digit_plot\n",
      "7번째의 X의 레이블은: 7\n"
     ]
    },
    {
     "data": {
      "image/png": "[encoded data removed]",
      "text/plain": [
       "<Figure size 432x288 with 1 Axes>"
      ]
     },
     "metadata": {
      "needs_background": "light"
     },
     "output_type": "display_data"
    }
   ],
   "source": [
    "path = sorted(glob.glob(\"mnist_append/out/*.jpg\"))\n",
    "\n",
    "y_labels = ['0', '1', '2', '3', '4', '5', '6', '7', '8', '9']\n",
    "cv_img = []\n",
    "for img in path:\n",
    "    n = cv.imread(img, 0)\n",
    "    n = 255 - n\n",
    "    n = np.ravel(n, order='C')\n",
    "    cv_img.append(n)\n",
    "\n",
    "X_beforeInsert = np.concatenate((X_beforeInsert, cv_img), axis=0)\n",
    "y_beforeInsert = np.append(y_beforeInsert, y_labels * (len(cv_img)//10))\n",
    "\n",
    "a = 7 # want to know\n",
    "some_digit = X_beforeInsert[a]\n",
    "some_digit_image = some_digit.reshape(28, 28)\n",
    "plt.imshow(some_digit_image, cmap=mpl.cm.binary)\n",
    "plt.axis(\"off\")\n",
    "save_fig(\"some_digit_plot\")\n",
    "print(a, \"번째의 X의 레이블은: \", y_beforeInsert[a], sep=\"\")"
   ]
  },
  {
   "cell_type": "code",
   "execution_count": 6,
   "id": "f415a385",
   "metadata": {},
   "outputs": [],
   "source": [
    "from sklearn.model_selection import train_test_split\n",
    "X_train, X_test, y_train, y_test = X[:67500], X[67500:], y[:67500], y[67500:]\n",
    "X_i_train, X_i_test, y_i_train, y_i_test = train_test_split(X_beforeInsert, y_beforeInsert, test_size=0.25, shuffle=True, stratify=y_beforeInsert, random_state=42)\n",
    "X_train = np.concatenate((X_train, X_i_train), axis=0)\n",
    "X_test = np.concatenate((X_test, X_i_test), axis=0)\n",
    "y_train = np.append(y_train, y_i_train)\n",
    "y_test = np.append(y_test, y_i_test)"
   ]
  },
  {
   "cell_type": "code",
   "execution_count": 7,
   "id": "db6e38cf",
   "metadata": {},
   "outputs": [
    {
     "name": "stdout",
     "output_type": "stream",
     "text": [
      "0\n",
      "Saving figure some_digit_plot\n",
      "신규 데이터 중 train 데이터 비율: 0.75\n",
      "신규 데이터 중 test 데이터 비율: 0.25\n",
      "72075 4025 4025\n"
     ]
    },
    {
     "data": {
      "image/png": "[encoded data removed]",
      "text/plain": [
       "<Figure size 432x288 with 1 Axes>"
      ]
     },
     "metadata": {
      "needs_background": "light"
     },
     "output_type": "display_data"
    }
   ],
   "source": [
    "some_digit = X_test[2774]\n",
    "print(y_test[2774])\n",
    "some_digit_image = some_digit.reshape(28, 28)\n",
    "plt.imshow(some_digit_image, cmap=mpl.cm.binary)\n",
    "plt.axis(\"off\")\n",
    "save_fig(\"some_digit_plot\")\n",
    "print(\"신규 데이터 중 train 데이터 비율:\", (len(X_train)-67500)/(len(X_train)-67500 + len(X_test)-2500))\n",
    "print(\"신규 데이터 중 test 데이터 비율:\", (len(X_test)-2500)/((len(X_train)-67500 + len(X_test)-2500)))\n",
    "print(len(X_train), len(X_test), len(y_test))"
   ]
  },
  {
   "cell_type": "markdown",
   "id": "7d42f658",
   "metadata": {},
   "source": [
    "KNN Classifier를 이용하여 초기 정확도 계산\n",
    "\n",
    "**다른 모델들을 이용한 경우의 초기 정확도는 model_default 파일을 참조바랍니다**\n"
   ]
  },
  {
   "cell_type": "code",
   "execution_count": 8,
   "id": "c1ab89e6",
   "metadata": {},
   "outputs": [
    {
     "name": "stdout",
     "output_type": "stream",
     "text": [
      "Score of KNN: 0.7401242236024844\n"
     ]
    }
   ],
   "source": [
    "from sklearn.neighbors import KNeighborsClassifier\n",
    "from sklearn.metrics import accuracy_score\n",
    "\n",
    "knn_clf = KNeighborsClassifier()\n",
    "knn_clf.fit(X_train, y_train)\n",
    "y_pred_knn = knn_clf.predict(X_test)\n",
    "\n",
    "print(\"Score of KNN:\",accuracy_score(y_test, y_pred_knn))"
   ]
  },
  {
   "cell_type": "markdown",
   "id": "9b3b689d",
   "metadata": {},
   "source": [
    "### 베이스라인이 너무 낮은 현상 발견\n",
    "dataset을 조정한 후 KNN Classifiler 를 이용하여 정확도 다시 계산"
   ]
  },
  {
   "cell_type": "code",
   "execution_count": 9,
   "id": "db3c5e9b",
   "metadata": {},
   "outputs": [
    {
     "name": "stdout",
     "output_type": "stream",
     "text": [
      "신규 데이터 중 train 데이터 비율: 0.75\n",
      "신규 데이터 중 test 데이터 비율: 0.25\n",
      "72075 4025 4025\n"
     ]
    }
   ],
   "source": [
    "#접근 폴더명을 제외한 나머지 설정은 초기 설정과 동일\n",
    "#dataset 파일을 조정한 경우\n",
    "\n",
    "X, y = mnist[\"data\"], mnist[\"target\"] # X, y: pandas DataFrame\n",
    "X, y = X.to_numpy(), y.to_numpy() # X, y: numpy array\n",
    "\n",
    "X_beforeInsert, y_beforeInsert = X[0:0].copy(), y[0:0].copy()\n",
    "X_forTest, y_forTest = X[0:0].copy(), y[0:0].copy()\n",
    "# X_beforeInsert와 y_beforeInsert는 빈 ndarray\n",
    "\n",
    "path = sorted(glob.glob(\"mnist_append/out4/*.jpg\"))\n",
    "\n",
    "y_labels = ['0', '1', '2', '3', '4', '5', '6', '7', '8', '9']\n",
    "cv_img = []\n",
    "for img in path:\n",
    "    n = cv.imread(img, 0)\n",
    "    n = 255 - n\n",
    "    n = np.ravel(n, order='C')\n",
    "    cv_img.append(n)\n",
    "\n",
    "X_beforeInsert = np.concatenate((X_beforeInsert, cv_img), axis=0)\n",
    "y_beforeInsert = np.append(y_beforeInsert, y_labels * (len(cv_img)//10))\n",
    "\n",
    "X_train, X_test, y_train, y_test = X[:67500], X[67500:], y[:67500], y[67500:]\n",
    "X_i_train, X_i_test, y_i_train, y_i_test = train_test_split(X_beforeInsert, y_beforeInsert, test_size=0.25, shuffle=True, stratify=y_beforeInsert, random_state=42)\n",
    "X_train = np.concatenate((X_train, X_i_train), axis=0)\n",
    "X_test = np.concatenate((X_test, X_i_test), axis=0)\n",
    "y_train = np.append(y_train, y_i_train)\n",
    "y_test = np.append(y_test, y_i_test)\n",
    "print(\"신규 데이터 중 train 데이터 비율:\", (len(X_train)-67500)/(len(X_train)-67500 + len(X_test)-2500))\n",
    "print(\"신규 데이터 중 test 데이터 비율:\", (len(X_test)-2500)/((len(X_train)-67500 + len(X_test)-2500)))\n",
    "print(len(X_train), len(X_test), len(y_test))"
   ]
  },
  {
   "cell_type": "code",
   "execution_count": 10,
   "id": "d2a8dc41",
   "metadata": {},
   "outputs": [
    {
     "name": "stdout",
     "output_type": "stream",
     "text": [
      "Score of KNN: 0.8104347826086956\n"
     ]
    }
   ],
   "source": [
    "knn_clf = KNeighborsClassifier()\n",
    "knn_clf.fit(X_train, y_train)\n",
    "y_pred_knn = knn_clf.predict(X_test)\n",
    "\n",
    "print(\"Score of KNN:\",accuracy_score(y_test, y_pred_knn)) "
   ]
  },
  {
   "cell_type": "code",
   "execution_count": 11,
   "id": "c88ef583",
   "metadata": {},
   "outputs": [
    {
     "name": "stdout",
     "output_type": "stream",
     "text": [
      "신규 데이터 중 train 데이터 비율: 0.8\n",
      "신규 데이터 중 test 데이터 비율: 0.2\n",
      "64880 11220 11220\n"
     ]
    }
   ],
   "source": [
    "#이후 train, test dataset의 비율을 조정한 경우\n",
    "\n",
    "X_train, X_test, y_train, y_test = X[:60000], X[60000:], y[:60000], y[60000:]\n",
    "X_i_train, X_i_test, y_i_train, y_i_test = train_test_split(X_beforeInsert, y_beforeInsert, test_size=0.2, shuffle=True, stratify=y_beforeInsert, random_state=42)\n",
    "X_train = np.concatenate((X_train, X_i_train), axis=0)\n",
    "X_test = np.concatenate((X_test, X_i_test), axis=0)\n",
    "y_train = np.append(y_train, y_i_train)\n",
    "y_test = np.append(y_test, y_i_test)\n",
    "print(\"신규 데이터 중 train 데이터 비율:\", (len(X_train)-60000)/(len(X_train)-60000 + len(X_test)-10000))\n",
    "print(\"신규 데이터 중 test 데이터 비율:\", (len(X_test)-10000)/((len(X_train)-60000 + len(X_test)-10000)))\n",
    "print(len(X_train), len(X_test), len(y_test))"
   ]
  },
  {
   "cell_type": "code",
   "execution_count": 12,
   "id": "70aa97c6",
   "metadata": {},
   "outputs": [
    {
     "name": "stdout",
     "output_type": "stream",
     "text": [
      "Score of KNN: 0.9194295900178253\n"
     ]
    }
   ],
   "source": [
    "knn_clf = KNeighborsClassifier()\n",
    "knn_clf.fit(X_train, y_train)\n",
    "y_pred_knn = knn_clf.predict(X_test)\n",
    "\n",
    "print(\"Score of KNN:\",accuracy_score(y_test, y_pred_knn))"
   ]
  },
  {
   "cell_type": "markdown",
   "id": "ff7d1096",
   "metadata": {},
   "source": [
    "### 데이터 scale 후 모델 fitting\n",
    "다양한 방법으로 dataset을 scale한 후 각각의 모델에 대입 후 정확도, 소요 시간 도출"
   ]
  },
  {
   "cell_type": "code",
   "execution_count": 13,
   "id": "bac1f3e5",
   "metadata": {},
   "outputs": [],
   "source": [
    "#confusion matrix 그림으로 보여주는 함수\n",
    "from sklearn.metrics import ConfusionMatrixDisplay\n",
    "from sklearn.metrics import confusion_matrix\n",
    "\n",
    "def draw_cm(model,label,predictions): #label은 y_train이나 y_test넣으면 된다.\n",
    "    cm=confusion_matrix(label,predictions,labels=model.classes_)\n",
    "    disp=ConfusionMatrixDisplay(confusion_matrix=cm,display_labels=model.classes_)\n",
    "    disp.plot()\n",
    "    plt.show()"
   ]
  },
  {
   "cell_type": "code",
   "execution_count": 14,
   "id": "d617589b",
   "metadata": {},
   "outputs": [],
   "source": [
    "from sklearn.preprocessing import StandardScaler\n",
    "scaler=StandardScaler()\n",
    "X_train_scaled=scaler.fit_transform(X_train)\n",
    "X_test_scaled=scaler.transform(X_test)"
   ]
  },
  {
   "cell_type": "code",
   "execution_count": 15,
   "id": "6e45bfc6",
   "metadata": {},
   "outputs": [],
   "source": [
    "from sklearn.preprocessing import RobustScaler\n",
    "rscaler=RobustScaler()\n",
    "X_train_rscaled=rscaler.fit_transform(X_train)\n",
    "X_test_rscaled=rscaler.transform(X_test)"
   ]
  },
  {
   "cell_type": "code",
   "execution_count": 16,
   "id": "d1498806",
   "metadata": {},
   "outputs": [],
   "source": [
    "from sklearn.preprocessing import MinMaxScaler\n",
    "mscaler=MinMaxScaler()\n",
    "X_train_mscaled=mscaler.fit_transform(X_train)\n",
    "X_test_mscaled=mscaler.transform(X_test)"
   ]
  },
  {
   "cell_type": "code",
   "execution_count": 17,
   "id": "bba4d722",
   "metadata": {},
   "outputs": [],
   "source": [
    "from sklearn.preprocessing import Normalizer\n",
    "nor=Normalizer()\n",
    "X_train_normalized=nor.fit_transform(X_train)\n",
    "X_test_normalized=nor.transform(X_test)"
   ]
  },
  {
   "cell_type": "code",
   "execution_count": 18,
   "id": "d75ebc5d",
   "metadata": {},
   "outputs": [],
   "source": [
    "scores={}\n",
    "processing_times={}\n",
    "predict_times={}"
   ]
  },
  {
   "cell_type": "code",
   "execution_count": 19,
   "id": "61e34592",
   "metadata": {},
   "outputs": [],
   "source": [
    "def fit_and_calScoreTime(clf,tr_data,ts_data,tr_label,ts_label):\n",
    "    fit_st=time.time()\n",
    "    clf.fit(tr_data,tr_label)\n",
    "    fit_time=time.time()-fit_st\n",
    "    \n",
    "    pred_st=time.time()\n",
    "    predictions=clf.predict(ts_data)\n",
    "    pred_time=time.time()-pred_st\n",
    "    \n",
    "    score=accuracy_score(ts_label,predictions)\n",
    "    return score,fit_time,pred_time"
   ]
  },
  {
   "cell_type": "code",
   "execution_count": 20,
   "id": "fc2a5ecf",
   "metadata": {},
   "outputs": [
    {
     "name": "stderr",
     "output_type": "stream",
     "text": [
      "D:\\Anaconda\\lib\\site-packages\\sklearn\\linear_model\\_stochastic_gradient.py:696: ConvergenceWarning: Maximum number of iteration reached before convergence. Consider increasing max_iter to improve the fit.\n",
      "  warnings.warn(\n"
     ]
    },
    {
     "name": "stdout",
     "output_type": "stream",
     "text": [
      "[SGD (No scaling)] score: 0.8148841354723708, training time : 236.32952976226807, prediction time : 0.044881343841552734\n",
      "[SGD (StandardScaler)] score: 0.7997326203208556, training time : 652.9353165626526, prediction time : 0.0937495231628418\n",
      "[SGD (RobustScaler)] score: 0.7866310160427807, training time : 218.4692907333374, prediction time : 0.1849045753479004\n",
      "[SGD (MinMaxScaler)] score: 0.8467023172905526, training time : 27.311949491500854, prediction time : 0.10073304176330566\n",
      "[SGD (Normalizer)] score: 0.8364527629233511, training time : 9.297197818756104, prediction time : 0.1226358413696289\n"
     ]
    },
    {
     "name": "stderr",
     "output_type": "stream",
     "text": [
      "D:\\Anaconda\\lib\\site-packages\\sklearn\\linear_model\\_logistic.py:814: ConvergenceWarning: lbfgs failed to converge (status=1):\n",
      "STOP: TOTAL NO. of ITERATIONS REACHED LIMIT.\n",
      "\n",
      "Increase the number of iterations (max_iter) or scale the data as shown in:\n",
      "    https://scikit-learn.org/stable/modules/preprocessing.html\n",
      "Please also refer to the documentation for alternative solver options:\n",
      "    https://scikit-learn.org/stable/modules/linear_model.html#logistic-regression\n",
      "  n_iter_i = _check_optimize_result(\n",
      "D:\\Anaconda\\lib\\site-packages\\sklearn\\linear_model\\_logistic.py:814: ConvergenceWarning: lbfgs failed to converge (status=1):\n",
      "STOP: TOTAL NO. of ITERATIONS REACHED LIMIT.\n",
      "\n",
      "Increase the number of iterations (max_iter) or scale the data as shown in:\n",
      "    https://scikit-learn.org/stable/modules/preprocessing.html\n",
      "Please also refer to the documentation for alternative solver options:\n",
      "    https://scikit-learn.org/stable/modules/linear_model.html#logistic-regression\n",
      "  n_iter_i = _check_optimize_result(\n",
      "D:\\Anaconda\\lib\\site-packages\\sklearn\\linear_model\\_logistic.py:814: ConvergenceWarning: lbfgs failed to converge (status=1):\n",
      "STOP: TOTAL NO. of ITERATIONS REACHED LIMIT.\n",
      "\n",
      "Increase the number of iterations (max_iter) or scale the data as shown in:\n",
      "    https://scikit-learn.org/stable/modules/preprocessing.html\n",
      "Please also refer to the documentation for alternative solver options:\n",
      "    https://scikit-learn.org/stable/modules/linear_model.html#logistic-regression\n",
      "  n_iter_i = _check_optimize_result(\n",
      "D:\\Anaconda\\lib\\site-packages\\sklearn\\linear_model\\_logistic.py:814: ConvergenceWarning: lbfgs failed to converge (status=1):\n",
      "STOP: TOTAL NO. of ITERATIONS REACHED LIMIT.\n",
      "\n",
      "Increase the number of iterations (max_iter) or scale the data as shown in:\n",
      "    https://scikit-learn.org/stable/modules/preprocessing.html\n",
      "Please also refer to the documentation for alternative solver options:\n",
      "    https://scikit-learn.org/stable/modules/linear_model.html#logistic-regression\n",
      "  n_iter_i = _check_optimize_result(\n",
      "D:\\Anaconda\\lib\\site-packages\\sklearn\\linear_model\\_logistic.py:814: ConvergenceWarning: lbfgs failed to converge (status=1):\n",
      "STOP: TOTAL NO. of ITERATIONS REACHED LIMIT.\n",
      "\n",
      "Increase the number of iterations (max_iter) or scale the data as shown in:\n",
      "    https://scikit-learn.org/stable/modules/preprocessing.html\n",
      "Please also refer to the documentation for alternative solver options:\n",
      "    https://scikit-learn.org/stable/modules/linear_model.html#logistic-regression\n",
      "  n_iter_i = _check_optimize_result(\n"
     ]
    },
    {
     "name": "stdout",
     "output_type": "stream",
     "text": [
      "[LogisticRegression (No scaling)] score: 0.8529411764705882, training time : 37.6084771156311, prediction time : 0.09973311424255371\n",
      "[LogisticRegression (StandardScaler)] score: 0.8572192513368984, training time : 33.245176792144775, prediction time : 0.0468745231628418\n",
      "[LogisticRegression (RobustScaler)] score: 0.7411764705882353, training time : 32.460267305374146, prediction time : 0.04388260841369629\n",
      "[LogisticRegression (MinMaxScaler)] score: 0.8549910873440285, training time : 33.67601680755615, prediction time : 0.04787492752075195\n",
      "[LogisticRegression (Normalizer)] score: 0.8513368983957219, training time : 35.00854229927063, prediction time : 0.04387974739074707\n",
      "[KNearest Neighbors (No scaling)] score: 0.9194295900178253, training time : 0.12670254707336426, prediction time : 44.78407120704651\n",
      "[KNearest Neighbors (StandardScaler)] score: 0.8982174688057041, training time : 0.5558485984802246, prediction time : 37.65645956993103\n",
      "[KNearest Neighbors (RobustScaler)] score: 0.7083778966131907, training time : 0.7719366550445557, prediction time : 40.78353214263916\n",
      "[KNearest Neighbors (MinMaxScaler)] score: 0.9194295900178253, training time : 0.9265377521514893, prediction time : 41.44326400756836\n",
      "[KNearest Neighbors (Normalizer)] score: 0.935204991087344, training time : 0.7350001335144043, prediction time : 42.84217643737793\n",
      "[Decision Tree (No scaling)] score: 0.8210338680926916, training time : 38.917059898376465, prediction time : 0.05086326599121094\n",
      "[Decision Tree (StandardScaler)] score: 0.8241532976827094, training time : 36.35286521911621, prediction time : 0.05585169792175293\n",
      "[Decision Tree (RobustScaler)] score: 0.8225490196078431, training time : 36.624138832092285, prediction time : 0.03793001174926758\n",
      "[Decision Tree (MinMaxScaler)] score: 0.8236185383244207, training time : 36.64417576789856, prediction time : 0.0827796459197998\n",
      "[Decision Tree (Normalizer)] score: 0.8248663101604278, training time : 63.357014417648315, prediction time : 0.03693270683288574\n",
      "[Random Forest (No scaling)] score: 0.9227272727272727, training time : 78.96402072906494, prediction time : 0.8688890933990479\n",
      "[Random Forest (StandardScaler)] score: 0.9250445632798574, training time : 69.39338326454163, prediction time : 0.56551194190979\n",
      "[Random Forest (RobustScaler)] score: 0.9237076648841355, training time : 70.46089291572571, prediction time : 0.5565457344055176\n",
      "[Random Forest (MinMaxScaler)] score: 0.9223707664884135, training time : 70.40272641181946, prediction time : 0.5953798294067383\n",
      "[Random Forest (Normalizer)] score: 0.921301247771836, training time : 103.12043285369873, prediction time : 0.5774846076965332\n",
      "[Multi-Layter Perceptron (No scaling)] score: 0.9163101604278074, training time : 175.08818435668945, prediction time : 0.10507702827453613\n",
      "[Multi-Layter Perceptron (StandardScaler)] score: 0.9325311942959001, training time : 112.44429779052734, prediction time : 0.09872674942016602\n",
      "[Multi-Layter Perceptron (RobustScaler)] score: 0.8837789661319073, training time : 164.27904629707336, prediction time : 0.07878470420837402\n",
      "[Multi-Layter Perceptron (MinMaxScaler)] score: 0.9396613190730838, training time : 122.51053237915039, prediction time : 0.08377361297607422\n",
      "[Multi-Layter Perceptron (Normalizer)] score: 0.9408199643493761, training time : 352.414217710495, prediction time : 0.213425874710083\n",
      "[SVM (No scaling)] score: 0.9306595365418895, training time : 476.9626204967499, prediction time : 150.90215873718262\n",
      "[SVM (StandardScaler)] score: 0.9121212121212121, training time : 582.1087603569031, prediction time : 155.00282454490662\n",
      "[SVM (RobustScaler)] score: 0.7288770053475936, training time : 1055.7238674163818, prediction time : 304.83946681022644\n",
      "[SVM (MinMaxScaler)] score: 0.9306595365418895, training time : 436.2021586894989, prediction time : 136.66978693008423\n",
      "[SVM (Normalizer)] score: 0.9470588235294117, training time : 431.31969380378723, prediction time : 136.55714988708496\n",
      "[Gaussian Naive Bayes (No scaling)] score: 0.7009803921568627, training time : 1.8162047863006592, prediction time : 1.1711978912353516\n",
      "[Gaussian Naive Bayes (StandardScaler)] score: 0.7009803921568627, training time : 1.328453540802002, prediction time : 1.0841012001037598\n",
      "[Gaussian Naive Bayes (RobustScaler)] score: 0.7008021390374332, training time : 0.9245331287384033, prediction time : 1.0092711448669434\n",
      "[Gaussian Naive Bayes (MinMaxScaler)] score: 0.7009803921568627, training time : 0.9335062503814697, prediction time : 1.032273769378662\n",
      "[Gaussian Naive Bayes (Normalizer)] score: 0.6844028520499109, training time : 0.9274919033050537, prediction time : 1.0183079242706299\n",
      "[Nearest Centroid (No scaling)] score: 0.7486631016042781, training time : 0.36984896659851074, prediction time : 0.11484980583190918\n",
      "[Nearest Centroid (StandardScaler)] score: 0.74126559714795, training time : 0.3620336055755615, prediction time : 0.0578465461730957\n",
      "[Nearest Centroid (RobustScaler)] score: 0.4875222816399287, training time : 0.3062121868133545, prediction time : 0.05784773826599121\n",
      "[Nearest Centroid (MinMaxScaler)] score: 0.7486631016042781, training time : 0.2922170162200928, prediction time : 0.060840606689453125\n",
      "[Nearest Centroid (Normalizer)] score: 0.7548128342245989, training time : 0.3031630516052246, prediction time : 0.05884361267089844\n"
     ]
    }
   ],
   "source": [
    "from sklearn.linear_model import SGDClassifier\n",
    "from sklearn.linear_model import LogisticRegression\n",
    "from sklearn.neighbors import KNeighborsClassifier\n",
    "from sklearn.neural_network import MLPClassifier\n",
    "from sklearn.svm import SVC\n",
    "from sklearn.naive_bayes import GaussianNB\n",
    "from sklearn.neighbors import NearestCentroid\n",
    "from sklearn.naive_bayes import MultinomialNB\n",
    "from sklearn.tree import DecisionTreeClassifier\n",
    "from sklearn.ensemble import RandomForestClassifier\n",
    "\n",
    "import time\n",
    "\n",
    "names=[\"SGD\",\"LogisticRegression\",\n",
    "       \"KNearest Neighbors\",\n",
    "       \"Decision Tree\",\n",
    "       \"Random Forest\",\n",
    "       \"Multi-Layter Perceptron\",\n",
    "       \"SVM\",\n",
    "       \"Gaussian Naive Bayes\",\n",
    "       \"Nearest Centroid\",\"Multinomial Naive Bayes\"]\n",
    "\n",
    "classifiers=[\n",
    "    SGDClassifier(),\n",
    "    LogisticRegression(),\n",
    "    KNeighborsClassifier(),\n",
    "    DecisionTreeClassifier(),\n",
    "    RandomForestClassifier(),\n",
    "    MLPClassifier(),\n",
    "    SVC(),\n",
    "    GaussianNB(),\n",
    "    NearestCentroid(),\n",
    "    MultinomialNB()\n",
    "]\n",
    "\n",
    "    \n",
    "for name,clf in zip(names,classifiers):\n",
    "    scaling_names=['No scaling','StandardScaler',\"RobustScaler\",\"MinMaxScaler\",\"Normalizer\"]\n",
    "    t_scores=[]\n",
    "    t_fit_times=[]\n",
    "    t_pred_times=[]\n",
    "    \n",
    "    #no scaling\n",
    "    score,fit_time,pred_time=fit_and_calScoreTime(clf,X_train,X_test,y_train,y_test)\n",
    "    t_scores.append(score)\n",
    "    t_fit_times.append(fit_time)\n",
    "    t_pred_times.append(pred_time)\n",
    "    \n",
    "    try:\n",
    "        #standardScaler\n",
    "        sscore,sfit_time,spred_time=fit_and_calScoreTime(clf,X_train_scaled,X_test_scaled,y_train,y_test)\n",
    "        t_scores.append(sscore)\n",
    "        t_fit_times.append(sfit_time)\n",
    "        t_pred_times.append(spred_time)\n",
    "    \n",
    "        #robustScaler\n",
    "        rscore,rfit_time,rpred_time=fit_and_calScoreTime(clf,X_train_rscaled,X_test_rscaled,y_train,y_test)\n",
    "        t_scores.append(rscore)\n",
    "        t_fit_times.append(rfit_time)\n",
    "        t_pred_times.append(rpred_time)\n",
    "    \n",
    "        #minmaxScaler\n",
    "        mscore,mfit_time,mpred_time=fit_and_calScoreTime(clf,X_train_mscaled,X_test_mscaled,y_train,y_test)\n",
    "        t_scores.append(mscore)\n",
    "        t_fit_times.append(mfit_time)\n",
    "        t_pred_times.append(mpred_time)\n",
    "    \n",
    "        #normalizer\n",
    "        nscore,nfit_time,npred_time=fit_and_calScoreTime(clf,X_train_normalized,X_test_normalized,y_train,y_test)\n",
    "        t_scores.append(nscore)\n",
    "        t_fit_times.append(nfit_time)\n",
    "        t_pred_times.append(npred_time)\n",
    "    \n",
    "        for i in range(len(scaling_names)):\n",
    "            input_name=name+'('+scaling_names[i]+')'\n",
    "            print(f\"[{name} ({scaling_names[i]})] score: {t_scores[i]}, training time : {t_fit_times[i]}, prediction time : {t_pred_times[i]}\")\n",
    "            scores[input_name]=t_scores[i]\n",
    "            processing_times[input_name]=t_fit_times[i]\n",
    "            predict_times[input_name]=t_pred_times[i]\n",
    "            \n",
    "    except ValueError:\n",
    "        continue"
   ]
  },
  {
   "cell_type": "code",
   "execution_count": 21,
   "id": "d5b95970",
   "metadata": {},
   "outputs": [
    {
     "name": "stdout",
     "output_type": "stream",
     "text": [
      "[best 4 models in accuracy score]\n",
      "SVM(Normalizer)\n",
      "Multi-Layter Perceptron(Normalizer)\n",
      "Multi-Layter Perceptron(MinMaxScaler)\n",
      "KNearest Neighbors(Normalizer)\n",
      "\n",
      "[best 4 models in training time]\n",
      "KNearest Neighbors(No scaling)\n",
      "Nearest Centroid(MinMaxScaler)\n",
      "Nearest Centroid(Normalizer)\n",
      "Nearest Centroid(RobustScaler)\n",
      "\n",
      "[best 4 models in prediction time]\n",
      "Decision Tree(Normalizer)\n",
      "Decision Tree(RobustScaler)\n",
      "LogisticRegression(Normalizer)\n",
      "LogisticRegression(RobustScaler)\n",
      "\n"
     ]
    }
   ],
   "source": [
    "#비교하는 cell\n",
    "import operator\n",
    "#각각 딕셔너리 내림차순으로 정렬하기위해서 list형식으로 바뀜\n",
    "#(('svm',숫자),('mlp',숫자), ... ) <--이런 형식으로 바뀜\n",
    "sorted_scores=sorted(scores.items(),key=operator.itemgetter(1),reverse=True)\n",
    "sorted_processing_times=sorted(processing_times.items(),key=operator.itemgetter(1))\n",
    "sorted_predict_times=sorted(predict_times.items(),key=operator.itemgetter(1))\n",
    "\n",
    "def print_n_best_models(list,string,n): #list에서 상위 몇개를 출력하는 함수\n",
    "    print(string)\n",
    "    for i in range(n):\n",
    "        key=list[i][0]\n",
    "        print(key)\n",
    "    print(\"\")\n",
    "\n",
    "print_n_best_models(sorted_scores,\"[best 4 models in accuracy score]\",4)\n",
    "print_n_best_models(sorted_processing_times,\"[best 4 models in training time]\",4)\n",
    "print_n_best_models(sorted_predict_times,\"[best 4 models in prediction time]\",4)\n"
   ]
  },
  {
   "cell_type": "markdown",
   "id": "07a9f21d",
   "metadata": {},
   "source": [
    "### 결과\n",
    "1. [SVM (Normalizer)] score: 0.9470588235294117, training time : 431.31969380378723, prediction time : 136.55714988708496\n",
    "\n",
    "\n",
    "2. [Multi-Layter Perceptron (Normalizer)] score: 0.9408199643493761, training time : 352.414217710495, prediction time : 0.213425874710083\n",
    "\n",
    "\n",
    "3. [Multi-Layter Perceptron (MinMaxScaler)] score: 0.9396613190730838, training time : 122.51053237915039, prediction time : 0.08377361297607422\n",
    "\n",
    "\n",
    "4. [KNearest Neighbors (Normalizer)] score: 0.935204991087344, training time : 0.7350001335144043, prediction time : 42.84217643737793\n",
    "\n",
    "\n",
    "MLP와 SVM의 경우 정확도는 높지만 소요시간이 오래 걸리는 반면 KNN은 정확도는 다소 떨어지지만 소요시간이 현저히 줄어드는 것을 알 수 있다. 또한 Normalizer를 사용한 경우가 대체로 모델 성능을 향상시켜주는 것으로 보인다. (예측 시간이 가장 짧은 Decision Tree는 정확도가 떨어지는 관계로 사용하지 않음)"
   ]
  },
  {
   "cell_type": "markdown",
   "id": "e8d6369c",
   "metadata": {},
   "source": [
    "- KNN Classifier 최적의 조건 탐색 "
   ]
  },
  {
   "cell_type": "code",
   "execution_count": 22,
   "id": "01511ee1",
   "metadata": {},
   "outputs": [
    {
     "name": "stdout",
     "output_type": "stream",
     "text": [
      "n: 1 weights: uniform -> acc: 0.9380570409982175\n",
      "n: 1 weights: distance -> acc: 0.9380570409982175\n",
      "n: 2 weights: uniform -> acc: 0.9303921568627451\n",
      "n: 2 weights: distance -> acc: 0.9380570409982175\n",
      "n: 3 weights: uniform -> acc: 0.9350267379679145\n",
      "n: 3 weights: distance -> acc: 0.9399286987522282\n",
      "n: 4 weights: uniform -> acc: 0.9358288770053476\n",
      "n: 4 weights: distance -> acc: 0.9406417112299466\n",
      "n: 5 weights: uniform -> acc: 0.935204991087344\n",
      "n: 5 weights: distance -> acc: 0.9388591800356506\n"
     ]
    }
   ],
   "source": [
    "for n in [1,2,3,4,5]:\n",
    "    for weights in ['uniform', 'distance']:\n",
    "\n",
    "    #st_tr = time.time()\n",
    "        knn_nor_clf = KNeighborsClassifier(n_neighbors = n, weights = weights)\n",
    "        knn_nor_clf.fit(X_train_normalized, y_train)\n",
    "    #end_tr = time.time() - st_tr\n",
    "    \n",
    "    #st_ts = time.time()\n",
    "        y_predict = knn_nor_clf.predict(X_test_normalized)\n",
    "    #end_ts = time.time() - st_ts\n",
    "    \n",
    "        acc = accuracy_score(y_test, y_predict)\n",
    "        print('n:', n, 'weights:', weights, '->', 'acc:', acc)"
   ]
  },
  {
   "cell_type": "code",
   "execution_count": 23,
   "id": "73390257",
   "metadata": {
    "scrolled": true
   },
   "outputs": [
    {
     "name": "stdout",
     "output_type": "stream",
     "text": [
      "n: 6 weights: uniform -> acc: 0.9331550802139037\n",
      "n: 6 weights: distance -> acc: 0.9377005347593583\n",
      "n: 7 weights: uniform -> acc: 0.932174688057041\n",
      "n: 7 weights: distance -> acc: 0.9370766488413548\n",
      "n: 8 weights: uniform -> acc: 0.9311051693404635\n",
      "n: 8 weights: distance -> acc: 0.9370766488413548\n",
      "n: 9 weights: uniform -> acc: 0.9288770053475935\n",
      "n: 9 weights: distance -> acc: 0.9348484848484848\n",
      "n: 10 weights: uniform -> acc: 0.9257575757575758\n",
      "n: 10 weights: distance -> acc: 0.9339572192513369\n"
     ]
    }
   ],
   "source": [
    "for n in [6,7,8,9,10]:\n",
    "    for weights in ['uniform', 'distance']:\n",
    "\n",
    "    #st_tr = time.time()\n",
    "        knn_nor_clf = KNeighborsClassifier(n_neighbors = n, weights = weights)\n",
    "        knn_nor_clf.fit(X_train_normalized, y_train)\n",
    "    #end_tr = time.time() - st_tr\n",
    "    \n",
    "    #st_ts = time.time()\n",
    "        y_predict = knn_nor_clf.predict(X_test_normalized)\n",
    "    #end_ts = time.time() - st_ts\n",
    "    \n",
    "        acc = accuracy_score(y_test, y_predict)\n",
    "        print('n:', n, 'weights:', weights, '->', 'acc:', acc)"
   ]
  },
  {
   "cell_type": "markdown",
   "id": "4d0f2997",
   "metadata": {},
   "source": [
    "-> n_neighbors = 4, weights = distance 일 때 최대, 하지만 SVM, MLP의 정확도를 넘지는 못함"
   ]
  },
  {
   "cell_type": "markdown",
   "id": "a02bf7fa",
   "metadata": {},
   "source": [
    "- MLP Classifier 최적의 조건 탐색 "
   ]
  },
  {
   "cell_type": "code",
   "execution_count": 24,
   "id": "de2cd085",
   "metadata": {},
   "outputs": [
    {
     "name": "stdout",
     "output_type": "stream",
     "text": [
      "a: 1e-05 -> acc: 0.9398395721925134\n",
      "a: 0.0001 -> acc: 0.9412655971479501\n",
      "a: 0.001 -> acc: 0.9427807486631016\n",
      "a: 0.01 -> acc: 0.9435828877005348\n",
      "a: 0.1 -> acc: 0.9462566844919786\n",
      "a: 1 -> acc: 0.8920677361853833\n",
      "a: 10 -> acc: 0.8114081996434938\n"
     ]
    }
   ],
   "source": [
    "#minmaxScaler\n",
    "for a in [0.00001,0.0001,0.001,0.01, 0.1,1, 10]:\n",
    "    #for mi in [10,100,200,500,1000,2000]:\n",
    "\n",
    "    mlp_mm_clf = MLPClassifier(alpha = a)\n",
    "    mlp_mm_clf.fit(X_train_mscaled, y_train)\n",
    "\n",
    "    y_predict = mlp_mm_clf.predict(X_test_mscaled)\n",
    "\n",
    "    acc = accuracy_score(y_test, y_predict)\n",
    "    print('a:', a,'->', 'acc:', acc)"
   ]
  },
  {
   "cell_type": "code",
   "execution_count": 25,
   "id": "4503ceae",
   "metadata": {},
   "outputs": [
    {
     "name": "stderr",
     "output_type": "stream",
     "text": [
      "D:\\Anaconda\\lib\\site-packages\\sklearn\\neural_network\\_multilayer_perceptron.py:692: ConvergenceWarning: Stochastic Optimizer: Maximum iterations (10) reached and the optimization hasn't converged yet.\n",
      "  warnings.warn(\n"
     ]
    },
    {
     "name": "stdout",
     "output_type": "stream",
     "text": [
      "mi: 10 -> acc: 0.9323529411764706\n"
     ]
    },
    {
     "name": "stderr",
     "output_type": "stream",
     "text": [
      "D:\\Anaconda\\lib\\site-packages\\sklearn\\neural_network\\_multilayer_perceptron.py:692: ConvergenceWarning: Stochastic Optimizer: Maximum iterations (100) reached and the optimization hasn't converged yet.\n",
      "  warnings.warn(\n"
     ]
    },
    {
     "name": "stdout",
     "output_type": "stream",
     "text": [
      "mi: 100 -> acc: 0.9478609625668449\n",
      "mi: 200 -> acc: 0.9489304812834225\n",
      "mi: 500 -> acc: 0.9455436720142603\n",
      "mi: 1000 -> acc: 0.9470588235294117\n",
      "mi: 2000 -> acc: 0.9485739750445633\n"
     ]
    }
   ],
   "source": [
    "for mi in [10, 100, 200, 500,1000,2000]:\n",
    "\n",
    "    mlp_mm_clf = MLPClassifier(alpha = 0.1, max_iter = mi)\n",
    "    mlp_mm_clf.fit(X_train_mscaled, y_train)\n",
    "\n",
    "    y_predict = mlp_mm_clf.predict(X_test_mscaled)\n",
    "\n",
    "    acc = accuracy_score(y_test, y_predict)\n",
    "    print('mi:', mi,'->', 'acc:', acc)"
   ]
  },
  {
   "cell_type": "code",
   "execution_count": 63,
   "id": "9ec75eee",
   "metadata": {},
   "outputs": [
    {
     "name": "stderr",
     "output_type": "stream",
     "text": [
      "D:\\Anaconda\\lib\\site-packages\\sklearn\\neural_network\\_multilayer_perceptron.py:692: ConvergenceWarning: Stochastic Optimizer: Maximum iterations (10) reached and the optimization hasn't converged yet.\n",
      "  warnings.warn(\n"
     ]
    },
    {
     "name": "stdout",
     "output_type": "stream",
     "text": [
      "mi: 10 -> acc: 0.9331550802139037\n"
     ]
    },
    {
     "name": "stderr",
     "output_type": "stream",
     "text": [
      "D:\\Anaconda\\lib\\site-packages\\sklearn\\neural_network\\_multilayer_perceptron.py:692: ConvergenceWarning: Stochastic Optimizer: Maximum iterations (100) reached and the optimization hasn't converged yet.\n",
      "  warnings.warn(\n"
     ]
    },
    {
     "name": "stdout",
     "output_type": "stream",
     "text": [
      "mi: 100 -> acc: 0.9466131907308378\n",
      "mi: 200 -> acc: 0.9470588235294117\n",
      "mi: 500 -> acc: 0.9470588235294117\n",
      "mi: 1000 -> acc: 0.9470588235294117\n",
      "mi: 2000 -> acc: 0.9470588235294117\n"
     ]
    }
   ],
   "source": [
    "for mi in [10, 100, 200, 500,1000,2000]:\n",
    "\n",
    "    mlp_mm_clf = MLPClassifier(alpha = 0.1, max_iter = mi, random_state = 42)\n",
    "    mlp_mm_clf.fit(X_train_mscaled, y_train)\n",
    "\n",
    "    y_predict = mlp_mm_clf.predict(X_test_mscaled)\n",
    "\n",
    "    acc = accuracy_score(y_test, y_predict)\n",
    "    print('mi:', mi,'->', 'acc:', acc)"
   ]
  },
  {
   "cell_type": "markdown",
   "id": "5de84faf",
   "metadata": {},
   "source": [
    "-> alpha = 0.1, max_iter = 200 이상일 때 최대로 동일하므로 max_iter값 중 가장 작은 값인 200으로 결정"
   ]
  },
  {
   "cell_type": "code",
   "execution_count": 26,
   "id": "2da69ff6",
   "metadata": {
    "scrolled": true
   },
   "outputs": [
    {
     "name": "stdout",
     "output_type": "stream",
     "text": [
      "a: 1e-05 -> acc: 0.942602495543672\n",
      "a: 0.0001 -> acc: 0.9393048128342246\n",
      "a: 0.001 -> acc: 0.941711229946524\n"
     ]
    },
    {
     "name": "stderr",
     "output_type": "stream",
     "text": [
      "D:\\Anaconda\\lib\\site-packages\\sklearn\\neural_network\\_multilayer_perceptron.py:692: ConvergenceWarning: Stochastic Optimizer: Maximum iterations (200) reached and the optimization hasn't converged yet.\n",
      "  warnings.warn(\n"
     ]
    },
    {
     "name": "stdout",
     "output_type": "stream",
     "text": [
      "a: 0.01 -> acc: 0.9470588235294117\n",
      "a: 0.1 -> acc: 0.913458110516934\n"
     ]
    }
   ],
   "source": [
    "#normalScaler\n",
    "for a in [0.00001,0.0001,0.001,0.01, 0.1]:\n",
    "    mlp_nor_clf = MLPClassifier(alpha = a)\n",
    "    mlp_nor_clf.fit(X_train_normalized, y_train)\n",
    "\n",
    "    y_predict = mlp_nor_clf.predict(X_test_normalized)\n",
    "\n",
    "    acc = accuracy_score(y_test, y_predict)\n",
    "    print('a:', a,'->', 'acc:', acc)"
   ]
  },
  {
   "cell_type": "markdown",
   "id": "e85a5cfb",
   "metadata": {},
   "source": [
    "-> alpha = 0.01 일 때 최대"
   ]
  },
  {
   "cell_type": "markdown",
   "id": "8408b89a",
   "metadata": {},
   "source": [
    "- SVM Classifier 최적의 조건 탐색 "
   ]
  },
  {
   "cell_type": "code",
   "execution_count": 27,
   "id": "d2a49d99",
   "metadata": {},
   "outputs": [
    {
     "name": "stdout",
     "output_type": "stream",
     "text": [
      "gamma: 0.01 -> acc: 0.8488413547237077\n",
      "gamma: 0.1 -> acc: 0.877361853832442\n",
      "gamma: 1 -> acc: 0.9450089126559715\n"
     ]
    }
   ],
   "source": [
    "for gamma in [0.01, 0.1, 1]:\n",
    "\n",
    "    svm_nor_clf = SVC(gamma = gamma)\n",
    "    svm_nor_clf.fit(X_train_normalized, y_train)\n",
    "\n",
    "    y_predict = svm_nor_clf.predict(X_test_normalized)\n",
    "\n",
    "    acc = accuracy_score(y_test, y_predict)\n",
    "    print('gamma:', gamma,'->', 'acc:', acc)\n",
    "\n",
    "    #'kernel': ['linear', 'poly', 'rbf', 'sigmoid', 'precomputed'],\n",
    "    #'learning_rate': ['constant', 'invscaling', 'adaptive']\n",
    "    #'C': [0.01, 0.1, 1, 10, 100]"
   ]
  },
  {
   "cell_type": "markdown",
   "id": "b1b42142",
   "metadata": {},
   "source": [
    "-> gamma = default 일 때 최대"
   ]
  },
  {
   "cell_type": "markdown",
   "id": "ab3da6ed",
   "metadata": {},
   "source": [
    "- 소요 시간 계산 후 best model 도출"
   ]
  },
  {
   "cell_type": "code",
   "execution_count": 28,
   "id": "edb4ae2b",
   "metadata": {},
   "outputs": [],
   "source": [
    "st_knn_tr = time.time()\n",
    "best_knn_clf = KNeighborsClassifier(n_neighbors = 4, weights = 'distance')\n",
    "best_knn_clf.fit(X_train_normalized, y_train)\n",
    "end_knn_tr = time.time() - st_knn_tr\n",
    "    \n",
    "st_knn_ts = time.time()\n",
    "y_predict1 = best_knn_clf.predict(X_test_normalized)\n",
    "end_knn_ts = time.time() - st_knn_ts"
   ]
  },
  {
   "cell_type": "code",
   "execution_count": 75,
   "id": "8880f5e3",
   "metadata": {},
   "outputs": [],
   "source": [
    "st_mlp_mm_tr = time.time()\n",
    "best_mlp_mm_clf = MLPClassifier(alpha = 0.1, max_iter = 200, random_state = 42)\n",
    "best_mlp_mm_clf.fit(X_train_mscaled, y_train)\n",
    "end_mlp_mm_tr = time.time() - st_mlp_mm_tr\n",
    "    \n",
    "st_mlp_mm_ts = time.time()\n",
    "y_predict2 = best_mlp_mm_clf.predict(X_test_mscaled)\n",
    "end_mlp_mm_ts = time.time() - st_mlp_mm_ts"
   ]
  },
  {
   "cell_type": "code",
   "execution_count": 30,
   "id": "5e1ca6eb",
   "metadata": {},
   "outputs": [],
   "source": [
    "st_mlp_nor_tr = time.time()\n",
    "best_mlp_nor_clf = MLPClassifier(alpha = 0.01)\n",
    "best_mlp_nor_clf.fit(X_train_normalized, y_train)\n",
    "end_mlp_nor_tr = time.time() - st_mlp_nor_tr\n",
    "    \n",
    "st_mlp_nor_ts = time.time()\n",
    "y_predict3 = best_mlp_nor_clf.predict(X_test_normalized)\n",
    "end_mlp_nor_ts = time.time() - st_mlp_nor_ts"
   ]
  },
  {
   "cell_type": "code",
   "execution_count": 31,
   "id": "2c5d912f",
   "metadata": {},
   "outputs": [],
   "source": [
    "st_svm_tr = time.time()\n",
    "best_svm_clf = SVC()\n",
    "best_svm_clf.fit(X_train_normalized, y_train)\n",
    "end_svm_tr = time.time() - st_svm_tr\n",
    "    \n",
    "st_svm_ts = time.time()\n",
    "y_predict4 = best_svm_clf.predict(X_test_normalized)\n",
    "end_svm_ts = time.time() - st_svm_ts"
   ]
  },
  {
   "cell_type": "code",
   "execution_count": 76,
   "id": "ba767475",
   "metadata": {},
   "outputs": [
    {
     "name": "stdout",
     "output_type": "stream",
     "text": [
      "knn: 0.9406417112299466\n",
      "mlp_mm: 0.9470588235294117\n",
      "mlp_nor: 0.946078431372549\n",
      "svm: 0.9470588235294117\n"
     ]
    }
   ],
   "source": [
    "print('knn:',accuracy_score(y_test, y_predict1))\n",
    "print('mlp_mm:',accuracy_score(y_test, y_predict2))\n",
    "print('mlp_nor:',accuracy_score(y_test, y_predict3))\n",
    "print('svm:',accuracy_score(y_test, y_predict4))"
   ]
  },
  {
   "cell_type": "code",
   "execution_count": 77,
   "id": "196eae24",
   "metadata": {},
   "outputs": [
    {
     "name": "stdout",
     "output_type": "stream",
     "text": [
      "knn training time: 0.153886079788208 knn predict time: 35.61906123161316\n",
      "mlp_mm training time: 382.18697929382324 mlp mm predict time: 0.15657472610473633\n",
      "mlp_nor training time: 611.728809595108 mlp nor predict time: 0.36003589630126953\n",
      "svm training time: 491.11607336997986 svm predict time: 167.61814856529236\n"
     ]
    }
   ],
   "source": [
    "print('knn training time:', end_knn_tr, 'knn predict time:', end_knn_ts)\n",
    "print('mlp_mm training time:', end_mlp_mm_tr, 'mlp mm predict time:', end_mlp_mm_ts)\n",
    "print('mlp_nor training time:', end_mlp_nor_tr, 'mlp nor predict time:', end_mlp_nor_ts)\n",
    "print('svm training time:', end_svm_tr, 'svm predict time:', end_svm_ts)"
   ]
  },
  {
   "cell_type": "markdown",
   "id": "d1e00272",
   "metadata": {},
   "source": [
    "**-> MLP(minmax scaler/alpha = 0.1, max_iter = 1000) 모델이 가장 빠름**\n",
    "\n",
    "**(epoch에 따른 learning curve 그래프 자세한 부분은 model_epoch_graph 파일을 참조바랍니다)**"
   ]
  },
  {
   "cell_type": "markdown",
   "id": "2c4e156b",
   "metadata": {},
   "source": [
    "- Voting Classifier 생성 후 비교"
   ]
  },
  {
   "cell_type": "code",
   "execution_count": 33,
   "id": "dbde5e2c",
   "metadata": {},
   "outputs": [
    {
     "name": "stdout",
     "output_type": "stream",
     "text": [
      "acc: 0.9507130124777183 vot training time: 863.3136026859283 vot predict time: 174.56333780288696\n"
     ]
    }
   ],
   "source": [
    "#normalized data 사용 (MLP minmax 모델은 사용하지 않음)\n",
    "from sklearn.ensemble import VotingClassifier\n",
    "\n",
    "named_estimators = [\n",
    "    (\"knn_clf\", best_knn_clf),\n",
    "    (\"mlp_clf\", best_mlp_nor_clf),\n",
    "    (\"svm_clf\", best_svm_clf),\n",
    "]\n",
    "\n",
    "st_vot_tr = time.time()\n",
    "voting_clf = VotingClassifier(named_estimators)\n",
    "voting_clf.fit(X_train_normalized, y_train)\n",
    "end_vot_tr = time.time() - st_vot_tr\n",
    "\n",
    "st_vot_ts = time.time()\n",
    "y_predict = voting_clf.predict(X_test_normalized)\n",
    "end_vot_ts = time.time() - st_vot_ts\n",
    "acc = accuracy_score(y_test, y_predict)\n",
    "\n",
    "print('acc:',acc,'vot training time:', end_vot_tr, 'vot predict time:', end_vot_ts)"
   ]
  },
  {
   "cell_type": "markdown",
   "id": "ce2e1c6a",
   "metadata": {},
   "source": [
    "-> 정확도는 높아지지만 예측시간이 오래 걸림"
   ]
  },
  {
   "cell_type": "markdown",
   "id": "1236d067",
   "metadata": {},
   "source": [
    "### 최종결론\n",
    "**예측 시간이 가장 빠른  MLP(minmax scaler/alpha = 0.1, max_iter = 1000) 모델 선택**"
   ]
  },
  {
   "cell_type": "code",
   "execution_count": 73,
   "id": "5c8cff46",
   "metadata": {},
   "outputs": [],
   "source": [
    "best_clf = best_mlp_mm_clf"
   ]
  },
  {
   "cell_type": "code",
   "execution_count": 92,
   "id": "aced4851",
   "metadata": {},
   "outputs": [
    {
     "name": "stdout",
     "output_type": "stream",
     "text": [
      "acc: 0.9470588235294117 predict time: 0.12766242027282715\n"
     ]
    }
   ],
   "source": [
    "st_mlp_mm_ts = time.time()\n",
    "y_predict2 = best_mlp_mm_clf.predict(X_test_mscaled)\n",
    "end_mlp_mm_ts = time.time() - st_mlp_mm_ts\n",
    "print('acc:',accuracy_score(y_test, y_predict2),'predict time:', end_mlp_mm_ts)"
   ]
  },
  {
   "cell_type": "code",
   "execution_count": null,
   "id": "3ed8b480",
   "metadata": {},
   "outputs": [],
   "source": []
  }
 ],
 "metadata": {
  "kernelspec": {
   "display_name": "Python 3 (ipykernel)",
   "language": "python",
   "name": "python3"
  },
  "language_info": {
   "codemirror_mode": {
    "name": "ipython",
    "version": 3
   },
   "file_extension": ".py",
   "mimetype": "text/x-python",
   "name": "python",
   "nbconvert_exporter": "python",
   "pygments_lexer": "ipython3",
   "version": "3.9.7"
  }
 },
 "nbformat": 4,
 "nbformat_minor": 5
}
